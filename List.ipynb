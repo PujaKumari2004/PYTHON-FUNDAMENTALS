{
 "cells": [
  {
   "cell_type": "code",
   "execution_count": 1,
   "id": "7ab710c9-17e3-4ee4-9693-8c09d411232e",
   "metadata": {},
   "outputs": [
    {
     "name": "stdout",
     "output_type": "stream",
     "text": [
      "<class 'list'>\n"
     ]
    }
   ],
   "source": [
    "l1 = [1,2,3,4,5]\n",
    "print(type(l1))"
   ]
  },
  {
   "cell_type": "code",
   "execution_count": 7,
   "id": "37dca5c7-dbc5-425a-9bfc-4790f7243031",
   "metadata": {},
   "outputs": [
    {
     "name": "stdout",
     "output_type": "stream",
     "text": [
      "5\n",
      "12\n",
      "23\n",
      "76\n",
      "45\n",
      "90\n",
      "90\n",
      "45\n",
      "76\n",
      "23\n",
      "12\n",
      "[12, 23]\n",
      "[23, 76, 45]\n",
      "[23, 76, 45, 90]\n",
      "[12, 23, 76, 45, 90]\n",
      "[76, 45]\n"
     ]
    }
   ],
   "source": [
    "l2 = [1, 2.5, \"N\", True]\n",
    "l3 = [12, 23, 76, 45, 90]\n",
    "\n",
    "print(len(l3))\n",
    "\n",
    "#positive indexing\n",
    "print(l3[0])\n",
    "print(l3[1])\n",
    "print(l3[2])\n",
    "print(l3[3])\n",
    "print(l3[4])\n",
    "\n",
    "#negative indexing\n",
    "print(l3[-1])\n",
    "print(l3[-2])\n",
    "print(l3[-3])\n",
    "print(l3[-4])\n",
    "print(l3[-5])\n",
    "\n",
    "#slicing\n",
    "print(l3[0:2])\n",
    "print(l3[1:4])\n",
    "print(l3[1:5])\n",
    "print(l3[0:5])\n",
    "print(l3[2:4])"
   ]
  },
  {
   "cell_type": "code",
   "execution_count": 21,
   "id": "e5a4d306-b69f-4661-8fed-a6930a1c067a",
   "metadata": {},
   "outputs": [
    {
     "name": "stdout",
     "output_type": "stream",
     "text": [
      "5\n",
      "<class 'list'>\n",
      "apple\n",
      "mango\n",
      "banana\n",
      "watermelon\n",
      "orange\n",
      "['apple', 'mango', 'banana', 'watermelon']\n"
     ]
    }
   ],
   "source": [
    "l4 = [\"apple\", \"mango\", \"banana\", \"watermelon\", \"orange\"]\n",
    "print(len(l4))\n",
    "print(type(l4))\n",
    "print(l4[0])\n",
    "print(l4[1])\n",
    "print(l4[2])\n",
    "print(l4[3])\n",
    "print(l4[4])\n",
    "#print(l4[5])\n",
    "#print(l4[6])\n",
    "\n",
    "print(l4[0:4])"
   ]
  },
  {
   "cell_type": "code",
   "execution_count": 34,
   "id": "887b956e-2b36-4b3d-9762-0317b8647a2f",
   "metadata": {},
   "outputs": [
    {
     "name": "stdout",
     "output_type": "stream",
     "text": [
      "5\n",
      "4\n",
      "[2, 3, 4, 5]\n",
      "[1, 2, 3]\n",
      "[2, 3, 4, 5]\n",
      "[1, 2, 3]\n",
      "[2, 3]\n"
     ]
    }
   ],
   "source": [
    "l1 = [1,2,3,4,5]\n",
    "print(l1[-1])\n",
    "print(l1[-2])\n",
    "print(l1[1:])\n",
    "print(l1[:3])\n",
    "print(l1[-4:])\n",
    "print(l1[:-2])\n",
    "print(l1[-4:-2])"
   ]
  },
  {
   "cell_type": "code",
   "execution_count": 72,
   "id": "02cc7210-511a-405c-acdd-05c88f0dd945",
   "metadata": {},
   "outputs": [
    {
     "name": "stdout",
     "output_type": "stream",
     "text": [
      "['coconut', 'mango', 'banana', 'watermelon', 'kiwi', 'cherry']\n",
      "['coconut', 'mango', 'guava', 'guava', 'kiwi', 'cherry']\n"
     ]
    }
   ],
   "source": [
    "l2 = [\"apple\", \"mango\", \"banana\", \"watermelon\", \"kiwi\", \"cherry\"]\n",
    "\n",
    "l2[0] = \"coconut\"\n",
    "print(l2)\n",
    "\n",
    "l2[2:4] = [\"guava\", \"guava\"]\n",
    "print(l2)\n",
    "\n"
   ]
  },
  {
   "cell_type": "code",
   "execution_count": 1,
   "id": "8d48502e-e555-41f9-895d-6a90f11f0418",
   "metadata": {},
   "outputs": [
    {
     "name": "stdout",
     "output_type": "stream",
     "text": [
      "['football', 'cricket', 'hockey', 'table tennis']\n",
      "['football', 'cricket', 'carrom', 'hockey', 'table tennis']\n",
      "['football', 'cricket', 'carrom', 'hockey', 'table tennis', 'a', 'b', 'c']\n"
     ]
    }
   ],
   "source": [
    "sports = [\"football\", \"cricket\", \"hockey\"]\n",
    "stud = [\"a\", \"b\", \"c\"]\n",
    "sports.append(\"table tennis\")\n",
    "print(sports)\n",
    "sports.insert(2, \"carrom\")\n",
    "print(sports)\n",
    "sports.extend(stud)\n",
    "print(sports)"
   ]
  },
  {
   "cell_type": "code",
   "execution_count": 1,
   "id": "638c49f5-10ec-44fc-88c0-8c65d782709f",
   "metadata": {},
   "outputs": [
    {
     "name": "stdout",
     "output_type": "stream",
     "text": [
      "['football', 'cricket', 'carrom', 'table tennis', 'a', 'b', 'c']\n",
      "['football', 'cricket', 'carrom', 'table tennis', 'b', 'c']\n",
      "['football', 'cricket', 'carrom', 'table tennis', 'b']\n",
      "['football', 'cricket', 'carrom', 'b']\n"
     ]
    }
   ],
   "source": [
    "sports = [\"football\", \"cricket\", \"carrom\", \"hockey\", \"table tennis\", \"a\", \"b\", \"c\"]\n",
    "sports.remove(\"hockey\")\n",
    "print(sports)\n",
    "sports.pop(4)\n",
    "print(sports)\n",
    "sports.pop()#removes the last element of the list\n",
    "print(sports)\n",
    "del sports[3]#important\n",
    "print(sports)"
   ]
  },
  {
   "cell_type": "code",
   "execution_count": 3,
   "id": "f63e72a6-d2db-4e64-af7a-e868b7b17db9",
   "metadata": {},
   "outputs": [
    {
     "name": "stdout",
     "output_type": "stream",
     "text": [
      "['football', 'cricket', 'carrom', 'table tennis', 'a', 'b', 'c']\n",
      "['football', 'cricket', 'carrom', 'table tennis', 'b', 'c']\n",
      "['football', 'cricket', 'carrom', 'table tennis', 'b']\n",
      "['football', 'cricket', 'carrom', 'b']\n",
      "['football', 'cricket']\n"
     ]
    }
   ],
   "source": [
    "sports = [\"football\", \"cricket\", \"carrom\", \"hockey\", \"table tennis\", \"a\", \"b\", \"c\"]\n",
    "sports.remove(\"hockey\")\n",
    "print(sports)\n",
    "sports.pop(4)\n",
    "print(sports)\n",
    "sports.pop()#removes the last element of the list\n",
    "print(sports)\n",
    "del sports[3]#important\n",
    "print(sports)\n",
    "del sports[2:5]\n",
    "print(sports)"
   ]
  },
  {
   "cell_type": "code",
   "execution_count": 15,
   "id": "0aa3e240-e0d8-414e-9270-a0695a93f60b",
   "metadata": {},
   "outputs": [
    {
     "name": "stdout",
     "output_type": "stream",
     "text": [
      "['football', 'cricket', 'carrom', 'hockey', 'table tennis', 'a', 'b', 'c']\n",
      "[]\n"
     ]
    }
   ],
   "source": [
    "sports = [\"football\", \"cricket\", \"carrom\", \"hockey\", \"table tennis\", \"a\", \"b\", \"c\"]\n",
    "print(sports)\n",
    "sports.clear()\n",
    "print(sports)\n",
    "del sports\n",
    "#print(sports) IT WILL THROW AN ERROR AS WE HAVE DELETED THE LIST"
   ]
  },
  {
   "cell_type": "code",
   "execution_count": 21,
   "id": "95f6167c-e8b9-4f28-a79c-d4260e8e3623",
   "metadata": {},
   "outputs": [
    {
     "name": "stdout",
     "output_type": "stream",
     "text": [
      "['Deepak', 'Faruk', 'Mansi', 'Mohsin', 'Prakhar', 'Puja']\n",
      "['Puja', 'Prakhar', 'Mohsin', 'Mansi', 'Faruk', 'Deepak']\n"
     ]
    }
   ],
   "source": [
    "#SORTING A LIST\n",
    "students = [\"Prakhar\", \"Faruk\", \"Deepak\", \"Mansi\", \"Puja\", \"Mohsin\"]\n",
    "students.sort()\n",
    "print(students)\n",
    "students.sort(reverse = True)\n",
    "print(students)"
   ]
  },
  {
   "cell_type": "code",
   "execution_count": 27,
   "id": "06fe377c-371f-4d92-99b5-8f9ed1773f34",
   "metadata": {},
   "outputs": [
    {
     "name": "stdout",
     "output_type": "stream",
     "text": [
      "[1, 2, 3, 4]\n",
      "[1, 2, 3, 4]\n",
      "[1, 2, 3, 4]\n"
     ]
    }
   ],
   "source": [
    "#COPYING A LIST\n",
    "l1 = [1,2,3,4]\n",
    "l2 = l1.copy()\n",
    "print(l2)\n",
    "\n",
    "l3 = list(l1)\n",
    "print(l3)\n",
    "\n",
    "l4 = l1[:]\n",
    "print(l4)"
   ]
  },
  {
   "cell_type": "code",
   "execution_count": 33,
   "id": "4e5d6015-ec75-4eea-85fb-6f4146616e38",
   "metadata": {},
   "outputs": [
    {
     "name": "stdout",
     "output_type": "stream",
     "text": [
      "['Prakhar', 'Faruk', 'Deepak', 'Mansi', 'Puja', 'Mohsin', 1, 2, 3, 4]\n",
      "['Prakhar', 'Faruk', 'Deepak', 'Mansi', 'Puja', 'Mohsin', 1, 2, 3, 4, 1, 2, 3, 4]\n"
     ]
    },
    {
     "data": {
      "text/plain": [
       "0"
      ]
     },
     "execution_count": 33,
     "metadata": {},
     "output_type": "execute_result"
    }
   ],
   "source": [
    "student = [\"Prakhar\", \"Faruk\", \"Deepak\", \"Mansi\", \"Puja\", \"Mohsin\"]\n",
    "l1 = [1,2,3,4]\n",
    "student = student + l1\n",
    "print(student)\n",
    "student.extend(l1)\n",
    "print(student)\n",
    "student.index(\"Prakhar\")"
   ]
  },
  {
   "cell_type": "code",
   "execution_count": 1,
   "id": "874c1a5d-681d-4779-950c-aead06067b9d",
   "metadata": {},
   "outputs": [
    {
     "data": {
      "text/plain": [
       "1"
      ]
     },
     "execution_count": 1,
     "metadata": {},
     "output_type": "execute_result"
    }
   ],
   "source": [
    "l1 = [22,34,44,44,44,44,7,76]\n",
    "l1.count(44)\n",
    "l1.count(22)"
   ]
  },
  {
   "cell_type": "code",
   "execution_count": null,
   "id": "e83890c9-d98b-4eca-87eb-7b9b9d976852",
   "metadata": {},
   "outputs": [],
   "source": [
    "#Create a list with pharma company names and hospital names"
   ]
  }
 ],
 "metadata": {
  "kernelspec": {
   "display_name": "Python [conda env:base] *",
   "language": "python",
   "name": "conda-base-py"
  },
  "language_info": {
   "codemirror_mode": {
    "name": "ipython",
    "version": 3
   },
   "file_extension": ".py",
   "mimetype": "text/x-python",
   "name": "python",
   "nbconvert_exporter": "python",
   "pygments_lexer": "ipython3",
   "version": "3.12.7"
  }
 },
 "nbformat": 4,
 "nbformat_minor": 5
}
