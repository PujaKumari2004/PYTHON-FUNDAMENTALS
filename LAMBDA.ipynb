{
 "cells": [
  {
   "cell_type": "markdown",
   "id": "839db548-b085-42e6-ab80-2b970b4c50b7",
   "metadata": {},
   "source": [
    "# LAMBDA\n",
    "#### A lambda function is a small anonymous function. A lambda function can take any number of arguments, but can only have one expression."
   ]
  },
  {
   "cell_type": "markdown",
   "id": "c1d27833-8511-4e2c-baf8-5a79323840f6",
   "metadata": {},
   "source": [
    "### Syntax\n",
    "#### lambda arguments : expression"
   ]
  },
  {
   "cell_type": "code",
   "execution_count": 4,
   "id": "d1a8f5bb-b4cd-4e14-a70b-6c4032176b17",
   "metadata": {},
   "outputs": [
    {
     "name": "stdout",
     "output_type": "stream",
     "text": [
      "15\n"
     ]
    }
   ],
   "source": [
    "# Add 10 to argument a, and return the result:\n",
    "x = lambda a : a + 10\n",
    "print(x(5))"
   ]
  },
  {
   "cell_type": "code",
   "execution_count": 6,
   "id": "62ead905-379d-4011-8875-2b73b31c816d",
   "metadata": {},
   "outputs": [
    {
     "name": "stdout",
     "output_type": "stream",
     "text": [
      "30\n"
     ]
    }
   ],
   "source": [
    "# Multiply argument a with argument b and return the result:\n",
    "x = lambda a, b : a * b\n",
    "print(x(5, 6))"
   ]
  },
  {
   "cell_type": "code",
   "execution_count": 8,
   "id": "84ff7754-a00f-406f-8f28-d158423a7a8b",
   "metadata": {},
   "outputs": [
    {
     "name": "stdout",
     "output_type": "stream",
     "text": [
      "14\n"
     ]
    }
   ],
   "source": [
    "# Summarize argument a, b, and c and return the result:\n",
    "x = lambda a, b, c : a + b + c\n",
    "print(x(5, 6, 3))"
   ]
  },
  {
   "cell_type": "code",
   "execution_count": 16,
   "id": "520d839e-aa27-438a-b1cc-9d75a07f871f",
   "metadata": {},
   "outputs": [
    {
     "name": "stdout",
     "output_type": "stream",
     "text": [
      "80\n"
     ]
    }
   ],
   "source": [
    "# Multiply argument a with argument n and return the result(Using Function):\n",
    "def my_function(n):\n",
    "    return lambda a : a * n\n",
    "a = 10  \n",
    "result = my_function(8)(a)\n",
    "print(result)  "
   ]
  },
  {
   "cell_type": "code",
   "execution_count": 18,
   "id": "39788d00-41c3-4f5c-9d9f-ed756c9b9d57",
   "metadata": {},
   "outputs": [
    {
     "name": "stdout",
     "output_type": "stream",
     "text": [
      "22\n"
     ]
    }
   ],
   "source": [
    "def my_function(n):\n",
    "    return lambda a : a * n\n",
    "mydoubler = my_function(2)\n",
    "print(mydoubler(11))"
   ]
  },
  {
   "cell_type": "code",
   "execution_count": 20,
   "id": "af13c134-b580-476e-91f3-109fec5d88e8",
   "metadata": {},
   "outputs": [
    {
     "name": "stdout",
     "output_type": "stream",
     "text": [
      "33\n"
     ]
    }
   ],
   "source": [
    "def my_function(n):\n",
    "    return lambda a : a * n\n",
    "mydoubler = my_function(3)\n",
    "print(mydoubler(11))"
   ]
  },
  {
   "cell_type": "code",
   "execution_count": 22,
   "id": "d0a34dcf-263f-4ec4-9177-f71d68294f88",
   "metadata": {},
   "outputs": [
    {
     "name": "stdout",
     "output_type": "stream",
     "text": [
      "22\n",
      "33\n"
     ]
    }
   ],
   "source": [
    "def myfunc(n):\n",
    "  return lambda a : a * n\n",
    "\n",
    "mydoubler = myfunc(2)\n",
    "mytripler = myfunc(3)\n",
    "\n",
    "print(mydoubler(11))\n",
    "print(mytripler(11))"
   ]
  }
 ],
 "metadata": {
  "kernelspec": {
   "display_name": "Python [conda env:base] *",
   "language": "python",
   "name": "conda-base-py"
  },
  "language_info": {
   "codemirror_mode": {
    "name": "ipython",
    "version": 3
   },
   "file_extension": ".py",
   "mimetype": "text/x-python",
   "name": "python",
   "nbconvert_exporter": "python",
   "pygments_lexer": "ipython3",
   "version": "3.12.7"
  }
 },
 "nbformat": 4,
 "nbformat_minor": 5
}
