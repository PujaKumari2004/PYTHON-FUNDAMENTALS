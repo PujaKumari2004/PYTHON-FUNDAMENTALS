{
 "cells": [
  {
   "cell_type": "code",
   "execution_count": 1,
   "id": "ca405c06-fdd8-4944-bef0-f01319c46adc",
   "metadata": {},
   "outputs": [
    {
     "ename": "SyntaxError",
     "evalue": "invalid syntax (1202988292.py, line 1)",
     "output_type": "error",
     "traceback": [
      "\u001b[1;36m  Cell \u001b[1;32mIn[1], line 1\u001b[1;36m\u001b[0m\n\u001b[1;33m    my var = 5\u001b[0m\n\u001b[1;37m       ^\u001b[0m\n\u001b[1;31mSyntaxError\u001b[0m\u001b[1;31m:\u001b[0m invalid syntax\n"
     ]
    }
   ],
   "source": [
    "my var = 5\n",
    "b = 10\n",
    "sum = my var + b\n",
    "print(sum)"
   ]
  },
  {
   "cell_type": "code",
   "execution_count": 3,
   "id": "8da3b864-df20-4e9b-8ee1-2eef2ef0c5f3",
   "metadata": {},
   "outputs": [
    {
     "ename": "SyntaxError",
     "evalue": "cannot assign to expression here. Maybe you meant '==' instead of '='? (1123010129.py, line 1)",
     "output_type": "error",
     "traceback": [
      "\u001b[1;36m  Cell \u001b[1;32mIn[3], line 1\u001b[1;36m\u001b[0m\n\u001b[1;33m    my-var = 5\u001b[0m\n\u001b[1;37m    ^\u001b[0m\n\u001b[1;31mSyntaxError\u001b[0m\u001b[1;31m:\u001b[0m cannot assign to expression here. Maybe you meant '==' instead of '='?\n"
     ]
    }
   ],
   "source": [
    "my-var = 5\n",
    "b = 10\n",
    "sum = my-var + b\n",
    "print(sum)"
   ]
  },
  {
   "cell_type": "code",
   "execution_count": 11,
   "id": "662eb095-fec7-4af8-bb25-a84d23c52faa",
   "metadata": {},
   "outputs": [
    {
     "name": "stdout",
     "output_type": "stream",
     "text": [
      "<class 'int'> <class 'float'> <class 'str'>\n"
     ]
    }
   ],
   "source": [
    "a = 5\n",
    "a1 = 5.5\n",
    "a2 = \"AAFT\"\n",
    "print(type(a), type(a1), type(a2))\n",
    "#print(type(a1))\n",
    "#print(type(a2))"
   ]
  },
  {
   "cell_type": "code",
   "execution_count": 15,
   "id": "0be949ac-22c4-4d28-8ef6-ea416b582fe9",
   "metadata": {},
   "outputs": [
    {
     "name": "stdout",
     "output_type": "stream",
     "text": [
      "<class 'list'>\n",
      "<class 'tuple'> <class 'dict'> <class 'set'>\n"
     ]
    }
   ],
   "source": [
    "X = [1,2,3,4]\n",
    "Y = (1,2,3,4)\n",
    "Z = {\"a\":1, \"b\":2, \"c\":3}\n",
    "P = {1,2,3,4}\n",
    "print(type(X))\n",
    "print(type(Y),type(Z),type(P))"
   ]
  }
 ],
 "metadata": {
  "kernelspec": {
   "display_name": "Python [conda env:base] *",
   "language": "python",
   "name": "conda-base-py"
  },
  "language_info": {
   "codemirror_mode": {
    "name": "ipython",
    "version": 3
   },
   "file_extension": ".py",
   "mimetype": "text/x-python",
   "name": "python",
   "nbconvert_exporter": "python",
   "pygments_lexer": "ipython3",
   "version": "3.12.7"
  }
 },
 "nbformat": 4,
 "nbformat_minor": 5
}
