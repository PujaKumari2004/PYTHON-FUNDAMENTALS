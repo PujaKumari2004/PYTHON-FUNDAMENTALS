{
 "cells": [
  {
   "cell_type": "code",
   "execution_count": 1,
   "id": "196ace63-cb17-496a-a126-43e3ea64dd3a",
   "metadata": {},
   "outputs": [
    {
     "name": "stdout",
     "output_type": "stream",
     "text": [
      "120\n"
     ]
    }
   ],
   "source": [
    "def factorial(n):\n",
    "    if n == 0:\n",
    "        return 1\n",
    "    else:\n",
    "        return n * factorial(n-1)\n",
    "print(factorial(5))        "
   ]
  },
  {
   "cell_type": "code",
   "execution_count": 3,
   "id": "73f4936c-e20f-4650-8b6a-be042a0d8d18",
   "metadata": {},
   "outputs": [
    {
     "name": "stdout",
     "output_type": "stream",
     "text": [
      "55\n"
     ]
    }
   ],
   "source": [
    "def fibonacci(n):\n",
    "    #Base cases\n",
    "    if n == 0:\n",
    "        return 0\n",
    "    elif n == 1:\n",
    "        return 1\n",
    "    #Recursive case\n",
    "    else:\n",
    "        return fibonacci(n-1) + fibonacci(n-2)\n",
    "#Example usage\n",
    "print(fibonacci(10))"
   ]
  },
  {
   "cell_type": "code",
   "execution_count": 7,
   "id": "f48c697e-7aad-42fa-b157-07139f5da3b6",
   "metadata": {},
   "outputs": [
    {
     "name": "stdout",
     "output_type": "stream",
     "text": [
      "The youngest child is Linus\n"
     ]
    }
   ],
   "source": [
    "#ARBITRARY ARGUMENTS - If the number of arguments is unknown, add a * before the parameter name:\n",
    "\n",
    "def my_function(*kids):\n",
    "    print(\"The youngest child is\"+ \" \" + kids[2])\n",
    "my_function(\"Emil\", \"Tobias\", \"Linus\")    "
   ]
  },
  {
   "cell_type": "code",
   "execution_count": 9,
   "id": "f1870363-5b32-46b8-a02b-e6d00c780ddd",
   "metadata": {},
   "outputs": [
    {
     "name": "stdout",
     "output_type": "stream",
     "text": [
      "The youngest child is Linus\n"
     ]
    }
   ],
   "source": [
    "#KEYWORD ARGUMENTS\n",
    "\n",
    "def my_function(child3, child2, child1):\n",
    "    print(\"The youngest child is\" + \" \" + child3)\n",
    "my_function(child1 = \"Emil\", child2 = \"Tobias\", child3 = \"Linus\")"
   ]
  },
  {
   "cell_type": "code",
   "execution_count": 25,
   "id": "bd90be7d-d2a1-4550-a699-d0cb5fc56689",
   "metadata": {},
   "outputs": [
    {
     "name": "stdout",
     "output_type": "stream",
     "text": [
      "His last name is Refsnes\n"
     ]
    }
   ],
   "source": [
    "# If the number of keyword arguments is unknown, add a double ** before the paramater name:\n",
    "\n",
    "def my_function(**kid):\n",
    "    print(\"His last name is\" + \" \" + kid[\"lname\"])\n",
    "my_function(fname = \"Tobias\", lname = \"Refsnes\")    "
   ]
  },
  {
   "cell_type": "code",
   "execution_count": null,
   "id": "526b3f06-509e-411d-bcf5-654ce6e06084",
   "metadata": {},
   "outputs": [],
   "source": []
  }
 ],
 "metadata": {
  "kernelspec": {
   "display_name": "Python [conda env:base] *",
   "language": "python",
   "name": "conda-base-py"
  },
  "language_info": {
   "codemirror_mode": {
    "name": "ipython",
    "version": 3
   },
   "file_extension": ".py",
   "mimetype": "text/x-python",
   "name": "python",
   "nbconvert_exporter": "python",
   "pygments_lexer": "ipython3",
   "version": "3.12.7"
  }
 },
 "nbformat": 4,
 "nbformat_minor": 5
}
