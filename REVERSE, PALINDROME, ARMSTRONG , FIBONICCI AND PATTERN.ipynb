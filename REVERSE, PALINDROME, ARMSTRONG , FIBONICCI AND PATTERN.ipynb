{
 "cells": [
  {
   "cell_type": "markdown",
   "id": "11b7e29e-cb84-4a00-887f-44ecb3c0ffcc",
   "metadata": {},
   "source": [
    "# Reverse"
   ]
  },
  {
   "cell_type": "code",
   "execution_count": 1,
   "id": "d460cf5f-74f1-4346-b5f7-b4d76611793a",
   "metadata": {},
   "outputs": [
    {
     "name": "stdin",
     "output_type": "stream",
     "text": [
      "Enter any number: 56789\n"
     ]
    },
    {
     "name": "stdout",
     "output_type": "stream",
     "text": [
      "Reverse of the given number is 98765\n"
     ]
    }
   ],
   "source": [
    "#WAP to find reverse of a number\n",
    "num = int(input(\"Enter any number:\"))\n",
    "rev = 0\n",
    "while(num > 0):\n",
    "    rev = (rev*10) + num % 10\n",
    "    num = num // 10\n",
    "print(f\"Reverse of the given number is {rev}\")"
   ]
  },
  {
   "cell_type": "markdown",
   "id": "31b5c208-a8e1-46af-b799-56d0a59fa449",
   "metadata": {},
   "source": [
    "# Palindrome Check"
   ]
  },
  {
   "cell_type": "code",
   "execution_count": 9,
   "id": "ae75daa2-fcaa-4d98-be94-1827b9faed18",
   "metadata": {},
   "outputs": [
    {
     "name": "stdin",
     "output_type": "stream",
     "text": [
      "Enter any number: 123321\n"
     ]
    },
    {
     "name": "stdout",
     "output_type": "stream",
     "text": [
      "123321\n",
      "Given number is Palindrome\n"
     ]
    }
   ],
   "source": [
    "# WAP to check whether given number is Palindrome or not?\n",
    "num = int(input(\"Enter any number:\"))\n",
    "rev = 0\n",
    "x = num\n",
    "while (num > 0):\n",
    "    rev = (rev*10)+num%10\n",
    "    num = num // 10\n",
    "print(rev)    \n",
    "if x == rev:\n",
    "       print(\"Given number is Palindrome\")\n",
    "else:\n",
    "       print(\"given number is not a Palindrome\")"
   ]
  },
  {
   "cell_type": "markdown",
   "id": "a6e6d18f-9b82-481b-8f96-910d1535f29c",
   "metadata": {},
   "source": [
    "# Armstrong Check"
   ]
  },
  {
   "cell_type": "code",
   "execution_count": 33,
   "id": "a36171fc-46b5-41d6-a5bb-88d4412b3fc1",
   "metadata": {},
   "outputs": [
    {
     "name": "stdin",
     "output_type": "stream",
     "text": [
      "Enter any number: 153\n"
     ]
    },
    {
     "name": "stdout",
     "output_type": "stream",
     "text": [
      "Number is Armstrong\n"
     ]
    }
   ],
   "source": [
    "#WAP to check whether given number is Armstrong or not?\n",
    "n = int(input(\"Enter any number:\"))\n",
    "x = n\n",
    "sum = 0\n",
    "while (n > 0):\n",
    "    sum = sum + (n%10)**3\n",
    "    n =  n // 10\n",
    "if x == sum:\n",
    "    print(\"Number is Armstrong\")\n",
    "else:\n",
    "    print(\"Number is not Armstrong\")"
   ]
  },
  {
   "cell_type": "markdown",
   "id": "e92220ba-0daf-4762-9393-1f25e829bac5",
   "metadata": {},
   "source": [
    "# Fibonacci Series"
   ]
  },
  {
   "cell_type": "code",
   "execution_count": 1,
   "id": "6931f9e1-66d5-4aab-bda5-bc4b9811c13c",
   "metadata": {},
   "outputs": [
    {
     "name": "stdin",
     "output_type": "stream",
     "text": [
      "Enter any number: 10\n"
     ]
    },
    {
     "name": "stdout",
     "output_type": "stream",
     "text": [
      "0\n",
      "1\n",
      "1\n",
      "2\n",
      "3\n",
      "5\n",
      "8\n"
     ]
    }
   ],
   "source": [
    "#FIBONACCI SERIES\n",
    "num = int(input(\"Enter any number:\"))\n",
    "x = 0\n",
    "y = 1\n",
    "z = 0\n",
    "while z <= num:\n",
    "    print(z)\n",
    "    x = y \n",
    "    y = z\n",
    "    z = x + y\n",
    "   "
   ]
  },
  {
   "cell_type": "markdown",
   "id": "f13c10e7-f50e-4161-8c62-a27bfb22da18",
   "metadata": {},
   "source": [
    "# Pattern"
   ]
  },
  {
   "cell_type": "code",
   "execution_count": null,
   "id": "896c4064-ed20-49af-8419-467fb56982d2",
   "metadata": {},
   "outputs": [],
   "source": [
    "#WAP to print pattern:\n",
    "*\n",
    "**\n",
    "***\n",
    "****\n",
    "*****\n",
    "******"
   ]
  },
  {
   "cell_type": "code",
   "execution_count": 25,
   "id": "552d5f5b-dec8-44e5-9a37-e6f6db6aa695",
   "metadata": {},
   "outputs": [
    {
     "name": "stdin",
     "output_type": "stream",
     "text": [
      "Enter number of rows: 6\n"
     ]
    },
    {
     "name": "stdout",
     "output_type": "stream",
     "text": [
      "*\n",
      "**\n",
      "***\n",
      "****\n",
      "*****\n",
      "******\n"
     ]
    }
   ],
   "source": [
    "num = int(input(\"Enter number of rows:\"))\n",
    "for i in range(1, num+1):\n",
    "    for j in range(1, i+1):\n",
    "        print(\"*\",end=\"\")\n",
    "    print()\n",
    "     "
   ]
  }
 ],
 "metadata": {
  "kernelspec": {
   "display_name": "Python [conda env:base] *",
   "language": "python",
   "name": "conda-base-py"
  },
  "language_info": {
   "codemirror_mode": {
    "name": "ipython",
    "version": 3
   },
   "file_extension": ".py",
   "mimetype": "text/x-python",
   "name": "python",
   "nbconvert_exporter": "python",
   "pygments_lexer": "ipython3",
   "version": "3.12.7"
  }
 },
 "nbformat": 4,
 "nbformat_minor": 5
}
