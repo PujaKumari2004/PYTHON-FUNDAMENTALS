{
 "cells": [
  {
   "cell_type": "markdown",
   "id": "404f3d43-1a37-4cb9-be99-da0df48ec2f5",
   "metadata": {},
   "source": [
    "# DICTIONARY\n",
    "#### Dictionaries are used to store data values in key:value pairs.\n",
    "#### A dictionary is a collection which is ordered*, changeable and do not allow duplicates."
   ]
  },
  {
   "cell_type": "code",
   "execution_count": 2,
   "id": "06fff941-6e01-4a72-ac78-35a721dd7508",
   "metadata": {},
   "outputs": [
    {
     "name": "stdout",
     "output_type": "stream",
     "text": [
      "{'brand': 'Ford', 'model': 'Mustang', 'year': 1964}\n"
     ]
    }
   ],
   "source": [
    "# Create and print a dictionary:\n",
    "thisdict = {\"brand\":\"Ford\", \"model\":\"Mustang\", \"year\":1964}\n",
    "print(thisdict)"
   ]
  },
  {
   "cell_type": "markdown",
   "id": "277b1278-0f2b-4ecf-9443-a4d0d4dbc266",
   "metadata": {},
   "source": [
    "### Dictionary Items"
   ]
  },
  {
   "cell_type": "code",
   "execution_count": 7,
   "id": "b6e04a97-1a50-430d-b374-f7b0ad6c7771",
   "metadata": {},
   "outputs": [
    {
     "name": "stdout",
     "output_type": "stream",
     "text": [
      "Ford\n"
     ]
    }
   ],
   "source": [
    "thisdict = {\"brand\":\"Ford\", \"model\":\"Mustang\", \"year\":1964}\n",
    "print(thisdict[\"brand\"])"
   ]
  },
  {
   "cell_type": "markdown",
   "id": "58c1cfc4-45fd-4f0a-aa5c-27eeac720be2",
   "metadata": {},
   "source": [
    "### Duplicates Not Allowed"
   ]
  },
  {
   "cell_type": "code",
   "execution_count": 10,
   "id": "f51b30be-c588-4859-a71a-a7fd56cb9003",
   "metadata": {},
   "outputs": [
    {
     "name": "stdout",
     "output_type": "stream",
     "text": [
      "{'brand': 'Ford', 'model': 'Mustang', 'year': 2020}\n"
     ]
    }
   ],
   "source": [
    "# Duplicate values will overwrite existing values:\n",
    "thisdict = {\"brand\": \"Ford\", \"model\": \"Mustang\", \"year\": 1964, \"year\": 2020}\n",
    "print(thisdict)"
   ]
  },
  {
   "cell_type": "markdown",
   "id": "19674f89-2376-4884-9622-568fb0b3a253",
   "metadata": {},
   "source": [
    "### Dictionary Length\n",
    "#### To determine how many items a dictionary has, use the len() function:"
   ]
  },
  {
   "cell_type": "code",
   "execution_count": 13,
   "id": "44b6cd2c-5aba-40ca-b81f-ff7fe4a37c90",
   "metadata": {},
   "outputs": [
    {
     "name": "stdout",
     "output_type": "stream",
     "text": [
      "3\n"
     ]
    }
   ],
   "source": [
    "thisdict = {\"brand\": \"Ford\", \"model\": \"Mustang\", \"year\": 1964, \"year\": 2020}\n",
    "print(len(thisdict))"
   ]
  },
  {
   "cell_type": "markdown",
   "id": "4518bbce-c751-4a56-8ab3-2fcf23d275bd",
   "metadata": {},
   "source": [
    "### Dictionary Items - Data Types\n",
    "#### The values in dictionary items can be of any data type."
   ]
  },
  {
   "cell_type": "code",
   "execution_count": 16,
   "id": "02026160-2e7d-46ca-877f-341492ed8d75",
   "metadata": {},
   "outputs": [
    {
     "name": "stdout",
     "output_type": "stream",
     "text": [
      "{'brand': 'Ford', 'electric': False, 'year': 1964, 'colors': ['red', 'white', 'blue']}\n"
     ]
    }
   ],
   "source": [
    "thisdict = {\"brand\": \"Ford\", \"electric\": False, \"year\": 1964, \"colors\": [\"red\", \"white\", \"blue\"]}\n",
    "print(thisdict)"
   ]
  },
  {
   "cell_type": "markdown",
   "id": "ecf76611-c6b6-4a38-8f14-6c3a39f226ef",
   "metadata": {},
   "source": [
    "### type()"
   ]
  },
  {
   "cell_type": "code",
   "execution_count": 19,
   "id": "9dd9a396-53c9-45aa-b22d-6bda0df0c851",
   "metadata": {},
   "outputs": [
    {
     "name": "stdout",
     "output_type": "stream",
     "text": [
      "<class 'dict'>\n"
     ]
    }
   ],
   "source": [
    "thisdict = {\"brand\": \"Ford\", \"model\": \"Mustang\", \"year\": 1964}\n",
    "print(type(thisdict))"
   ]
  },
  {
   "cell_type": "markdown",
   "id": "4eba26cc-c008-4478-830e-ebd8b4cb4074",
   "metadata": {},
   "source": [
    "### The dict() Constructor"
   ]
  },
  {
   "cell_type": "code",
   "execution_count": 22,
   "id": "e42003ce-3ab8-445e-943d-ee2e6ed88c61",
   "metadata": {},
   "outputs": [
    {
     "name": "stdout",
     "output_type": "stream",
     "text": [
      "{'name': 'John', 'age': 36, 'country': 'Norway'}\n"
     ]
    }
   ],
   "source": [
    "thisdict = dict(name = \"John\", age = 36, country = \"Norway\")\n",
    "print(thisdict)"
   ]
  },
  {
   "cell_type": "markdown",
   "id": "eb20622a-0b78-4950-af4d-dba33332b1b7",
   "metadata": {},
   "source": [
    "## Access Dictionary Items\n",
    "### Accessing Items"
   ]
  },
  {
   "cell_type": "code",
   "execution_count": 28,
   "id": "52c7f591-096e-460a-8b56-b6e8b5925266",
   "metadata": {},
   "outputs": [
    {
     "name": "stdout",
     "output_type": "stream",
     "text": [
      "Mustang\n"
     ]
    }
   ],
   "source": [
    "# Get the value of the \"model\" key:\n",
    "thisdict = {\"brand\":\"Ford\", \"model\":\"Mustang\", \"year\":1964}\n",
    "x = thisdict[\"model\"]\n",
    "print(x)"
   ]
  },
  {
   "cell_type": "markdown",
   "id": "6df08ffb-65be-4bd6-890e-bac6d5b66316",
   "metadata": {},
   "source": [
    "### get() "
   ]
  },
  {
   "cell_type": "code",
   "execution_count": 31,
   "id": "10bbd37c-f853-475b-a1cd-30b07bb25ea5",
   "metadata": {},
   "outputs": [
    {
     "name": "stdout",
     "output_type": "stream",
     "text": [
      "Mustang\n"
     ]
    }
   ],
   "source": [
    "thisdict = {\"brand\":\"Ford\", \"model\":\"Mustang\", \"year\":1964}\n",
    "x = thisdict.get(\"model\")\n",
    "print(x)"
   ]
  },
  {
   "cell_type": "markdown",
   "id": "230e52cc-949a-482f-b3fc-1a302520ded3",
   "metadata": {},
   "source": [
    "### Get Keys\n",
    "#### The keys() method will return a list of all the keys in the dictionary."
   ]
  },
  {
   "cell_type": "code",
   "execution_count": 34,
   "id": "3da465b6-866e-48ef-a37e-41302d06a440",
   "metadata": {},
   "outputs": [
    {
     "name": "stdout",
     "output_type": "stream",
     "text": [
      "dict_keys(['brand', 'model', 'year'])\n"
     ]
    }
   ],
   "source": [
    "thisdict = {\"brand\":\"Ford\", \"model\":\"Mustang\", \"year\":1964}\n",
    "x = thisdict.keys()\n",
    "print(x)"
   ]
  },
  {
   "cell_type": "markdown",
   "id": "2c71eb5e-bf9c-40e7-96b9-742ad1a96937",
   "metadata": {},
   "source": [
    "#### The list of the keys is a view of the dictionary, meaning that any changes done to the dictionary will be reflected in the keys list.\n",
    "##### Example"
   ]
  },
  {
   "cell_type": "code",
   "execution_count": 38,
   "id": "61d4abc5-a1ef-432d-b5e5-2bb313a168f8",
   "metadata": {},
   "outputs": [
    {
     "name": "stdout",
     "output_type": "stream",
     "text": [
      "dict_keys(['brand', 'model', 'year'])\n",
      "dict_keys(['brand', 'model', 'year', 'color'])\n"
     ]
    }
   ],
   "source": [
    "car = {\"brand\":\"Ford\", \"model\":\"Mustang\", \"year\":1964}\n",
    "x = car.keys()\n",
    "print(x)     # Before the change\n",
    "car[\"color\"] = \"White\"\n",
    "print(x)     # After the change"
   ]
  },
  {
   "cell_type": "markdown",
   "id": "08f320bf-89c0-4678-8d33-591123379d3c",
   "metadata": {},
   "source": [
    "### Get Values\n",
    "#### The values() method will return a list of all the values in the dictionary."
   ]
  },
  {
   "cell_type": "code",
   "execution_count": 42,
   "id": "0cba4e9c-f9dc-4f83-a67d-55f26fb978b3",
   "metadata": {},
   "outputs": [
    {
     "name": "stdout",
     "output_type": "stream",
     "text": [
      "dict_values(['Ford', 'Mustang', 1964])\n"
     ]
    }
   ],
   "source": [
    "thisdict = {\"brand\":\"Ford\", \"model\":\"Mustang\", \"year\":1964}\n",
    "x = thisdict.values()\n",
    "print(x)"
   ]
  },
  {
   "cell_type": "markdown",
   "id": "1923f47c-67ca-4433-9595-60bc099ab6e6",
   "metadata": {},
   "source": [
    "#### The list of the values is a view of the dictionary, meaning that any changes done to the dictionary will be reflected in the values list.\n",
    "##### Example"
   ]
  },
  {
   "cell_type": "code",
   "execution_count": 47,
   "id": "e1fb95d9-722e-4c5c-bf98-1a3f51ff70e2",
   "metadata": {},
   "outputs": [
    {
     "name": "stdout",
     "output_type": "stream",
     "text": [
      "dict_values(['Ford', 'Mustang', 1964])\n",
      "dict_values(['Ford', 'Mustang', 2020])\n"
     ]
    }
   ],
   "source": [
    "car = {\"brand\":\"Ford\", \"model\":\"Mustang\", \"year\":1964}\n",
    "x = car.values()  # Before the change\n",
    "print(x)\n",
    "car[\"year\"] = 2020  # After the change\n",
    "print(x)"
   ]
  },
  {
   "cell_type": "code",
   "execution_count": 51,
   "id": "805ce79e-443f-4e1c-8d6e-99c55f1af71f",
   "metadata": {},
   "outputs": [
    {
     "name": "stdout",
     "output_type": "stream",
     "text": [
      "dict_values(['Ford', 'Mustang', 1964, 'White'])\n",
      "dict_values(['Ford', 'Mustang', 1964, 'Red'])\n"
     ]
    }
   ],
   "source": [
    "car = {\"brand\": \"Ford\",\"model\": \"Mustang\",\"year\": 1964, \"color\":\"White\"}\n",
    "x = car.values()   \n",
    "print(x)              # Before the change\n",
    "car[\"color\"] = \"Red\"\n",
    "print(x)              # After the change"
   ]
  },
  {
   "cell_type": "markdown",
   "id": "e680c5f9-b147-4714-bd17-17cae12fd4ab",
   "metadata": {},
   "source": [
    "### Get Items\n",
    "#### The items() method will return each item in a dictionary, as tuples in a list."
   ]
  },
  {
   "cell_type": "code",
   "execution_count": 54,
   "id": "1cbb39f9-5ff7-49fd-95df-910e1e76ac92",
   "metadata": {},
   "outputs": [
    {
     "data": {
      "text/plain": [
       "dict_items([('brand', 'Ford'), ('model', 'Mustang'), ('year', 1964), ('color', 'White')])"
      ]
     },
     "execution_count": 54,
     "metadata": {},
     "output_type": "execute_result"
    }
   ],
   "source": [
    "thisdict = {\"brand\":\"Ford\", \"model\":\"Mustang\", \"year\":1964, \"color\":\"White\"}\n",
    "thisdict.items()"
   ]
  },
  {
   "cell_type": "code",
   "execution_count": 56,
   "id": "bc67f89d-9160-45ec-8fff-d522ec1f14f2",
   "metadata": {},
   "outputs": [
    {
     "name": "stdout",
     "output_type": "stream",
     "text": [
      "dict_items([('brand', 'Ford'), ('model', 'Mustang'), ('year', 1964), ('color', 'White')])\n",
      "dict_items([('brand', 'Ford'), ('model', 'Mustang'), ('year', 1964), ('color', 'Red')])\n"
     ]
    }
   ],
   "source": [
    "car = {\"brand\":\"Ford\", \"model\":\"Mustang\", \"year\":1964, \"color\":\"White\"}\n",
    "x = car.items()\n",
    "print(x)      # Before the change\n",
    "car[\"color\"] = \"Red\"\n",
    "print(x)      # After the change"
   ]
  },
  {
   "cell_type": "markdown",
   "id": "81768bb4-7e92-4b00-ba6a-dab1b8b45dc9",
   "metadata": {},
   "source": [
    "### Check if Key Exists"
   ]
  },
  {
   "cell_type": "code",
   "execution_count": 65,
   "id": "0e29c5fa-e342-41f1-be80-21803c306e1d",
   "metadata": {},
   "outputs": [
    {
     "name": "stdout",
     "output_type": "stream",
     "text": [
      "Yes, \"model\" is one of the keys in the thiddict dictionary\n"
     ]
    }
   ],
   "source": [
    "thisdict = {\"brand\":\"Ford\", \"model\":\"Mustang\", \"year\":1964, \"color\":\"White\"}\n",
    "if \"model\" in thisdict:\n",
    "    print(\"Yes, \\\"model\\\" is one of the keys in the thiddict dictionary\")"
   ]
  },
  {
   "cell_type": "markdown",
   "id": "6ef1233e-3553-47c9-b680-f3510358488a",
   "metadata": {},
   "source": [
    "## Change Dictionary Items"
   ]
  },
  {
   "cell_type": "markdown",
   "id": "443f078d-6bdc-4179-86f4-40859676d23f",
   "metadata": {},
   "source": [
    "### Change Values"
   ]
  },
  {
   "cell_type": "code",
   "execution_count": 71,
   "id": "b23a640e-e281-4cbd-83b7-bbe43dd728ca",
   "metadata": {},
   "outputs": [
    {
     "name": "stdout",
     "output_type": "stream",
     "text": [
      "{'brand': 'Ford', 'model': 'Mustang', 'year': 2018}\n"
     ]
    }
   ],
   "source": [
    "# Change the \"year\" to 2018:\n",
    "thisdict = {\"brand\":\"Ford\", \"model\":\"Mustang\", \"year\":1964}\n",
    "thisdict[\"year\"] = 2018\n",
    "print(thisdict)"
   ]
  },
  {
   "cell_type": "markdown",
   "id": "b8544acc-bbe6-4aeb-86cf-46b8aa62ea94",
   "metadata": {},
   "source": [
    "### Update Dictionary\n",
    "#### The update() method will update the dictionary with the items from the given argument."
   ]
  },
  {
   "cell_type": "code",
   "execution_count": 74,
   "id": "868fc78a-ae7b-4080-b753-4512241f0617",
   "metadata": {},
   "outputs": [
    {
     "name": "stdout",
     "output_type": "stream",
     "text": [
      "{'brand': 'Ford', 'model': 'Mustang', 'year': 2020}\n"
     ]
    }
   ],
   "source": [
    "# Update the \"year\" of the car by using the update() method:\n",
    "thisdict = {\"brand\":\"Ford\", \"model\":\"Mustang\", \"year\":1964}\n",
    "thisdict.update({\"year\":2020})\n",
    "print(thisdict)"
   ]
  },
  {
   "cell_type": "markdown",
   "id": "4bd771c5-4429-4589-bbb8-f63c872af1c1",
   "metadata": {},
   "source": [
    "## Add Dictionary Items"
   ]
  },
  {
   "cell_type": "markdown",
   "id": "51aa7822-cbda-4e16-89d6-ea805f26b4c2",
   "metadata": {},
   "source": [
    "### Adding Items"
   ]
  },
  {
   "cell_type": "code",
   "execution_count": 78,
   "id": "32e29cd4-99fc-423c-90c8-25b5dfd1686d",
   "metadata": {},
   "outputs": [
    {
     "name": "stdout",
     "output_type": "stream",
     "text": [
      "{'brand': 'Ford', 'model': 'Mustang', 'year': 1964, 'color': 'Red'}\n"
     ]
    }
   ],
   "source": [
    "thisdict = {\"brand\":\"Ford\", \"model\":\"Mustang\", \"year\":1964}\n",
    "thisdict[\"color\"] = \"Red\"\n",
    "print(thisdict)"
   ]
  },
  {
   "cell_type": "markdown",
   "id": "e8518687-e6dd-48a3-8544-213923933e6c",
   "metadata": {},
   "source": [
    "### Update Dictionary\n",
    "#### The update() method will update the dictionary with the items from a given argument. If the item does not exist, the item will be added."
   ]
  },
  {
   "cell_type": "code",
   "execution_count": 83,
   "id": "1f42f358-3dd1-4cd5-b1ce-402522c1b4cc",
   "metadata": {},
   "outputs": [
    {
     "name": "stdout",
     "output_type": "stream",
     "text": [
      "{'brand': 'Ford', 'model': 'Mustang', 'year': 1964, 'color': 'Red'}\n"
     ]
    }
   ],
   "source": [
    "# Add a color item to the dictionary by using the update() method:\n",
    "thisdict = {\"brand\":\"Ford\", \"model\":\"Mustang\", \"year\":1964}\n",
    "thisdict.update({\"color\":\"Red\"})\n",
    "print(thisdict)"
   ]
  },
  {
   "cell_type": "markdown",
   "id": "4ccf5283-ffce-49d4-8658-6e7fee829cdc",
   "metadata": {},
   "source": [
    "## Remove Dictionary Items"
   ]
  },
  {
   "cell_type": "markdown",
   "id": "cf943650-b171-4ebb-89a7-53fc1978eef8",
   "metadata": {},
   "source": [
    "### pop()\n",
    "#### The pop() method removes the item with the specified key name:"
   ]
  },
  {
   "cell_type": "code",
   "execution_count": 88,
   "id": "a900f1cc-4b45-430b-a6e0-0aca56b0688d",
   "metadata": {},
   "outputs": [
    {
     "name": "stdout",
     "output_type": "stream",
     "text": [
      "{'brand': 'Ford', 'year': 1964}\n"
     ]
    }
   ],
   "source": [
    "thisdict = {\"brand\":\"Ford\", \"model\":\"Mustang\", \"year\":1964}\n",
    "thisdict.pop(\"model\")\n",
    "print(thisdict)"
   ]
  },
  {
   "cell_type": "markdown",
   "id": "3e95e3d8-5446-4e7d-9308-ead813275945",
   "metadata": {},
   "source": [
    "### popitem()\n",
    "#### The popitem() method removes the last inserted item"
   ]
  },
  {
   "cell_type": "code",
   "execution_count": 91,
   "id": "5528f74e-6712-4634-b99a-ce7146ab3e59",
   "metadata": {},
   "outputs": [
    {
     "name": "stdout",
     "output_type": "stream",
     "text": [
      "{'brand': 'Ford', 'model': 'Mustang'}\n"
     ]
    }
   ],
   "source": [
    "thisdict = {\"brand\":\"Ford\", \"model\":\"Mustang\", \"year\":1964}\n",
    "thisdict.popitem()\n",
    "print(thisdict)"
   ]
  },
  {
   "cell_type": "markdown",
   "id": "b001888d-0da3-41b0-a36e-43656707f233",
   "metadata": {},
   "source": [
    "### del()\n",
    "#### The del keyword removes the item with the specified key name:"
   ]
  },
  {
   "cell_type": "code",
   "execution_count": 96,
   "id": "dca65d6b-1fb8-4cc4-b6b3-d9b1b4954300",
   "metadata": {},
   "outputs": [
    {
     "name": "stdout",
     "output_type": "stream",
     "text": [
      "{'brand': 'Ford', 'year': 1964}\n"
     ]
    }
   ],
   "source": [
    "thisdict = {\"brand\":\"Ford\", \"model\":\"Mustang\", \"year\":1964}\n",
    "del thisdict[\"model\"]\n",
    "print(thisdict)"
   ]
  },
  {
   "cell_type": "markdown",
   "id": "c92ae56d-fa57-4a7c-8677-155ac12e18c1",
   "metadata": {},
   "source": [
    "#### The del keyword can also delete the dictionary completely:"
   ]
  },
  {
   "cell_type": "code",
   "execution_count": 99,
   "id": "f574b62a-c78a-44e3-bf29-32ca3e8c7c46",
   "metadata": {},
   "outputs": [
    {
     "ename": "NameError",
     "evalue": "name 'thisdict' is not defined",
     "output_type": "error",
     "traceback": [
      "\u001b[1;31m---------------------------------------------------------------------------\u001b[0m",
      "\u001b[1;31mNameError\u001b[0m                                 Traceback (most recent call last)",
      "Cell \u001b[1;32mIn[99], line 3\u001b[0m\n\u001b[0;32m      1\u001b[0m thisdict \u001b[38;5;241m=\u001b[39m {\u001b[38;5;124m\"\u001b[39m\u001b[38;5;124mbrand\u001b[39m\u001b[38;5;124m\"\u001b[39m:\u001b[38;5;124m\"\u001b[39m\u001b[38;5;124mFord\u001b[39m\u001b[38;5;124m\"\u001b[39m, \u001b[38;5;124m\"\u001b[39m\u001b[38;5;124mmodel\u001b[39m\u001b[38;5;124m\"\u001b[39m:\u001b[38;5;124m\"\u001b[39m\u001b[38;5;124mMustang\u001b[39m\u001b[38;5;124m\"\u001b[39m, \u001b[38;5;124m\"\u001b[39m\u001b[38;5;124myear\u001b[39m\u001b[38;5;124m\"\u001b[39m:\u001b[38;5;241m1964\u001b[39m}\n\u001b[0;32m      2\u001b[0m \u001b[38;5;28;01mdel\u001b[39;00m thisdict\n\u001b[1;32m----> 3\u001b[0m \u001b[38;5;28mprint\u001b[39m(thisdict)\n",
      "\u001b[1;31mNameError\u001b[0m: name 'thisdict' is not defined"
     ]
    }
   ],
   "source": [
    "thisdict = {\"brand\":\"Ford\", \"model\":\"Mustang\", \"year\":1964}\n",
    "del thisdict\n",
    "print(thisdict)   #this will cause an error because \"thisdict\" no longer exists."
   ]
  },
  {
   "cell_type": "markdown",
   "id": "74ba5cb5-c49f-4cfd-a5c0-85b32f4a84b8",
   "metadata": {},
   "source": [
    "### clear()\n",
    "#### The clear() method empties the dictionary:"
   ]
  },
  {
   "cell_type": "code",
   "execution_count": 102,
   "id": "05fb3bb7-e192-4431-bb5a-374509593c39",
   "metadata": {},
   "outputs": [
    {
     "name": "stdout",
     "output_type": "stream",
     "text": [
      "{}\n"
     ]
    }
   ],
   "source": [
    "thisdict = {\"brand\":\"Ford\", \"model\":\"Mustang\", \"year\":1964}\n",
    "thisdict.clear()\n",
    "print(thisdict)"
   ]
  },
  {
   "cell_type": "markdown",
   "id": "2a8e5d7e-454c-4de4-88b5-25a559b6f306",
   "metadata": {},
   "source": [
    "## Loop Dictionaries"
   ]
  },
  {
   "cell_type": "markdown",
   "id": "e74c16fe-2463-4f24-922a-509331606b22",
   "metadata": {},
   "source": [
    "### Loop Through a Dictionary"
   ]
  },
  {
   "cell_type": "code",
   "execution_count": 106,
   "id": "65047346-f2f8-46d3-bcbc-8d37af86b20e",
   "metadata": {},
   "outputs": [
    {
     "name": "stdout",
     "output_type": "stream",
     "text": [
      "brand\n",
      "model\n",
      "year\n"
     ]
    }
   ],
   "source": [
    "# Print all key names in the dictionary, one by one:\n",
    "thisdict = {\"brand\":\"Ford\", \"model\":\"Mustang\", \"year\":1964}\n",
    "for x in thisdict:\n",
    "    print(x)"
   ]
  },
  {
   "cell_type": "code",
   "execution_count": 108,
   "id": "b9f2c3ad-e127-4ad3-81f8-b40050e50913",
   "metadata": {},
   "outputs": [
    {
     "name": "stdout",
     "output_type": "stream",
     "text": [
      "Ford\n",
      "Mustang\n",
      "1964\n"
     ]
    }
   ],
   "source": [
    "# Print all values in the dictionary, one by one:\n",
    "thisdict = {\"brand\":\"Ford\", \"model\":\"Mustang\", \"year\":1964}\n",
    "for x in thisdict:\n",
    "    print(thisdict[x])"
   ]
  },
  {
   "cell_type": "code",
   "execution_count": 110,
   "id": "57ff296b-4eac-49a6-a6e8-4e77c465ec03",
   "metadata": {},
   "outputs": [
    {
     "name": "stdout",
     "output_type": "stream",
     "text": [
      "brand\n",
      "model\n",
      "year\n"
     ]
    }
   ],
   "source": [
    "# We can use the keys() method to return the keys of a dictionary:\n",
    "thisdict = {\"brand\":\"Ford\", \"model\":\"Mustang\", \"year\":1964}\n",
    "for x in thisdict.keys():\n",
    "    print(x)"
   ]
  },
  {
   "cell_type": "code",
   "execution_count": 112,
   "id": "1c14b6e5-6b2d-4ca7-9a60-4de11c4fac1a",
   "metadata": {},
   "outputs": [
    {
     "name": "stdout",
     "output_type": "stream",
     "text": [
      "Ford\n",
      "Mustang\n",
      "1964\n"
     ]
    }
   ],
   "source": [
    "# You can also use the values() method to return values of a dictionary:\n",
    "thisdict = {\"brand\":\"Ford\", \"model\":\"Mustang\", \"year\":1964}\n",
    "for x in thisdict.values():\n",
    "    print(x)"
   ]
  },
  {
   "cell_type": "code",
   "execution_count": 114,
   "id": "1f3f32f0-cb84-4281-8c89-1bea7fb40a41",
   "metadata": {},
   "outputs": [
    {
     "name": "stdout",
     "output_type": "stream",
     "text": [
      "brand Ford\n",
      "model Mustang\n",
      "year 1964\n"
     ]
    }
   ],
   "source": [
    "# Loop through both keys and values, by using the items() method:\n",
    "thisdict = {\"brand\":\"Ford\", \"model\":\"Mustang\", \"year\":1964}\n",
    "for x, y in thisdict.items():\n",
    "    print(x,y)"
   ]
  },
  {
   "cell_type": "markdown",
   "id": "e44a2fa5-edea-436b-83d8-9225ee1f8c98",
   "metadata": {},
   "source": [
    "## Copy Dictionaries\n",
    "### copy()"
   ]
  },
  {
   "cell_type": "code",
   "execution_count": 117,
   "id": "6da60e44-40dc-485b-b648-ded0296b1b87",
   "metadata": {},
   "outputs": [
    {
     "name": "stdout",
     "output_type": "stream",
     "text": [
      "{'brand': 'Ford', 'model': 'Mustang', 'year': 1964}\n"
     ]
    }
   ],
   "source": [
    "thisdict = {\"brand\":\"Ford\", \"model\":\"Mustang\", \"year\":1964}\n",
    "mydict = thisdict.copy()\n",
    "print(mydict)"
   ]
  },
  {
   "cell_type": "markdown",
   "id": "d8c673ba-942c-4920-9d73-971af0ce702e",
   "metadata": {},
   "source": [
    "### dict()"
   ]
  },
  {
   "cell_type": "code",
   "execution_count": 120,
   "id": "a67f82cc-c97e-4867-b680-d9c83f1e97a8",
   "metadata": {},
   "outputs": [
    {
     "name": "stdout",
     "output_type": "stream",
     "text": [
      "{'brand': 'Ford', 'model': 'Mustang', 'year': 1964}\n"
     ]
    }
   ],
   "source": [
    "thisdict = {\"brand\":\"Ford\", \"model\":\"Mustang\", \"year\":1964}\n",
    "mydict = dict(thisdict)\n",
    "print(mydict)"
   ]
  },
  {
   "cell_type": "markdown",
   "id": "1da5505a-83b9-4d06-8cfc-9c6638dece5e",
   "metadata": {},
   "source": [
    "## Nested Dictionaries\n",
    "#### A dictionary can contain dictionaries, this is called nested dictionaries."
   ]
  },
  {
   "cell_type": "code",
   "execution_count": 125,
   "id": "72b6f0f5-44d5-4dbe-8fe4-3632d421e888",
   "metadata": {},
   "outputs": [
    {
     "name": "stdout",
     "output_type": "stream",
     "text": [
      "{'child1': {'name': 'Emil', 'year': 2004}, 'child2': {'name': 'Tobias', 'year': 2007}, 'child3': {'name': 'Linus', 'year': 2011}}\n"
     ]
    }
   ],
   "source": [
    "# Create a dictionary that contain three dictionaries:\n",
    "myfamily = {\n",
    "    \"child1\":{\"name\":\"Emil\", \"year\":2004},\n",
    "    \"child2\":{\"name\":\"Tobias\", \"year\":2007},\n",
    "    \"child3\":{\"name\":\"Linus\", \"year\":2011}\n",
    "}\n",
    "print(myfamily)"
   ]
  },
  {
   "cell_type": "code",
   "execution_count": 129,
   "id": "0548cc1e-8c98-49b0-9120-7b9acf53bd47",
   "metadata": {},
   "outputs": [
    {
     "name": "stdout",
     "output_type": "stream",
     "text": [
      "{'child1': {'name': 'Emil', 'year': 2004}, 'child2': {'name': 'Tobias', 'year': 2007}, 'child3': {'name': 'Linus', 'year': 2011}}\n"
     ]
    }
   ],
   "source": [
    "#Create three dictionaries, then create one dictionary that will contain the other three dictionaries:\n",
    "child1 = {\"name\":\"Emil\", \"year\":2004}\n",
    "child2 = {\"name\":\"Tobias\", \"year\":2007}\n",
    "child3 = {\"name\":\"Linus\", \"year\":2011}\n",
    "\n",
    "myfamily ={\"child1\":child1, \"child2\":child2, \"child3\":child3}\n",
    "print(myfamily)"
   ]
  },
  {
   "cell_type": "markdown",
   "id": "c6e2d3b5-ea3a-4b0e-91c2-159a9e168463",
   "metadata": {},
   "source": [
    "### Access Items in Nested Dictionaries"
   ]
  },
  {
   "cell_type": "code",
   "execution_count": 137,
   "id": "d9ec92b4-25a1-4009-b1e1-262f8e74a9ae",
   "metadata": {},
   "outputs": [
    {
     "name": "stdout",
     "output_type": "stream",
     "text": [
      "Tobias\n",
      "2004\n"
     ]
    }
   ],
   "source": [
    "myfamily = {\n",
    "    \"child1\":{\"name\":\"Emil\", \"year\":2004},\n",
    "    \"child2\":{\"name\":\"Tobias\", \"year\":2007},\n",
    "    \"child3\":{\"name\":\"Linus\", \"year\":2011}\n",
    "}\n",
    "print(myfamily[\"child2\"][\"name\"])\n",
    "print(myfamily[\"child1\"][\"year\"])"
   ]
  },
  {
   "cell_type": "markdown",
   "id": "41d9b6d8-77a7-4583-9a45-5d90492e3467",
   "metadata": {},
   "source": [
    "### Loop Through Nested Dictionaries"
   ]
  },
  {
   "cell_type": "markdown",
   "id": "e4654e7c-544d-4547-8170-7c9f1053c7bc",
   "metadata": {},
   "source": [
    "### items()"
   ]
  },
  {
   "cell_type": "code",
   "execution_count": 168,
   "id": "b9761ccf-3cd6-4a96-8dd7-8e9ee93c17c0",
   "metadata": {},
   "outputs": [
    {
     "name": "stdout",
     "output_type": "stream",
     "text": [
      "child1\n",
      "{'name': 'Emil', 'year': 2004}\n",
      "child2\n",
      "{'name': 'Tobias', 'year': 2007}\n",
      "child3\n",
      "{'name': 'Linus', 'year': 2011}\n"
     ]
    }
   ],
   "source": [
    "# Loop through the keys and values of all nested dictionaries:\n",
    "myfamily = {\n",
    "    \"child1\":{\"name\":\"Emil\", \"year\":2004},\n",
    "    \"child2\":{\"name\":\"Tobias\", \"year\":2007},\n",
    "    \"child3\":{\"name\":\"Linus\", \"year\":2011}\n",
    "}\n",
    "for x, y in myfamily.items():\n",
    "    print(x)\n",
    "    print(y)\n",
    "    "
   ]
  },
  {
   "cell_type": "code",
   "execution_count": 180,
   "id": "32a1eb07-a5c0-407e-87e0-116e06a934d7",
   "metadata": {},
   "outputs": [
    {
     "name": "stdout",
     "output_type": "stream",
     "text": [
      "child1\n",
      "name: Emil\n",
      "year: 2004\n",
      "child2\n",
      "name: Tobias\n",
      "year: 2007\n",
      "child3\n",
      "name: Linus\n",
      "year: 2011\n"
     ]
    }
   ],
   "source": [
    "myfamily = {\n",
    "    \"child1\":{\"name\":\"Emil\", \"year\":2004},\n",
    "    \"child2\":{\"name\":\"Tobias\", \"year\":2007},\n",
    "    \"child3\":{\"name\":\"Linus\", \"year\":2011}\n",
    "}\n",
    "for x, y in myfamily.items():\n",
    "    print(x)\n",
    "    for w in y:\n",
    "        print(w + \":\", y[w])"
   ]
  }
 ],
 "metadata": {
  "kernelspec": {
   "display_name": "Python [conda env:base] *",
   "language": "python",
   "name": "conda-base-py"
  },
  "language_info": {
   "codemirror_mode": {
    "name": "ipython",
    "version": 3
   },
   "file_extension": ".py",
   "mimetype": "text/x-python",
   "name": "python",
   "nbconvert_exporter": "python",
   "pygments_lexer": "ipython3",
   "version": "3.12.7"
  }
 },
 "nbformat": 4,
 "nbformat_minor": 5
}
