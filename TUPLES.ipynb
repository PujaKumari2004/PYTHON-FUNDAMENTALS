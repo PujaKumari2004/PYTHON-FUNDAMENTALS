{
 "cells": [
  {
   "cell_type": "code",
   "execution_count": 23,
   "id": "9d4c40a1-3666-48b9-9b01-b3b95d940a15",
   "metadata": {
    "scrolled": true
   },
   "outputs": [
    {
     "name": "stdout",
     "output_type": "stream",
     "text": [
      "(1, 2, 3, 4)\n",
      "<class 'tuple'>\n",
      "(1, 2, 2, 3, 3, 3, 4, 5)\n"
     ]
    },
    {
     "ename": "TypeError",
     "evalue": "'tuple' object does not support item assignment",
     "output_type": "error",
     "traceback": [
      "\u001b[1;31m---------------------------------------------------------------------------\u001b[0m",
      "\u001b[1;31mTypeError\u001b[0m                                 Traceback (most recent call last)",
      "Cell \u001b[1;32mIn[23], line 7\u001b[0m\n\u001b[0;32m      5\u001b[0m t2 \u001b[38;5;241m=\u001b[39m (\u001b[38;5;241m1\u001b[39m,\u001b[38;5;241m2\u001b[39m,\u001b[38;5;241m2\u001b[39m,\u001b[38;5;241m3\u001b[39m,\u001b[38;5;241m3\u001b[39m,\u001b[38;5;241m3\u001b[39m,\u001b[38;5;241m4\u001b[39m,\u001b[38;5;241m5\u001b[39m)\n\u001b[0;32m      6\u001b[0m \u001b[38;5;28mprint\u001b[39m(t2)\n\u001b[1;32m----> 7\u001b[0m t1[\u001b[38;5;241m1\u001b[39m] \u001b[38;5;241m=\u001b[39m \u001b[38;5;124m\"\u001b[39m\u001b[38;5;124ma\u001b[39m\u001b[38;5;124m\"\u001b[39m\n\u001b[0;32m      8\u001b[0m \u001b[38;5;28mprint\u001b[39m(t1)\n",
      "\u001b[1;31mTypeError\u001b[0m: 'tuple' object does not support item assignment"
     ]
    }
   ],
   "source": [
    "#TUPLES ARE ORDERED, UNCHANGABLE AND ALLOW DUPLICATE VALUES\n",
    "t1 = (1,2,3,4)\n",
    "print(t1)\n",
    "print(type(t1))\n",
    "t2 = (1,2,2,3,3,3,4,5)\n",
    "print(t2)\n",
    "t1[1] = \"a\"\n",
    "print(t1)"
   ]
  },
  {
   "cell_type": "code",
   "execution_count": null,
   "id": "2581672a-8bbd-4067-b6d1-e959f75a592c",
   "metadata": {},
   "outputs": [],
   "source": [
    "t1 = (1,2,3,4)\n",
    "print(len(t1))\n",
    "\n",
    "t2 = (1,2,2,3,4,5,5,5)\n",
    "print(len(t2))"
   ]
  },
  {
   "cell_type": "code",
   "execution_count": null,
   "id": "f1cbb3d3-29f4-4640-9aa2-46842105d112",
   "metadata": {},
   "outputs": [],
   "source": [
    "t3 = (\"a\", \"b\", \"c\", \"d\", \"e\")\n",
    "print(len(t3))"
   ]
  },
  {
   "cell_type": "code",
   "execution_count": 1,
   "id": "b249ffda-b359-4e85-b645-e281cd2ee8ca",
   "metadata": {},
   "outputs": [
    {
     "name": "stdout",
     "output_type": "stream",
     "text": [
      "<class 'tuple'>\n",
      "<class 'str'>\n"
     ]
    }
   ],
   "source": [
    "#TUPLE WITH ONE ELEMENT\n",
    "t4 = (122,)\n",
    "t5 = (\"happiest\") #\",\" IS MISSING THEREFORE STRING TYPE\n",
    "print(type(t4))\n",
    "print(type(t5))"
   ]
  },
  {
   "cell_type": "code",
   "execution_count": 3,
   "id": "a1ab5350-55eb-4fef-aca5-0b4e26344e02",
   "metadata": {},
   "outputs": [
    {
     "name": "stdout",
     "output_type": "stream",
     "text": [
      "c\n",
      "e\n",
      "('c', 'd', 'e')\n",
      "('b', 'c', 'd', 'e')\n",
      "e\n",
      "c\n",
      "a\n",
      "('b', 'c')\n"
     ]
    }
   ],
   "source": [
    "#ACCESS TUPLE ITEMS\n",
    "t6 = (\"a\", \"b\", \"c\", \"d\", \"e\")\n",
    "\n",
    "#POSITIVE INDEXING\n",
    "print(t6[2])\n",
    "print(t6[4])\n",
    "print(t6[2:5])\n",
    "print(t6[1:])\n",
    "\n",
    "#NEGATIVE INDEXING\n",
    "print(t6[-1])\n",
    "print(t6[-3])\n",
    "print(t6[-5])\n",
    "print(t6[-4:-2])"
   ]
  },
  {
   "cell_type": "code",
   "execution_count": 5,
   "id": "36887395-f4bb-497b-87dd-235ce19127a1",
   "metadata": {},
   "outputs": [
    {
     "name": "stdout",
     "output_type": "stream",
     "text": [
      "<class 'list'>\n",
      "('A', 'B', 11, 'D', 'E')\n"
     ]
    }
   ],
   "source": [
    "t2 = (\"A\", \"B\", \"C\", \"D\", \"E\")\n",
    "y = list(t2)\n",
    "print(type(y))\n",
    "\n",
    "y[2] = 11\n",
    "t2 = tuple(y)\n",
    "print(t2)\n"
   ]
  },
  {
   "cell_type": "code",
   "execution_count": 38,
   "id": "dfe17c9f-e621-4a87-9f71-82594cb46d8f",
   "metadata": {},
   "outputs": [
    {
     "name": "stdout",
     "output_type": "stream",
     "text": [
      "('A', 'B', 11, 'D', 'E', 6, 6)\n"
     ]
    }
   ],
   "source": [
    "z = list(t2)\n",
    "z.append(6)\n",
    "t2 = tuple(z)\n",
    "print(t2)"
   ]
  },
  {
   "cell_type": "code",
   "execution_count": 40,
   "id": "167493e8-2e7c-47df-871d-5870b18475eb",
   "metadata": {},
   "outputs": [
    {
     "name": "stdout",
     "output_type": "stream",
     "text": [
      "(90, 'A', 'B', 'C', 'D', 'E')\n"
     ]
    }
   ],
   "source": [
    "#ADDITION OF TUPLES\n",
    "t1 = (90,)\n",
    "t2 = (\"A\", \"B\", \"C\", \"D\", \"E\")\n",
    "tuple_add1 = t1 + t2\n",
    "print(tuple_add1)"
   ]
  },
  {
   "cell_type": "code",
   "execution_count": 44,
   "id": "f5bdf003-1309-43ba-8dbc-5a132eb1393e",
   "metadata": {},
   "outputs": [
    {
     "name": "stdout",
     "output_type": "stream",
     "text": [
      "('A', 'B', 'D')\n"
     ]
    }
   ],
   "source": [
    "#REMOVE ITEMS IN TUPLE\n",
    "\n",
    "t2 = (\"A\", \"B\", \"C\", \"D\", \"E\")\n",
    "l = list(t2)\n",
    "l.remove(\"C\")\n",
    "l.pop()\n",
    "t2 = tuple(l)\n",
    "print(t2)"
   ]
  },
  {
   "cell_type": "code",
   "execution_count": 48,
   "id": "1852cde0-7bc8-4d89-832f-9c0263f4e89e",
   "metadata": {},
   "outputs": [
    {
     "name": "stdout",
     "output_type": "stream",
     "text": [
      "(1, 2, 3, 1, 2, 3)\n"
     ]
    }
   ],
   "source": [
    "#Multiplying a tuple\n",
    "t1 = (1,2,3)\n",
    "t2 = t1 * 2\n",
    "print(t2)"
   ]
  },
  {
   "cell_type": "code",
   "execution_count": 58,
   "id": "90354cd9-5d24-4cd7-a974-da056450dd48",
   "metadata": {},
   "outputs": [
    {
     "name": "stdout",
     "output_type": "stream",
     "text": [
      "3\n",
      "6\n",
      "6\n",
      "16\n"
     ]
    }
   ],
   "source": [
    "# COUNTING AND INDEXING\n",
    "t1 = (1,2,3,3,3,4,55,5,5,5,5,5,55,5,6,6,77,7)\n",
    "print(t1.count(3))\n",
    "print(t1.count(5))\n",
    "\n",
    "print(t1.index(55))\n",
    "print(t1.index(77))"
   ]
  },
  {
   "cell_type": "code",
   "execution_count": null,
   "id": "fd86acb6-9cec-4591-b396-39aba9916db3",
   "metadata": {},
   "outputs": [],
   "source": []
  }
 ],
 "metadata": {
  "kernelspec": {
   "display_name": "Python [conda env:base] *",
   "language": "python",
   "name": "conda-base-py"
  },
  "language_info": {
   "codemirror_mode": {
    "name": "ipython",
    "version": 3
   },
   "file_extension": ".py",
   "mimetype": "text/x-python",
   "name": "python",
   "nbconvert_exporter": "python",
   "pygments_lexer": "ipython3",
   "version": "3.12.7"
  }
 },
 "nbformat": 4,
 "nbformat_minor": 5
}
