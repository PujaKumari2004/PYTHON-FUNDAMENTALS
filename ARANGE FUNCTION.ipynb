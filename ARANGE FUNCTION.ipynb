{
 "cells": [
  {
   "cell_type": "code",
   "execution_count": 1,
   "id": "75d9e44a-48a4-44b1-9a8a-e4efe3426fab",
   "metadata": {},
   "outputs": [
    {
     "data": {
      "text/plain": [
       "array([ 1.,  3.,  5.,  7.,  9., 11., 13., 15., 17., 19.], dtype=float32)"
      ]
     },
     "execution_count": 1,
     "metadata": {},
     "output_type": "execute_result"
    }
   ],
   "source": [
    "import numpy as np\n",
    "np.arange(1, 20, 2, dtype = np.float32)"
   ]
  },
  {
   "cell_type": "code",
   "execution_count": 5,
   "id": "e6beed76-a41b-4fae-8b8f-c4f94ec5ea84",
   "metadata": {},
   "outputs": [
    {
     "data": {
      "text/plain": [
       "array([ 3,  6, 10])"
      ]
     },
     "execution_count": 5,
     "metadata": {},
     "output_type": "execute_result"
    }
   ],
   "source": [
    "import numpy as np\n",
    "np.linspace(3.5, 10, 3, dtype = np.int32)"
   ]
  },
  {
   "cell_type": "code",
   "execution_count": 9,
   "id": "c8fef748-9f80-41b9-a790-4a1d1f5a52a4",
   "metadata": {},
   "outputs": [
    {
     "data": {
      "text/plain": [
       "array([[4128860, 6619251, 6029426],\n",
       "       [6029375, 7536754, 7340097],\n",
       "       [3801155, 7667804, 4456560],\n",
       "       [5570652, 6619251, 7602273]])"
      ]
     },
     "execution_count": 9,
     "metadata": {},
     "output_type": "execute_result"
    }
   ],
   "source": [
    "import numpy as np\n",
    "np.empty([4, 3],\n",
    "         dtype = np.int32,\n",
    "         order = \"f\")"
   ]
  },
  {
   "cell_type": "code",
   "execution_count": 7,
   "id": "6a12c49b-b3a6-4718-8ed6-f9acb4b02511",
   "metadata": {},
   "outputs": [
    {
     "data": {
      "text/plain": [
       "array([[1, 1, 1],\n",
       "       [1, 1, 1],\n",
       "       [1, 1, 1],\n",
       "       [1, 1, 1]])"
      ]
     },
     "execution_count": 7,
     "metadata": {},
     "output_type": "execute_result"
    }
   ],
   "source": [
    "import numpy as np\n",
    "np.ones([4, 3],\n",
    "         dtype = np.int32,\n",
    "         order = \"f\")"
   ]
  },
  {
   "cell_type": "code",
   "execution_count": null,
   "id": "6c22004a-3b83-415c-848b-baa4dbfd4098",
   "metadata": {},
   "outputs": [],
   "source": []
  }
 ],
 "metadata": {
  "kernelspec": {
   "display_name": "Python [conda env:base] *",
   "language": "python",
   "name": "conda-base-py"
  },
  "language_info": {
   "codemirror_mode": {
    "name": "ipython",
    "version": 3
   },
   "file_extension": ".py",
   "mimetype": "text/x-python",
   "name": "python",
   "nbconvert_exporter": "python",
   "pygments_lexer": "ipython3",
   "version": "3.12.7"
  }
 },
 "nbformat": 4,
 "nbformat_minor": 5
}
