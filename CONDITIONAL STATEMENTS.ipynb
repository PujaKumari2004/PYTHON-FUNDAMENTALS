{
 "cells": [
  {
   "cell_type": "code",
   "execution_count": 1,
   "id": "ad3d2944-ebac-4870-8f57-fc5dd6b1aa7b",
   "metadata": {},
   "outputs": [
    {
     "name": "stdout",
     "output_type": "stream",
     "text": [
      "b is greater than a\n"
     ]
    }
   ],
   "source": [
    "#An \"if statement\" is written by using the if keyword\n",
    "a = 50\n",
    "b = 100\n",
    "if b > a:\n",
    "    print(\"b is greater than a\")"
   ]
  },
  {
   "cell_type": "code",
   "execution_count": 3,
   "id": "b457253a-b4d3-4271-abc8-af3d71c9ef9c",
   "metadata": {},
   "outputs": [
    {
     "ename": "IndentationError",
     "evalue": "expected an indented block after 'if' statement on line 4 (2842796517.py, line 5)",
     "output_type": "error",
     "traceback": [
      "\u001b[1;36m  Cell \u001b[1;32mIn[3], line 5\u001b[1;36m\u001b[0m\n\u001b[1;33m    print(\"b is greater than a\")\u001b[0m\n\u001b[1;37m    ^\u001b[0m\n\u001b[1;31mIndentationError\u001b[0m\u001b[1;31m:\u001b[0m expected an indented block after 'if' statement on line 4\n"
     ]
    }
   ],
   "source": [
    "#Indentation Error\n",
    "a =  50\n",
    "b = 100\n",
    "if b > a:\n",
    "print(\"b is greater than a\")    "
   ]
  },
  {
   "cell_type": "code",
   "execution_count": 11,
   "id": "f3385159-dcd8-4d03-a6c9-b316408e98eb",
   "metadata": {},
   "outputs": [
    {
     "name": "stdin",
     "output_type": "stream",
     "text": [
      "Enter a number: -23\n"
     ]
    },
    {
     "name": "stdout",
     "output_type": "stream",
     "text": [
      "Given number is a negative number\n"
     ]
    }
   ],
   "source": [
    "number = int(input(\"Enter a number:\"))\n",
    "#Check if number is greater than 0\n",
    "if number > 0:\n",
    "    print(\"Given number is a positive number\")\n",
    "else:\n",
    "    print(\"Given number is a negative number\")"
   ]
  },
  {
   "cell_type": "code",
   "execution_count": null,
   "id": "0d6269a9-32a2-4cec-a524-1e86c3aaf8b6",
   "metadata": {},
   "outputs": [],
   "source": [
    "#if...else statement\n",
    "\n",
    "#if condition:\n",
    "    # body of if statement\n",
    "#else:\n",
    "    # body of else statement"
   ]
  },
  {
   "cell_type": "code",
   "execution_count": 15,
   "id": "0c64debb-4af4-493e-bcdf-66890883185d",
   "metadata": {},
   "outputs": [],
   "source": [
    "# WAP to check whether a given number is even or odd "
   ]
  },
  {
   "cell_type": "code",
   "execution_count": 17,
   "id": "dcfe3907-14ed-41bc-b90e-2d566bd800e8",
   "metadata": {},
   "outputs": [
    {
     "name": "stdin",
     "output_type": "stream",
     "text": [
      "Enter a number: 25\n"
     ]
    },
    {
     "name": "stdout",
     "output_type": "stream",
     "text": [
      "Odd number\n"
     ]
    }
   ],
   "source": [
    "num = int(input(\"Enter a number:\"))\n",
    "if (num % 2 == 0):\n",
    "    print(\"Even number\")\n",
    "else:\n",
    "    print(\"Odd number\")"
   ]
  },
  {
   "cell_type": "code",
   "execution_count": 19,
   "id": "855e043d-a713-4802-8568-39569e952234",
   "metadata": {},
   "outputs": [
    {
     "name": "stdout",
     "output_type": "stream",
     "text": [
      "not equal\n"
     ]
    }
   ],
   "source": [
    "# elif\n",
    "\n",
    "a = 20\n",
    "b = 15\n",
    "if b > a:\n",
    "    print(\"b is greater than a\")\n",
    "elif a == b:\n",
    "    print(\"a and b are not equal\")\n",
    "else:\n",
    "    print(\"not equal\")"
   ]
  },
  {
   "cell_type": "code",
   "execution_count": 21,
   "id": "4b871e92-a031-4cf6-9252-9c06ca784da7",
   "metadata": {},
   "outputs": [
    {
     "name": "stdout",
     "output_type": "stream",
     "text": [
      "Negative number\n"
     ]
    }
   ],
   "source": [
    "number = -5\n",
    "if number > 0:\n",
    "    print(\"Positive number\")\n",
    "elif  number < 0:\n",
    "    print(\"Negative number\")\n",
    "else:\n",
    "    print(\"Zero\")"
   ]
  },
  {
   "cell_type": "code",
   "execution_count": 25,
   "id": "d13fbede-92d8-4e19-9bbf-985621d9ae53",
   "metadata": {},
   "outputs": [
    {
     "name": "stdout",
     "output_type": "stream",
     "text": [
      "Number is positive\n"
     ]
    }
   ],
   "source": [
    "#Nested if Statements\n",
    "number = 5\n",
    "\n",
    "#outer if statement\n",
    "if number >= 0:\n",
    "    # inner if statement\n",
    "    if number == 0:\n",
    "        print(\"Number is 0\")\n",
    "    else:\n",
    "        print(\"Number is positive\")\n",
    "        \n",
    "#Outer else Stetement\n",
    "else:\n",
    "    print(\"Number is negative\")\n",
    "\n",
    "        "
   ]
  },
  {
   "cell_type": "code",
   "execution_count": 27,
   "id": "949cfb8c-df58-4e94-bfff-d0b30cabad54",
   "metadata": {},
   "outputs": [
    {
     "name": "stdout",
     "output_type": "stream",
     "text": [
      "Both conditions are not True\n"
     ]
    }
   ],
   "source": [
    "# Using And\n",
    "a = 20\n",
    "b = 33\n",
    "c = 500\n",
    "if a > b and c > a:\n",
    "    print(\"Both conditions are True\")\n",
    "else:\n",
    "    print(\"Both conditions are not True\")"
   ]
  },
  {
   "cell_type": "code",
   "execution_count": 29,
   "id": "cffb7629-902d-4e38-a512-f4b1521a1786",
   "metadata": {},
   "outputs": [
    {
     "name": "stdout",
     "output_type": "stream",
     "text": [
      "Atleast one of the conditions is True\n"
     ]
    }
   ],
   "source": [
    "# Using Or\n",
    "a = 200\n",
    "b = 33\n",
    "c = 500\n",
    "if a > b or a > c:\n",
    "    print(\"Atleast one of the conditions is True\")"
   ]
  },
  {
   "cell_type": "code",
   "execution_count": 5,
   "id": "65a367eb-bdfc-4df2-b932-406e865aebef",
   "metadata": {},
   "outputs": [
    {
     "name": "stdin",
     "output_type": "stream",
     "text": [
      "Enter a =: 34\n",
      "Enter b =: 45\n",
      "Enter c =: 56\n"
     ]
    },
    {
     "name": "stdout",
     "output_type": "stream",
     "text": [
      "c is largest\n"
     ]
    }
   ],
   "source": [
    "# WAP to print the largest of the three numbers.\n",
    "a = int(input(\"Enter a =:\"))\n",
    "b = int(input(\"Enter b =:\"))\n",
    "c = int(input(\"Enter c =:\"))\n",
    "if a > b and a > c:\n",
    "    print(\"a is largest\")\n",
    "if b > a and b > c:\n",
    "    print(\"b is largest\") \n",
    "if c > b and c > a:\n",
    "    print(\"c is largest\")"
   ]
  },
  {
   "cell_type": "code",
   "execution_count": 21,
   "id": "38959040-f112-46bb-a719-f681e2a4778c",
   "metadata": {},
   "outputs": [
    {
     "name": "stdin",
     "output_type": "stream",
     "text": [
      "Enter x =: 20\n",
      "Enter y =: 10\n"
     ]
    },
    {
     "name": "stdout",
     "output_type": "stream",
     "text": [
      "x is largest\n"
     ]
    }
   ],
   "source": [
    "# WAP to print the largest of the two numbers.\n",
    "x = int(input(\"Enter x =:\"))\n",
    "y = int(input(\"Enter y =:\"))\n",
    "if x > y:\n",
    "    print(\"x is largest\")\n",
    "else:\n",
    "    print(\"y is largest\")"
   ]
  },
  {
   "cell_type": "code",
   "execution_count": 30,
   "id": "a6b63c7b-8aa4-4456-8795-effafd8c097f",
   "metadata": {},
   "outputs": [
    {
     "name": "stdin",
     "output_type": "stream",
     "text": [
      "Enter a year: 2000\n"
     ]
    },
    {
     "name": "stdout",
     "output_type": "stream",
     "text": [
      "leap year\n"
     ]
    }
   ],
   "source": [
    "#WAP to check whether the given year is leap year or not?\n",
    "\n",
    "year = int(input(\"Enter a year:\"))\n",
    "\n",
    "#divided by 100 means century year (ending with 00)\n",
    "#century year divided by 400 is a leap year\n",
    "if(year % 100 == 0) and (year % 400 == 0):\n",
    "    print(\"leap year\")\n",
    "\n",
    "#not divided by 100 means not a century year\n",
    "#year divided by 4 is a leap year\n",
    "elif(year % 100 != 0) and (year % 4 == 0):\n",
    "    print(\"leap year\")\n",
    "\n",
    "#if not divided by both 400(century year ) and 4 (not century year)\n",
    "#year is not leap year\n",
    "else:\n",
    "    print(\"not a leap year\")"
   ]
  },
  {
   "cell_type": "code",
   "execution_count": 34,
   "id": "3af099c1-06a4-44e4-b601-b9c871712428",
   "metadata": {},
   "outputs": [
    {
     "name": "stdin",
     "output_type": "stream",
     "text": [
      "Enter a: 2\n",
      "Enter b: 5\n"
     ]
    },
    {
     "name": "stdout",
     "output_type": "stream",
     "text": [
      "7\n",
      "-3\n",
      "10\n",
      "0.4\n"
     ]
    }
   ],
   "source": [
    "#WAP to add/sub/multiply/division two numbers \n",
    "\n",
    "a = int(input(\"Enter a:\"))\n",
    "b = int(input(\"Enter b:\"))\n",
    "sum = a + b\n",
    "differnce = a - b\n",
    "product = a * b\n",
    "division = a / b\n",
    "print(sum)\n",
    "print(differnce)\n",
    "print(product)\n",
    "print(division)"
   ]
  },
  {
   "cell_type": "code",
   "execution_count": 48,
   "id": "d84beacc-73aa-4134-8876-5b03662a647d",
   "metadata": {},
   "outputs": [
    {
     "name": "stdout",
     "output_type": "stream",
     "text": [
      "[6, 2, 3, 4, 5, 1]\n"
     ]
    }
   ],
   "source": [
    "#WAP to swap two elements using third variable\n",
    "\n",
    "List = [1,2,3,4,5,6]\n",
    "fixed_element = List[0]\n",
    "List[0]=List[-1]\n",
    "List[-1] = fixed_element\n",
    "print(List)"
   ]
  },
  {
   "cell_type": "code",
   "execution_count": 42,
   "id": "f4770761-7ad7-4d79-bcfe-11722c07583c",
   "metadata": {},
   "outputs": [
    {
     "name": "stdout",
     "output_type": "stream",
     "text": [
      "[6, 2, 3, 4, 5, 1]\n"
     ]
    }
   ],
   "source": [
    "#WAP to swap two elements WITHOUT using THIRD variables\n",
    "\n",
    "List = [1, 2, 3, 4, 5, 6]\n",
    "List[0], List[-1] = List[-1], List[0]\n",
    "print(List)\n"
   ]
  }
 ],
 "metadata": {
  "kernelspec": {
   "display_name": "Python [conda env:base] *",
   "language": "python",
   "name": "conda-base-py"
  },
  "language_info": {
   "codemirror_mode": {
    "name": "ipython",
    "version": 3
   },
   "file_extension": ".py",
   "mimetype": "text/x-python",
   "name": "python",
   "nbconvert_exporter": "python",
   "pygments_lexer": "ipython3",
   "version": "3.12.7"
  }
 },
 "nbformat": 4,
 "nbformat_minor": 5
}
