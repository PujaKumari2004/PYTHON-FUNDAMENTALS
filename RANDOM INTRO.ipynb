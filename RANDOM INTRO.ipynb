{
 "cells": [
  {
   "cell_type": "code",
   "execution_count": 33,
   "id": "2312ede9-26f8-4614-8138-db5f0ed56746",
   "metadata": {},
   "outputs": [
    {
     "name": "stdout",
     "output_type": "stream",
     "text": [
      "7\n"
     ]
    }
   ],
   "source": [
    "from numpy import random\n",
    "x = random.randint(10)\n",
    "print(x)"
   ]
  },
  {
   "cell_type": "code",
   "execution_count": 131,
   "id": "7afc7d41-73c2-4d08-9173-6adc8a3e730b",
   "metadata": {},
   "outputs": [
    {
     "name": "stdout",
     "output_type": "stream",
     "text": [
      "0.8683963516316112\n"
     ]
    }
   ],
   "source": [
    "from numpy import random\n",
    "x = random.rand()\n",
    "print(x)"
   ]
  },
  {
   "cell_type": "code",
   "execution_count": 85,
   "id": "e8af682c-aabb-442f-a44a-5c5f453a7614",
   "metadata": {},
   "outputs": [
    {
     "name": "stdout",
     "output_type": "stream",
     "text": [
      "[75 70 46 47 30] <class 'numpy.ndarray'>\n"
     ]
    }
   ],
   "source": [
    "from numpy import random\n",
    "x = random.randint(100, size=(5))\n",
    "print(x, type(x))"
   ]
  },
  {
   "cell_type": "code",
   "execution_count": 101,
   "id": "ad595c46-35e0-4595-ad28-2a0ce1a10fc1",
   "metadata": {},
   "outputs": [
    {
     "name": "stdout",
     "output_type": "stream",
     "text": [
      "[[72 85 13 81 89]\n",
      " [94  6 82 23 78]\n",
      " [88 24 27 86 33]]\n"
     ]
    }
   ],
   "source": [
    "from numpy import random\n",
    "x = random.randint(100,  size=(3, 5))\n",
    "print(x)"
   ]
  },
  {
   "cell_type": "code",
   "execution_count": 119,
   "id": "64313143-2170-4d47-a14c-bf537a3ec761",
   "metadata": {},
   "outputs": [
    {
     "name": "stdout",
     "output_type": "stream",
     "text": [
      "[0.47634523 0.2177966  0.0936617  0.30599107 0.27795467]\n"
     ]
    }
   ],
   "source": [
    "from numpy import random\n",
    "x = random.rand(5)\n",
    "print(x)"
   ]
  },
  {
   "cell_type": "code",
   "execution_count": null,
   "id": "402619e7-77db-48d3-bd0f-4ea5dd6e4cf8",
   "metadata": {},
   "outputs": [],
   "source": []
  }
 ],
 "metadata": {
  "kernelspec": {
   "display_name": "Python [conda env:base] *",
   "language": "python",
   "name": "conda-base-py"
  },
  "language_info": {
   "codemirror_mode": {
    "name": "ipython",
    "version": 3
   },
   "file_extension": ".py",
   "mimetype": "text/x-python",
   "name": "python",
   "nbconvert_exporter": "python",
   "pygments_lexer": "ipython3",
   "version": "3.12.7"
  }
 },
 "nbformat": 4,
 "nbformat_minor": 5
}
