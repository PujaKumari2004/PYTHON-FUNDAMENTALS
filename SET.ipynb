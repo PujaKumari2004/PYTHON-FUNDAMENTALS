{
 "cells": [
  {
   "cell_type": "code",
   "execution_count": 51,
   "id": "cfa6311f-bbae-4d7d-92c2-0c2054061249",
   "metadata": {},
   "outputs": [
    {
     "name": "stdout",
     "output_type": "stream",
     "text": [
      "{1, 2, 3, 4}\n"
     ]
    }
   ],
   "source": [
    "s1 = {1,2,3,4}\n",
    "print(s1)"
   ]
  },
  {
   "cell_type": "code",
   "execution_count": 7,
   "id": "6bfe0c70-1df3-4e56-93e4-89ab1f74b5d8",
   "metadata": {},
   "outputs": [
    {
     "name": "stdout",
     "output_type": "stream",
     "text": [
      "<class 'set'>\n"
     ]
    }
   ],
   "source": [
    "print(type(s1))"
   ]
  },
  {
   "cell_type": "code",
   "execution_count": 9,
   "id": "86f14ba8-5519-44bb-a123-367c7e33681f",
   "metadata": {},
   "outputs": [
    {
     "name": "stdout",
     "output_type": "stream",
     "text": [
      "4\n"
     ]
    }
   ],
   "source": [
    "print(len(s1))"
   ]
  },
  {
   "cell_type": "code",
   "execution_count": 13,
   "id": "e574b422-6cc7-4d01-bdee-d1c159b45124",
   "metadata": {},
   "outputs": [
    {
     "name": "stdout",
     "output_type": "stream",
     "text": [
      "{'banana', 'cherry', 'apple'}\n"
     ]
    }
   ],
   "source": [
    "s2 = {\"apple\", \"banana\", \"cherry\", \"apple\"}\n",
    "print(s2)"
   ]
  },
  {
   "cell_type": "code",
   "execution_count": 15,
   "id": "3294cd72-d0f4-4d09-baa6-9eaf649e340d",
   "metadata": {},
   "outputs": [
    {
     "name": "stdout",
     "output_type": "stream",
     "text": [
      "True\n"
     ]
    }
   ],
   "source": [
    "#ACCESS ITEMS\n",
    "print(4 in s1)"
   ]
  },
  {
   "cell_type": "code",
   "execution_count": 17,
   "id": "9cfcd747-429b-4079-9249-4533980ec0d6",
   "metadata": {},
   "outputs": [
    {
     "name": "stdout",
     "output_type": "stream",
     "text": [
      "True\n"
     ]
    }
   ],
   "source": [
    "print(5 not in s1)"
   ]
  },
  {
   "cell_type": "code",
   "execution_count": 19,
   "id": "b073e9e5-cf2d-4ae7-b47a-15a32fbb66ad",
   "metadata": {},
   "outputs": [
    {
     "name": "stdout",
     "output_type": "stream",
     "text": [
      "False\n"
     ]
    }
   ],
   "source": [
    "print(2 not in s1)"
   ]
  },
  {
   "cell_type": "code",
   "execution_count": 27,
   "id": "cdad261f-3a4a-4d8c-b539-745d03bf4a47",
   "metadata": {},
   "outputs": [
    {
     "name": "stdout",
     "output_type": "stream",
     "text": [
      "{1, 2, 3, 4, 'a'}\n"
     ]
    }
   ],
   "source": [
    "#ADD SET ITEMS\n",
    "s1.add('a')\n",
    "print(s1)"
   ]
  },
  {
   "cell_type": "code",
   "execution_count": 29,
   "id": "7f4206c9-1175-444e-8324-2a7a518a4dcb",
   "metadata": {},
   "outputs": [
    {
     "name": "stdout",
     "output_type": "stream",
     "text": [
      "{1, 2, 3, 4, 'banana', 'cherry', 'apple', 'a'}\n"
     ]
    }
   ],
   "source": [
    "s1.update(s2)\n",
    "print(s1)"
   ]
  },
  {
   "cell_type": "code",
   "execution_count": 79,
   "id": "fcd5f4f6-1586-4846-987b-7ddb2bdeb4a4",
   "metadata": {},
   "outputs": [
    {
     "name": "stdout",
     "output_type": "stream",
     "text": [
      "{1, 2, 3, 4}\n"
     ]
    }
   ],
   "source": [
    "s2 = {1,2,3,4}\n",
    "print(s2)"
   ]
  },
  {
   "cell_type": "code",
   "execution_count": 81,
   "id": "4873fdc8-53f7-4ce8-8636-571d8bb1f757",
   "metadata": {},
   "outputs": [
    {
     "name": "stdout",
     "output_type": "stream",
     "text": [
      "{2, 3, 4}\n"
     ]
    }
   ],
   "source": [
    "s2.remove(1)\n",
    "print(s2)"
   ]
  },
  {
   "cell_type": "code",
   "execution_count": 83,
   "id": "151d94f0-e931-4f78-b1cf-492cbe93b90a",
   "metadata": {},
   "outputs": [
    {
     "name": "stdout",
     "output_type": "stream",
     "text": [
      "{3, 4}\n"
     ]
    }
   ],
   "source": [
    "s2.pop()\n",
    "print(s2)"
   ]
  },
  {
   "cell_type": "code",
   "execution_count": 59,
   "id": "e8c9eba8-ec7f-4498-84cd-3736dd016b97",
   "metadata": {},
   "outputs": [],
   "source": [
    "s3 = {1,2}\n",
    "s3.clear()"
   ]
  },
  {
   "cell_type": "code",
   "execution_count": 61,
   "id": "e5ccec68-396e-4f3c-a24b-6a8fbff00f40",
   "metadata": {},
   "outputs": [
    {
     "data": {
      "text/plain": [
       "set()"
      ]
     },
     "execution_count": 61,
     "metadata": {},
     "output_type": "execute_result"
    }
   ],
   "source": [
    "s3"
   ]
  },
  {
   "cell_type": "code",
   "execution_count": 75,
   "id": "87cd0589-e3a3-4a14-b534-e26caa51e625",
   "metadata": {},
   "outputs": [],
   "source": [
    "s4 = {1,2}\n",
    "del s4"
   ]
  },
  {
   "cell_type": "code",
   "execution_count": 77,
   "id": "72c391df-468e-4db5-a87d-2509a105cbe7",
   "metadata": {},
   "outputs": [
    {
     "ename": "NameError",
     "evalue": "name 's4' is not defined",
     "output_type": "error",
     "traceback": [
      "\u001b[1;31m---------------------------------------------------------------------------\u001b[0m",
      "\u001b[1;31mNameError\u001b[0m                                 Traceback (most recent call last)",
      "Cell \u001b[1;32mIn[77], line 1\u001b[0m\n\u001b[1;32m----> 1\u001b[0m s4\n",
      "\u001b[1;31mNameError\u001b[0m: name 's4' is not defined"
     ]
    }
   ],
   "source": [
    "s4"
   ]
  },
  {
   "cell_type": "code",
   "execution_count": 117,
   "id": "aa693703-55c0-420e-815a-74959227a8bc",
   "metadata": {},
   "outputs": [
    {
     "name": "stdout",
     "output_type": "stream",
     "text": [
      "{1, 2, 3, 4, 'c', 'b', 'a'}\n"
     ]
    }
   ],
   "source": [
    "#SET OPERATIONS\n",
    "\n",
    "# UNION\n",
    "s5= {1,2,3,4, \"a\"}\n",
    "s6 = {\"a\", \"b\", \"c\"}\n",
    "s7 = s5.union(s6)\n",
    "print(s7)"
   ]
  },
  {
   "cell_type": "code",
   "execution_count": 119,
   "id": "3d733df7-930b-4dc4-a706-09790df74f8e",
   "metadata": {},
   "outputs": [
    {
     "name": "stdout",
     "output_type": "stream",
     "text": [
      "{'a'}\n"
     ]
    }
   ],
   "source": [
    "s8 = s5.intersection(s6)\n",
    "print(s8)"
   ]
  },
  {
   "cell_type": "code",
   "execution_count": 121,
   "id": "0633caa4-ef52-49ac-8902-2e5855949411",
   "metadata": {},
   "outputs": [
    {
     "name": "stdout",
     "output_type": "stream",
     "text": [
      "{1, 2, 3, 4}\n"
     ]
    }
   ],
   "source": [
    "s9 = s5.difference(s6)\n",
    "print(s9)"
   ]
  },
  {
   "cell_type": "code",
   "execution_count": null,
   "id": "3a11b7af-f438-4b7b-a51d-a3ca7b6c6d03",
   "metadata": {},
   "outputs": [],
   "source": []
  }
 ],
 "metadata": {
  "kernelspec": {
   "display_name": "Python [conda env:base] *",
   "language": "python",
   "name": "conda-base-py"
  },
  "language_info": {
   "codemirror_mode": {
    "name": "ipython",
    "version": 3
   },
   "file_extension": ".py",
   "mimetype": "text/x-python",
   "name": "python",
   "nbconvert_exporter": "python",
   "pygments_lexer": "ipython3",
   "version": "3.12.7"
  }
 },
 "nbformat": 4,
 "nbformat_minor": 5
}
