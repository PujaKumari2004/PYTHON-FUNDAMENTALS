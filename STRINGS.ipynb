{
 "cells": [
  {
   "cell_type": "code",
   "execution_count": 17,
   "id": "015e53c4-903a-4e05-ab35-b765d93baabd",
   "metadata": {},
   "outputs": [],
   "source": [
    "a = '''Whatever you do always give 100%, \n",
    "real eyes realize real lies,\n",
    "you appear insane by those who can't hear the music'''"
   ]
  },
  {
   "cell_type": "code",
   "execution_count": 23,
   "id": "b6b698e0-e808-4125-8eb5-146d30564f00",
   "metadata": {},
   "outputs": [
    {
     "name": "stdout",
     "output_type": "stream",
     "text": [
      "Whatever you do always give 100%, \n",
      "real eyes realize real lies,\n",
      "you appear insane by those who can't hear the music\n"
     ]
    }
   ],
   "source": [
    "print(a)"
   ]
  },
  {
   "cell_type": "code",
   "execution_count": 39,
   "id": "8d35d4a2-f2a6-4777-8e21-78d765f9431f",
   "metadata": {},
   "outputs": [
    {
     "name": "stdout",
     "output_type": "stream",
     "text": [
      "11\n",
      "e\n",
      "llo\n",
      "World\n",
      "Hello\n",
      "World\n",
      "Hello\n"
     ]
    }
   ],
   "source": [
    "a = \"Hello World\"\n",
    "print(len(a))\n",
    "\n",
    "print(a[1])\n",
    "print(a[2:5])\n",
    "print(a[6:11])\n",
    "print(a[:5])\n",
    "print(a[6:])\n",
    "print(a[:5])"
   ]
  },
  {
   "cell_type": "code",
   "execution_count": 41,
   "id": "f4d84f91-b543-4979-a042-f60d6a19fd2c",
   "metadata": {},
   "outputs": [
    {
     "name": "stdout",
     "output_type": "stream",
     "text": [
      "r\n",
      "Wor\n"
     ]
    }
   ],
   "source": [
    "a = \"Hello World\"\n",
    "print(a[-3])\n",
    "print(a[-5:-2])"
   ]
  },
  {
   "cell_type": "code",
   "execution_count": 1,
   "id": "d8ea58a3-b342-4175-96f1-f9466d985884",
   "metadata": {},
   "outputs": [
    {
     "name": "stdout",
     "output_type": "stream",
     "text": [
      "HELLO, WORLD!\n"
     ]
    }
   ],
   "source": [
    "#MODIFY STRINGS\n",
    "a = \"Hello, World!\"\n",
    "print(a.upper())"
   ]
  },
  {
   "cell_type": "code",
   "execution_count": 3,
   "id": "58af0550-e532-43b1-9531-d66076c040ef",
   "metadata": {},
   "outputs": [
    {
     "name": "stdout",
     "output_type": "stream",
     "text": [
      "hello, world!\n"
     ]
    }
   ],
   "source": [
    "print(a.lower())"
   ]
  },
  {
   "cell_type": "code",
   "execution_count": 5,
   "id": "897c4433-f4f9-4068-8612-8fedd5ebe8f2",
   "metadata": {},
   "outputs": [
    {
     "name": "stdout",
     "output_type": "stream",
     "text": [
      "Hello, World!\n"
     ]
    }
   ],
   "source": [
    "print(a.strip())"
   ]
  },
  {
   "cell_type": "code",
   "execution_count": 7,
   "id": "cadb193f-320a-4849-9103-fb956b8fb0ba",
   "metadata": {},
   "outputs": [
    {
     "name": "stdout",
     "output_type": "stream",
     "text": [
      "HelloWorld\n"
     ]
    }
   ],
   "source": [
    "#STRING CONCATENATION\n",
    "a = \"Hello\"\n",
    "b = \"World\"\n",
    "c = a + b \n",
    "print(c)"
   ]
  },
  {
   "cell_type": "code",
   "execution_count": 9,
   "id": "4f7ccf77-c89d-4c64-9d8f-0bc02e6d4f37",
   "metadata": {},
   "outputs": [
    {
     "name": "stdout",
     "output_type": "stream",
     "text": [
      "Hello World\n"
     ]
    }
   ],
   "source": [
    "c = a + \" \" + b\n",
    "print(c)"
   ]
  },
  {
   "cell_type": "code",
   "execution_count": 11,
   "id": "76c4cde2-ef67-4d8c-a462-864287d7c5bd",
   "metadata": {},
   "outputs": [
    {
     "name": "stdout",
     "output_type": "stream",
     "text": [
      "My name is John, and I am 36 years old\n"
     ]
    }
   ],
   "source": [
    "#FORMAT STRINGS\n",
    "\n",
    "age = 36\n",
    "txt = \"My name is John, and I am {} years old\"\n",
    "print(txt.format(age))"
   ]
  },
  {
   "cell_type": "code",
   "execution_count": 13,
   "id": "7fcadc28-8f3a-4348-8430-2671ec562c8d",
   "metadata": {},
   "outputs": [
    {
     "name": "stdout",
     "output_type": "stream",
     "text": [
      "I want 3 pieces of item 567 for 49.95 dollors.\n"
     ]
    }
   ],
   "source": [
    "quantity = 3\n",
    "item_no = 567\n",
    "price = 49.95\n",
    "my_order = \"I want {} pieces of item {} for {} dollors.\"\n",
    "print(my_order.format(quantity, item_no, price))"
   ]
  },
  {
   "cell_type": "code",
   "execution_count": 15,
   "id": "441d18ca-54dc-403c-b945-09c675e5878c",
   "metadata": {},
   "outputs": [
    {
     "name": "stdout",
     "output_type": "stream",
     "text": [
      "We are the so-called \"vikings\" from the north.\n"
     ]
    }
   ],
   "source": [
    "#ESCAPE CHARACTER\n",
    "text = \"We are the so-called \\\"vikings\\\" from the north.\"\n",
    "print(text)"
   ]
  },
  {
   "cell_type": "code",
   "execution_count": 1,
   "id": "fe3ef043-a160-44a7-98d3-b5d335827026",
   "metadata": {},
   "outputs": [
    {
     "name": "stdout",
     "output_type": "stream",
     "text": [
      "Hello, and welcome to my world\n"
     ]
    }
   ],
   "source": [
    "#CAPITALIZE METHOD\n",
    "txt = \"hello, and welcome to my world\"\n",
    "x = txt.capitalize()\n",
    "print(x)"
   ]
  },
  {
   "cell_type": "code",
   "execution_count": 3,
   "id": "62b15a86-9a17-4ec0-8db1-25d6465e086c",
   "metadata": {},
   "outputs": [
    {
     "name": "stdout",
     "output_type": "stream",
     "text": [
      "Welcome To My World\n"
     ]
    }
   ],
   "source": [
    "#TITLE METHOD\n",
    "#The first character is converted to upper case, and the rest are converted to lower case\n",
    "\n",
    "txt = \"Welcome to my world\"\n",
    "x = txt.title()\n",
    "print(x)"
   ]
  },
  {
   "cell_type": "code",
   "execution_count": 5,
   "id": "903e4f56-844c-4d46-bfb6-f52ba6af7b27",
   "metadata": {},
   "outputs": [
    {
     "name": "stdout",
     "output_type": "stream",
     "text": [
      "2\n"
     ]
    }
   ],
   "source": [
    "#COUNT METHOD\n",
    "#The count() method returns the number of times a specified valueb appears in the string.\n",
    "txt = \"I love apples, apple are my favourite fruit\"\n",
    "x = txt.count(\"apple\")\n",
    "print(x)"
   ]
  },
  {
   "cell_type": "code",
   "execution_count": 9,
   "id": "26498fdd-3499-4ba4-8dd8-8f9124d4496d",
   "metadata": {},
   "outputs": [
    {
     "name": "stdout",
     "output_type": "stream",
     "text": [
      "1\n"
     ]
    }
   ],
   "source": [
    "#string.count(value, start, end)\n",
    "#Search from position 10 to 24\n",
    "txt = \"I love apples, apple are my favourite fruit\"\n",
    "x = txt.count(\"apple\", 10, 24)\n",
    "print(x)"
   ]
  },
  {
   "cell_type": "code",
   "execution_count": 13,
   "id": "87e40c13-bf37-4328-a997-a1b0803ac3cd",
   "metadata": {},
   "outputs": [
    {
     "name": "stdout",
     "output_type": "stream",
     "text": [
      "7\n"
     ]
    }
   ],
   "source": [
    "#find() Method\n",
    "#Where in the text is the word \"welcome\"?\n",
    "txt = \"Hello, welcome to my world.\"\n",
    "x = txt.find(\"welcome\")\n",
    "print(x)\n",
    "\n",
    "#The find() method finds the first occurrence of the specified value.\n",
    "#The find() method returns -1 if teh value is not found.\n",
    "#The find() method is almost the same as the index() method, the only difference is that the index() method that the find() method returns -1 if teh value is not found whereas index() method will return error."
   ]
  },
  {
   "cell_type": "code",
   "execution_count": 15,
   "id": "ca84fdd2-cd89-4002-9c97-906c46c383f3",
   "metadata": {},
   "outputs": [
    {
     "name": "stdout",
     "output_type": "stream",
     "text": [
      "1\n"
     ]
    }
   ],
   "source": [
    "txt = \"Hello, welcome to my world.\"\n",
    "x = txt.find(\"e\")\n",
    "print(x)"
   ]
  },
  {
   "cell_type": "code",
   "execution_count": 17,
   "id": "846cd168-ab8f-4506-a2ea-c1fcb1c76db7",
   "metadata": {},
   "outputs": [
    {
     "name": "stdout",
     "output_type": "stream",
     "text": [
      "8\n"
     ]
    }
   ],
   "source": [
    "#text is the first of teh letter \"e\"  when you only search between position 5 and 10.\n",
    "txt = \"Hello, welcome to my world\"\n",
    "x = txt.find(\"e\", 5, 10)\n",
    "print(x)"
   ]
  },
  {
   "cell_type": "code",
   "execution_count": 21,
   "id": "dbc41b8d-3e8b-4cb5-ad62-7230e367db22",
   "metadata": {},
   "outputs": [
    {
     "name": "stdout",
     "output_type": "stream",
     "text": [
      "banana\n",
      "of all fruits banana is my favourite\n"
     ]
    }
   ],
   "source": [
    "#Remove spaces at teh beginning and at the end of the string:\n",
    "txt = \"    banana     \"\n",
    "x = txt.strip()\n",
    "print(x)\n",
    "print(\"of all fruits\", x, \"is my favourite\")"
   ]
  },
  {
   "cell_type": "code",
   "execution_count": 25,
   "id": "7f28c44d-0f78-437e-9ab8-d35b03a569c4",
   "metadata": {},
   "outputs": [
    {
     "name": "stdout",
     "output_type": "stream",
     "text": [
      "John#Peter#Vicky\n",
      "John#Peter#Vicky\n"
     ]
    }
   ],
   "source": [
    "#Join all the items in a tuple into a string, using  \n",
    "myTuple = (\"John\", \"Peter\", \"Vicky\")\n",
    "x = \"#\".join(myTuple)\n",
    "print(x)\n",
    "\n",
    "myList = [\"John\", \"Peter\", \"Vicky\"]\n",
    "y = \"#\".join(myList)\n",
    "print(y)"
   ]
  },
  {
   "cell_type": "code",
   "execution_count": 27,
   "id": "256fdb08-e504-4b37-a540-4e6e48734cb8",
   "metadata": {},
   "outputs": [
    {
     "name": "stdout",
     "output_type": "stream",
     "text": [
      "I like apple\n"
     ]
    }
   ],
   "source": [
    "txt = \"I like banana\"\n",
    "x = txt.replace(\"banana\",\"apple\")\n",
    "print(x)"
   ]
  },
  {
   "cell_type": "code",
   "execution_count": 29,
   "id": "85306a1e-0751-4c76-af02-f5077eb9366a",
   "metadata": {},
   "outputs": [
    {
     "name": "stdout",
     "output_type": "stream",
     "text": [
      "['Welcome', 'to', 'the', 'jungle']\n"
     ]
    }
   ],
   "source": [
    "#split() Method\n",
    "#The split() method splits a tring into a list\n",
    "#Split a string into a list where each word is a list item.\n",
    "txt = (\"Welcome to the jungle\")\n",
    "x = txt.split()\n",
    "print(x)"
   ]
  },
  {
   "cell_type": "code",
   "execution_count": 31,
   "id": "27bfd99b-a76e-4410-8380-370e9922f1a1",
   "metadata": {},
   "outputs": [
    {
     "name": "stdout",
     "output_type": "stream",
     "text": [
      "['Hello', ' my name is Peter', ' I am 26 years old']\n"
     ]
    }
   ],
   "source": [
    "txt = \"Hello, my name is Peter, I am 26 years old\"\n",
    "x = txt.split(\",\")\n",
    "print(x)"
   ]
  },
  {
   "cell_type": "code",
   "execution_count": null,
   "id": "e1a95800-808d-4ae4-982a-78a0e8b74754",
   "metadata": {},
   "outputs": [],
   "source": [
    "  "
   ]
  }
 ],
 "metadata": {
  "kernelspec": {
   "display_name": "Python [conda env:base] *",
   "language": "python",
   "name": "conda-base-py"
  },
  "language_info": {
   "codemirror_mode": {
    "name": "ipython",
    "version": 3
   },
   "file_extension": ".py",
   "mimetype": "text/x-python",
   "name": "python",
   "nbconvert_exporter": "python",
   "pygments_lexer": "ipython3",
   "version": "3.12.7"
  }
 },
 "nbformat": 4,
 "nbformat_minor": 5
}
