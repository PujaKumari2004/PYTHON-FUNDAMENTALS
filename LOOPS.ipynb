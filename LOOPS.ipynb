{
 "cells": [
  {
   "cell_type": "code",
   "execution_count": null,
   "id": "e6f3033b-2068-499c-9276-b130b81f65f0",
   "metadata": {},
   "outputs": [],
   "source": [
    "#Python has two primitive loop commands:\n"
   ]
  },
  {
   "cell_type": "code",
   "execution_count": null,
   "id": "f401508f-446f-4bc1-9166-c7dd2afad2b8",
   "metadata": {},
   "outputs": [],
   "source": [
    "#while loop  we can execute a set of statements as long as a condition is True.\n",
    "\n",
    "i = 1\n",
    "while i < 5:\n",
    "    print(i)\n",
    "    i = i + 1"
   ]
  },
  {
   "cell_type": "code",
   "execution_count": null,
   "id": "e834b081-31cd-4177-b537-5c6f724971d1",
   "metadata": {},
   "outputs": [],
   "source": [
    "i = 1\n",
    "while i < 10:\n",
    "    print(i)\n",
    "    i = i + 1"
   ]
  },
  {
   "cell_type": "code",
   "execution_count": null,
   "id": "b8b1a167-8d82-481e-af33-cd40750a3c5d",
   "metadata": {},
   "outputs": [],
   "source": [
    "#Print even numbers from 0 to 10\n",
    "i = 0\n",
    "while i < 10:\n",
    "    print(i)\n",
    "    i = i + 2"
   ]
  },
  {
   "cell_type": "code",
   "execution_count": null,
   "id": "81d63996-265c-4882-a2f9-f8016f2ba540",
   "metadata": {},
   "outputs": [],
   "source": [
    "#Print odd numbers from 0 t0 10\n",
    "i = 1\n",
    "while i < 10:\n",
    "    print(i)\n",
    "    i =  i + 2"
   ]
  },
  {
   "cell_type": "code",
   "execution_count": null,
   "id": "b168294a-6a45-4080-98e2-9aaa6304591e",
   "metadata": {},
   "outputs": [],
   "source": [
    "# WAP to find sum of first n natural numbers.\n",
    "n = int(input(\"Enter the last number:\"))\n",
    "i = 1\n",
    "sum = 0\n",
    "while i <= n:\n",
    "    sum +=i\n",
    "    i +=1\n",
    "print(f\"The sum is {sum}\")    \n",
    "    "
   ]
  },
  {
   "cell_type": "code",
   "execution_count": null,
   "id": "81c00716-0d56-49c6-86c6-db5ffb84bc89",
   "metadata": {},
   "outputs": [],
   "source": [
    "#WAP to find sum of squares of n natural numbers\n",
    "n = int(input(\"Enter the last number:\"))\n",
    "i = 1\n",
    "sum_of_squares = 0\n",
    "while i <= n:\n",
    "    squares = i**2\n",
    "    sum_of_squares = sum_of_squares + squares\n",
    "    i = i + 1\n",
    "print(f\"The sum of squares is {sum_of_squares}\")\n",
    "    "
   ]
  },
  {
   "cell_type": "code",
   "execution_count": null,
   "id": "e11d8c99-4d44-4e77-aa69-7a27059f405d",
   "metadata": {},
   "outputs": [],
   "source": [
    "#WAP to find the sum of squares of n natural numbers\n",
    "n = int(input(\"Enter the last number\"))\n",
    "i = 1\n",
    "sum_of_cubes = 0\n",
    "while i <= n:\n",
    "    cubes = i**3\n",
    "    sum_of_cubes += cubes\n",
    "    i = i + 1\n",
    "print(f\"The sum of cubes is {sum_of_cubes}\")    "
   ]
  },
  {
   "cell_type": "code",
   "execution_count": null,
   "id": "c4b1872a-ad98-488a-b22b-90c97559230a",
   "metadata": {},
   "outputs": [],
   "source": [
    "#break statement we can stop the loop even if the while condition is true\n",
    "i = 1 #initializing with 1\n",
    "while i < 10:\n",
    "    print(i)\n",
    "    if i == 4:\n",
    "     break\n",
    "    i += 1    \n",
    "    "
   ]
  },
  {
   "cell_type": "code",
   "execution_count": null,
   "id": "8570d273-d6eb-4de9-8e40-b6bccdfb898f",
   "metadata": {},
   "outputs": [],
   "source": [
    "#continue statement we can stop the current iteration, and continue with the next\n",
    "i = 0\n",
    "while i < 10:\n",
    "    i += 1\n",
    "    if i == 5:\n",
    "        continue\n",
    "        print(i)    "
   ]
  },
  {
   "cell_type": "code",
   "execution_count": null,
   "id": "910e15c0-358e-4710-9840-066d669e5af0",
   "metadata": {},
   "outputs": [],
   "source": [
    "i = 0 #initializing with 0\n",
    "while i < 10:\n",
    "    i += 1\n",
    "    if i == 5:\n",
    "        continue\n",
    "    elif(i == 8):\n",
    "        continue\n",
    "    print(i)    "
   ]
  },
  {
   "cell_type": "code",
   "execution_count": null,
   "id": "8bcc132c-a59a-4477-90ca-7e7fdad1c8e8",
   "metadata": {},
   "outputs": [],
   "source": [
    "#WAP to find the sum of first n natural numbers\n",
    "n = int(input(\"Enter the last number:\"))\n",
    "i = 0\n",
    "sum = 0\n",
    "while  i <= n: \n",
    "    sum += i\n",
    "    i += 1\n",
    "print(sum)"
   ]
  },
  {
   "cell_type": "code",
   "execution_count": null,
   "id": "1ed18b8a-d049-45c7-bd26-1091d2914306",
   "metadata": {},
   "outputs": [],
   "source": [
    "#A for loop is used for iterating over a sequence\n",
    "#(that is eithere a list, a tuple, a dictionary or a string)."
   ]
  },
  {
   "cell_type": "code",
   "execution_count": null,
   "id": "b5ca813e-0b93-4db0-8101-a32b8fd539d3",
   "metadata": {},
   "outputs": [],
   "source": [
    "L1 = [\"A\", \"B\", \"C\", \"D\"]\n",
    "for x in L1:\n",
    "    print(x)"
   ]
  },
  {
   "cell_type": "code",
   "execution_count": null,
   "id": "0247e455-ae51-436f-8529-2fbd9a55595d",
   "metadata": {},
   "outputs": [],
   "source": [
    "for x in \"AAFT\":\n",
    "    print(x)"
   ]
  },
  {
   "cell_type": "code",
   "execution_count": null,
   "id": "e208d5e2-5b3c-48a1-a288-9197134a9cf8",
   "metadata": {},
   "outputs": [],
   "source": [
    "#break Statement\n",
    "#Exit the loop when x is \"B\"\n",
    "\n",
    "L1 = [\"A\", \"B\", \"C\", \"D\"]\n",
    "for x in L1:\n",
    "    print(x)\n",
    "    if x == \"B\":\n",
    "        break"
   ]
  },
  {
   "cell_type": "code",
   "execution_count": null,
   "id": "6f16b164-9378-416c-bab9-5f4fcaf802ec",
   "metadata": {},
   "outputs": [],
   "source": [
    "#Exit the loop when x is \"B\", but this time the break comes before the print:\n",
    "\n",
    "L1 = [\"A\", \"B\", \"C\", \"D\"]\n",
    "for x in L1:\n",
    "    if x == \"B\":\n",
    "        break\n",
    "    print(x)    "
   ]
  },
  {
   "cell_type": "code",
   "execution_count": null,
   "id": "7e4bd3cd-22f5-4f6b-aa56-6e5eff2fd16f",
   "metadata": {},
   "outputs": [],
   "source": [
    "#continue statement\n",
    "\n",
    "L1 =[\"A\", \"B\", \"C\", \"D\"]\n",
    "for x in L1:\n",
    "    if x == \"B\":\n",
    "        continue\n",
    "    print(x)    "
   ]
  },
  {
   "cell_type": "code",
   "execution_count": null,
   "id": "2f86e756-927a-4f6f-af12-b01b7066c5cc",
   "metadata": {},
   "outputs": [],
   "source": [
    "#Nested For loops\n",
    "L1 = [1,2,3]\n",
    "L2 = [\"Google\", \"Meta\", \"Fujitsu\"]\n",
    "for i in L1:\n",
    "    for j in L2:\n",
    "        print(i ,j)"
   ]
  },
  {
   "cell_type": "code",
   "execution_count": null,
   "id": "1c30937f-4ed6-4ae2-93ad-a898dadd8bc6",
   "metadata": {},
   "outputs": [],
   "source": [
    "#pass statement: for loops cannot be empty,\n",
    "#but if you for some reason have a for loop with no contect,\n",
    "#put in the passs atetement tp avoid getting an error\n",
    "\n",
    "for x in [0,1,2]:\n",
    "    pass"
   ]
  },
  {
   "cell_type": "code",
   "execution_count": null,
   "id": "35789dd7-03cf-4482-94c2-7ee8cd43a7ed",
   "metadata": {},
   "outputs": [],
   "source": [
    "#WAP for factorial of a number using for loop\n",
    "n = int(input(\"Enter a number:\"))\n",
    "i = 1\n",
    "factorial = 1\n",
    "while i <= n:\n",
    "    factorial *= i\n",
    "    i = i + 1\n",
    "print(f\"Factorial of a number is {factorial}\") \n",
    "    "
   ]
  },
  {
   "cell_type": "code",
   "execution_count": null,
   "id": "42a1de3d-04e2-4122-8d36-b8073619ae6f",
   "metadata": {},
   "outputs": [],
   "source": [
    "num = int(input(\"Enter any number:\"))\n",
    "\n",
    "#Initialize the factorial variavle to 1\n",
    "fact = 1\n",
    "\n",
    "#Calculate the factorial using a for loop\n",
    "for i in range(1, num+1):\n",
    "    fact *= i\n",
    "print(f\"Factorial of a number is {fact}\")   "
   ]
  },
  {
   "cell_type": "code",
   "execution_count": null,
   "id": "592b11df-da82-4bbb-a32c-63ea9532e968",
   "metadata": {},
   "outputs": [],
   "source": [
    "#WAP\n",
    "num = int(input(\"Enter any number:\"))\n",
    "while (num % num == 0 and num % 1 == 0):\n",
    "print(\"prime\")"
   ]
  },
  {
   "cell_type": "code",
   "execution_count": null,
   "id": "3d8cf74e-f1f5-408e-91aa-87dbd2bd3318",
   "metadata": {},
   "outputs": [],
   "source": []
  },
  {
   "cell_type": "code",
   "execution_count": null,
   "id": "c1120857-22c9-4a12-9649-56bd64497f3a",
   "metadata": {},
   "outputs": [],
   "source": []
  }
 ],
 "metadata": {
  "kernelspec": {
   "display_name": "Python [conda env:base] *",
   "language": "python",
   "name": "conda-base-py"
  },
  "language_info": {
   "codemirror_mode": {
    "name": "ipython",
    "version": 3
   },
   "file_extension": ".py",
   "mimetype": "text/x-python",
   "name": "python",
   "nbconvert_exporter": "python",
   "pygments_lexer": "ipython3",
   "version": "3.12.7"
  }
 },
 "nbformat": 4,
 "nbformat_minor": 5
}
