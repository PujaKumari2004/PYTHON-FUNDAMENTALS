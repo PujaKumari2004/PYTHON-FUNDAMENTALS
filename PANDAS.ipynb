{
 "cells": [
  {
   "cell_type": "markdown",
   "id": "5e43c88d-5813-4d6f-93ca-3d123f35bde0",
   "metadata": {},
   "source": [
    "# PANDAS"
   ]
  },
  {
   "cell_type": "code",
   "execution_count": 4,
   "id": "fc66b877-a842-4a19-be47-5b3747cbc653",
   "metadata": {},
   "outputs": [
    {
     "name": "stdout",
     "output_type": "stream",
     "text": [
      "    cars  passings\n",
      "0    BMW         3\n",
      "1  Volvo         7\n",
      "2   Ford         2\n"
     ]
    }
   ],
   "source": [
    "import pandas as pd\n",
    "mydataset = {\"cars\":[\"BMW\", \"Volvo\", \"Ford\"], \"passings\":[3, 7, 2]}\n",
    "myvar = pd.DataFrame(mydataset)\n",
    "print(myvar)"
   ]
  },
  {
   "cell_type": "code",
   "execution_count": 6,
   "id": "a40a8e2e-5453-4ca8-a2c1-f357698c621a",
   "metadata": {},
   "outputs": [
    {
     "name": "stdout",
     "output_type": "stream",
     "text": [
      "2.2.2\n"
     ]
    }
   ],
   "source": [
    "print(pd.__version__)"
   ]
  },
  {
   "cell_type": "markdown",
   "id": "c0944552-7eeb-43a4-955d-7aeab063ecb4",
   "metadata": {},
   "source": [
    "## Pandas Series\n",
    "#### A Pandas Series is like a column in a table."
   ]
  },
  {
   "cell_type": "code",
   "execution_count": 10,
   "id": "2a7015b2-2976-4af0-9e34-9ee297744666",
   "metadata": {},
   "outputs": [
    {
     "name": "stdout",
     "output_type": "stream",
     "text": [
      "0    1\n",
      "1    7\n",
      "2    2\n",
      "dtype: int64\n"
     ]
    }
   ],
   "source": [
    "import pandas as pd\n",
    "a = [1, 7, 2]\n",
    "myvar = pd.Series(a)\n",
    "print(myvar)"
   ]
  },
  {
   "cell_type": "markdown",
   "id": "228604ce-d1e9-49d2-81dd-101a5854db28",
   "metadata": {},
   "source": [
    "### Labels\n",
    "#### If nothing else is specified, the values are labeled with their index number. First value has index 0, second value has index 1 etc.This label can be used to access a specified value."
   ]
  },
  {
   "cell_type": "code",
   "execution_count": 13,
   "id": "f0f7db48-7eb4-46e5-8f4b-d1d82d1d8660",
   "metadata": {},
   "outputs": [
    {
     "name": "stdout",
     "output_type": "stream",
     "text": [
      "1\n"
     ]
    }
   ],
   "source": [
    "# Return the first value of the Series:\n",
    "import pandas as pd\n",
    "a = [1, 7, 2]\n",
    "myvar = pd.Series(a)\n",
    "print(myvar[0])"
   ]
  },
  {
   "cell_type": "markdown",
   "id": "a40e2ed3-d525-4bda-9160-2046ab5f0b34",
   "metadata": {},
   "source": [
    "### Create Labels\n",
    "#### With the index argument, you can name your own labels."
   ]
  },
  {
   "cell_type": "code",
   "execution_count": 16,
   "id": "8770ef18-46e2-4003-a67f-b02388aa39fd",
   "metadata": {},
   "outputs": [
    {
     "name": "stdout",
     "output_type": "stream",
     "text": [
      "x    1\n",
      "y    7\n",
      "z    2\n",
      "dtype: int64\n"
     ]
    }
   ],
   "source": [
    "# Create our own labels:\n",
    "import pandas as pd\n",
    "a = [1, 7, 2]\n",
    "myvar = pd.Series(a, index = [\"x\", \"y\", \"z\"])\n",
    "print(myvar)"
   ]
  },
  {
   "cell_type": "markdown",
   "id": "bc4694bf-49ad-4556-828f-01f8ed073031",
   "metadata": {},
   "source": [
    "#### When we have created labels, we can access an item by referring to the label."
   ]
  },
  {
   "cell_type": "code",
   "execution_count": 21,
   "id": "681d622c-8491-4563-83d3-5e240582e54d",
   "metadata": {},
   "outputs": [
    {
     "name": "stdout",
     "output_type": "stream",
     "text": [
      "7\n"
     ]
    }
   ],
   "source": [
    "# Return the value of \"y\":\n",
    "import pandas as pd\n",
    "a = [1, 7, 2]\n",
    "myvar = pd.Series(a, index = [\"x\", \"y\", \"z\"])\n",
    "print(myvar[\"y\"])"
   ]
  },
  {
   "cell_type": "markdown",
   "id": "830a951e-9e67-4596-b2bc-903956eba3be",
   "metadata": {},
   "source": [
    "### Key/Value Objects as Series"
   ]
  },
  {
   "cell_type": "code",
   "execution_count": 27,
   "id": "52dd8f54-d559-4c21-8845-a04ff6c65d03",
   "metadata": {},
   "outputs": [
    {
     "name": "stdout",
     "output_type": "stream",
     "text": [
      "day1    420\n",
      "day2    380\n",
      "day3    390\n",
      "dtype: int64\n"
     ]
    }
   ],
   "source": [
    "# Create a simple Pandas Series from a dictionary:\n",
    "import pandas as pd\n",
    "calories = {\"day1\":420, \"day2\":380, \"day3\":390}\n",
    "myvar = pd.Series(calories)\n",
    "print(myvar)"
   ]
  },
  {
   "cell_type": "code",
   "execution_count": 29,
   "id": "8ae556f3-5439-4bd4-97d1-3a98a2136755",
   "metadata": {},
   "outputs": [
    {
     "name": "stdout",
     "output_type": "stream",
     "text": [
      "day1    420\n",
      "day2    380\n",
      "dtype: int64\n"
     ]
    }
   ],
   "source": [
    "# Create a Series using only data from \"day1\" and \"day2\":\n",
    "import pandas as  pd\n",
    "calories = {\"day1\":420, \"day2\":380, \"day3\":390}\n",
    "myvar = pd.Series(calories, index = [\"day1\", \"day2\"])\n",
    "print(myvar)"
   ]
  },
  {
   "cell_type": "markdown",
   "id": "347a7482-3d74-4c43-b900-a406de684559",
   "metadata": {},
   "source": [
    "# DataFrames\n",
    "#### A Pandas DataFrame is a 2 dimensional data structure, like a 2 dimensional array, or a table with rows and columns. Data sets in Pandas are usually mulyi-dimensional tables, called DataFrames.\n",
    "#### A DataFrame is the whole table."
   ]
  },
  {
   "cell_type": "code",
   "execution_count": 32,
   "id": "0b996ef6-ac4b-4f7b-b991-708f13bd2fce",
   "metadata": {},
   "outputs": [
    {
     "name": "stdout",
     "output_type": "stream",
     "text": [
      "   calories  duration\n",
      "0       420        50\n",
      "1       380        40\n",
      "2       390        45\n"
     ]
    }
   ],
   "source": [
    "# Create a DataFrame from two Series:\n",
    "import pandas as pd\n",
    "data = {\"calories\": [420, 380, 390],\n",
    "        \"duration\": [50, 40, 45]}\n",
    "myvar = pd.DataFrame(data)\n",
    "print(myvar)"
   ]
  },
  {
   "cell_type": "markdown",
   "id": "9300f4fa-e8b7-4685-98fd-877091d2ece3",
   "metadata": {},
   "source": [
    "### Locate Row\n",
    "##### Pandas use the loc attribute to return one or more specified row(s)"
   ]
  },
  {
   "cell_type": "code",
   "execution_count": 42,
   "id": "99a3d7f5-67b6-487f-a0e0-227653a32abb",
   "metadata": {},
   "outputs": [
    {
     "name": "stdout",
     "output_type": "stream",
     "text": [
      "   calories  duration\n",
      "0       420        50\n",
      "1       380        40\n",
      "2       390        45\n",
      "calories    420\n",
      "duration     50\n",
      "Name: 0, dtype: int64\n"
     ]
    }
   ],
   "source": [
    "import pandas as pd\n",
    "data = {\"calories\": [420, 380, 390],\n",
    "        \"duration\": [50, 40, 45]}\n",
    "df = pd.DataFrame(data)\n",
    "print(df)\n",
    "\n",
    "# refer to the row index:\n",
    "print(df.loc[0])"
   ]
  },
  {
   "cell_type": "code",
   "execution_count": 48,
   "id": "4729bf02-2370-46da-a8cf-59962465f409",
   "metadata": {},
   "outputs": [
    {
     "name": "stdout",
     "output_type": "stream",
     "text": [
      "   calories  duration\n",
      "0       420        50\n",
      "1       380        40\n"
     ]
    }
   ],
   "source": [
    "# use a list of indexes:\n",
    "print(df.loc[[0,1]])"
   ]
  },
  {
   "cell_type": "markdown",
   "id": "8597ebbb-14f5-466f-93e0-6c3a88d77906",
   "metadata": {},
   "source": [
    "### Named Indexes\n",
    "##### With the index argument, we can name your own indexes."
   ]
  },
  {
   "cell_type": "code",
   "execution_count": 52,
   "id": "a7adeeff-5634-4a1d-9774-ba4911acadea",
   "metadata": {},
   "outputs": [
    {
     "name": "stdout",
     "output_type": "stream",
     "text": [
      "      calories  duration\n",
      "Day1       420        50\n",
      "Day2       380        40\n",
      "Day3       390        45\n"
     ]
    }
   ],
   "source": [
    "# Add a list of names to give each row a name:\n",
    "import pandas as pd\n",
    "data = {\"calories\": [420, 380, 390],\n",
    "        \"duration\": [50, 40, 45]}\n",
    "df = pd.DataFrame(data, index = [\"Day1\", \"Day2\", \"Day3\"])\n",
    "print(df)"
   ]
  },
  {
   "cell_type": "markdown",
   "id": "f3fd731d-5f20-413e-89c1-b0847a55b841",
   "metadata": {},
   "source": [
    "### Locate Named Indexes"
   ]
  },
  {
   "cell_type": "code",
   "execution_count": 55,
   "id": "ad704154-b573-4d3c-a923-25f10fefba81",
   "metadata": {},
   "outputs": [
    {
     "name": "stdout",
     "output_type": "stream",
     "text": [
      "calories    380\n",
      "duration     40\n",
      "Name: Day2, dtype: int64\n"
     ]
    }
   ],
   "source": [
    "#refer to the named index:\n",
    "print(df.loc[\"Day2\"])  # return \"day2\""
   ]
  },
  {
   "cell_type": "markdown",
   "id": "9e8c7948-33f6-4efa-8f9b-ea82efb5534d",
   "metadata": {},
   "source": [
    "## Read CSV\n",
    "### Load Files Into a DataFrame"
   ]
  },
  {
   "cell_type": "code",
   "execution_count": 79,
   "id": "fb6601f2-fadb-4d21-bd77-28e096311239",
   "metadata": {},
   "outputs": [],
   "source": [
    "#Load the CSV into a DataFrame\n",
    "import pandas as pd\n",
    "df = pd.read_csv(r\"C:\\Users\\user\\Downloads\\Dataset for Pandas.csv\")\n",
    "#print(df.to_string())   #  use to_string() to print the entire DataFrame."
   ]
  },
  {
   "cell_type": "code",
   "execution_count": 66,
   "id": "2bcc9bad-d752-498d-bfbc-f4ed1aacb85b",
   "metadata": {},
   "outputs": [
    {
     "name": "stdout",
     "output_type": "stream",
     "text": [
      "     PassengerId  Pclass                                          Name  \\\n",
      "0            892       3                              Kelly, Mr. James   \n",
      "1            893       3              Wilkes, Mrs. James (Ellen Needs)   \n",
      "2            894       2                     Myles, Mr. Thomas Francis   \n",
      "3            895       3                              Wirz, Mr. Albert   \n",
      "4            896       3  Hirvonen, Mrs. Alexander (Helga E Lindqvist)   \n",
      "..           ...     ...                                           ...   \n",
      "413         1305       3                            Spector, Mr. Woolf   \n",
      "414         1306       1                  Oliva y Ocana, Dona. Fermina   \n",
      "415         1307       3                  Saether, Mr. Simon Sivertsen   \n",
      "416         1308       3                           Ware, Mr. Frederick   \n",
      "417         1309       3                      Peter, Master. Michael J   \n",
      "\n",
      "        Sex   Age  SibSp  Parch              Ticket      Fare Cabin Embarked  \n",
      "0      male  34.5      0      0              330911    7.8292   NaN        Q  \n",
      "1    female  47.0      1      0              363272    7.0000   NaN        S  \n",
      "2      male  62.0      0      0              240276    9.6875   NaN        Q  \n",
      "3      male  27.0      0      0              315154    8.6625   NaN        S  \n",
      "4    female  22.0      1      1             3101298   12.2875   NaN        S  \n",
      "..      ...   ...    ...    ...                 ...       ...   ...      ...  \n",
      "413    male   NaN      0      0           A.5. 3236    8.0500   NaN        S  \n",
      "414  female  39.0      0      0            PC 17758  108.9000  C105        C  \n",
      "415    male  38.5      0      0  SOTON/O.Q. 3101262    7.2500   NaN        S  \n",
      "416    male   NaN      0      0              359309    8.0500   NaN        S  \n",
      "417    male   NaN      1      1                2668   22.3583   NaN        C  \n",
      "\n",
      "[418 rows x 11 columns]\n"
     ]
    }
   ],
   "source": [
    "# without to_string()\n",
    "import pandas as pd\n",
    "df = pd.read_csv(r\"C:\\Users\\user\\Downloads\\Dataset for Pandas.csv\")\n",
    "print(df)"
   ]
  },
  {
   "cell_type": "markdown",
   "id": "709d8661-0d13-4f15-8300-189c052dfc72",
   "metadata": {},
   "source": [
    "### max_rows\n",
    "#### We can check your system's maximum rows with the pd.options.display.max_rows statement."
   ]
  },
  {
   "cell_type": "code",
   "execution_count": 69,
   "id": "693de559-76e7-4f17-b9ce-08082f0d8b5d",
   "metadata": {},
   "outputs": [
    {
     "name": "stdout",
     "output_type": "stream",
     "text": [
      "60\n"
     ]
    }
   ],
   "source": [
    "import pandas as pd\n",
    "print(pd.options.display.max_rows)"
   ]
  },
  {
   "cell_type": "markdown",
   "id": "e65ce8bd-4d4d-4554-9c98-9ee003fd58d0",
   "metadata": {},
   "source": [
    "##### In my system the number is 60, which means that if the DataFrame contains more than 60 rows, the print(df) statement will return only the headers and the first and last 5 rows. We can change the maximum rows number with the same statement."
   ]
  },
  {
   "cell_type": "code",
   "execution_count": 81,
   "id": "66ccc04f-163e-45c8-b553-cb5165e94043",
   "metadata": {},
   "outputs": [],
   "source": [
    "# Increase the maximum number of rows to display the entire DataFrame:\n",
    "import pandas as pd\n",
    "pd.options.display.max_rows = 9999\n",
    "df = pd.read_csv(r\"C:\\Users\\user\\Downloads\\Dataset for Pandas.csv\")\n",
    "#print(df)"
   ]
  },
  {
   "cell_type": "markdown",
   "id": "f77e1b4e-df32-496b-b148-0fd80ee70c13",
   "metadata": {},
   "source": [
    "## Analyzing DataFrames"
   ]
  },
  {
   "cell_type": "markdown",
   "id": "76064fe1-2f6f-41a3-8015-b3c65fff4134",
   "metadata": {},
   "source": [
    "### Viewing the Data\n",
    "#### The head() method returns the headers and a specified number of rows, starting from the top."
   ]
  },
  {
   "cell_type": "code",
   "execution_count": 77,
   "id": "e0f94d3c-600a-48b8-8713-abcff721bb6b",
   "metadata": {},
   "outputs": [
    {
     "name": "stdout",
     "output_type": "stream",
     "text": [
      "   PassengerId  Pclass                                          Name     Sex  \\\n",
      "0          892       3                              Kelly, Mr. James    male   \n",
      "1          893       3              Wilkes, Mrs. James (Ellen Needs)  female   \n",
      "2          894       2                     Myles, Mr. Thomas Francis    male   \n",
      "3          895       3                              Wirz, Mr. Albert    male   \n",
      "4          896       3  Hirvonen, Mrs. Alexander (Helga E Lindqvist)  female   \n",
      "5          897       3                    Svensson, Mr. Johan Cervin    male   \n",
      "6          898       3                          Connolly, Miss. Kate  female   \n",
      "7          899       2                  Caldwell, Mr. Albert Francis    male   \n",
      "8          900       3     Abrahim, Mrs. Joseph (Sophie Halaut Easu)  female   \n",
      "9          901       3                       Davies, Mr. John Samuel    male   \n",
      "\n",
      "    Age  SibSp  Parch     Ticket     Fare Cabin Embarked  \n",
      "0  34.5      0      0     330911   7.8292   NaN        Q  \n",
      "1  47.0      1      0     363272   7.0000   NaN        S  \n",
      "2  62.0      0      0     240276   9.6875   NaN        Q  \n",
      "3  27.0      0      0     315154   8.6625   NaN        S  \n",
      "4  22.0      1      1    3101298  12.2875   NaN        S  \n",
      "5  14.0      0      0       7538   9.2250   NaN        S  \n",
      "6  30.0      0      0     330972   7.6292   NaN        Q  \n",
      "7  26.0      1      1     248738  29.0000   NaN        S  \n",
      "8  18.0      0      0       2657   7.2292   NaN        C  \n",
      "9  21.0      2      0  A/4 48871  24.1500   NaN        S  \n"
     ]
    }
   ],
   "source": [
    "# Get a quick overview by priting the first 10 rows of the DtaFrame:\n",
    "import pandas as pd\n",
    "df = pd.read_csv(r\"C:\\Users\\user\\Downloads\\Dataset for Pandas.csv\")\n",
    "print(df.head(10))"
   ]
  },
  {
   "cell_type": "code",
   "execution_count": 83,
   "id": "cfcb06e5-4edd-474a-b0c0-b78f9dfe815b",
   "metadata": {},
   "outputs": [
    {
     "name": "stdout",
     "output_type": "stream",
     "text": [
      "   PassengerId  Pclass                                          Name     Sex  \\\n",
      "0          892       3                              Kelly, Mr. James    male   \n",
      "1          893       3              Wilkes, Mrs. James (Ellen Needs)  female   \n",
      "2          894       2                     Myles, Mr. Thomas Francis    male   \n",
      "3          895       3                              Wirz, Mr. Albert    male   \n",
      "4          896       3  Hirvonen, Mrs. Alexander (Helga E Lindqvist)  female   \n",
      "\n",
      "    Age  SibSp  Parch   Ticket     Fare Cabin Embarked  \n",
      "0  34.5      0      0   330911   7.8292   NaN        Q  \n",
      "1  47.0      1      0   363272   7.0000   NaN        S  \n",
      "2  62.0      0      0   240276   9.6875   NaN        Q  \n",
      "3  27.0      0      0   315154   8.6625   NaN        S  \n",
      "4  22.0      1      1  3101298  12.2875   NaN        S  \n"
     ]
    }
   ],
   "source": [
    "# Print the first 5 rows of the DataFrame:\n",
    "print(df.head())"
   ]
  },
  {
   "cell_type": "markdown",
   "id": "d60ab1d2-dd1d-4511-bd75-16a7d4910286",
   "metadata": {},
   "source": [
    "#### There is also a tail() method for viewing the last rows of the DataFrame."
   ]
  },
  {
   "cell_type": "code",
   "execution_count": 86,
   "id": "02190f26-91a5-404e-9fe2-d5b92dd162b4",
   "metadata": {},
   "outputs": [
    {
     "name": "stdout",
     "output_type": "stream",
     "text": [
      "     PassengerId  Pclass                          Name     Sex   Age  SibSp  \\\n",
      "413         1305       3            Spector, Mr. Woolf    male   NaN      0   \n",
      "414         1306       1  Oliva y Ocana, Dona. Fermina  female  39.0      0   \n",
      "415         1307       3  Saether, Mr. Simon Sivertsen    male  38.5      0   \n",
      "416         1308       3           Ware, Mr. Frederick    male   NaN      0   \n",
      "417         1309       3      Peter, Master. Michael J    male   NaN      1   \n",
      "\n",
      "     Parch              Ticket      Fare Cabin Embarked  \n",
      "413      0           A.5. 3236    8.0500   NaN        S  \n",
      "414      0            PC 17758  108.9000  C105        C  \n",
      "415      0  SOTON/O.Q. 3101262    7.2500   NaN        S  \n",
      "416      0              359309    8.0500   NaN        S  \n",
      "417      1                2668   22.3583   NaN        C  \n"
     ]
    }
   ],
   "source": [
    "# Print the last 5 rows of the DataFrame:\n",
    "print(df.tail()) "
   ]
  },
  {
   "cell_type": "markdown",
   "id": "e33f76c0-b959-41be-bed0-157eb046a847",
   "metadata": {},
   "source": [
    "## Info About the Data"
   ]
  },
  {
   "cell_type": "code",
   "execution_count": 89,
   "id": "f175f868-15d1-4208-813b-a23037a56eaa",
   "metadata": {},
   "outputs": [
    {
     "name": "stdout",
     "output_type": "stream",
     "text": [
      "<class 'pandas.core.frame.DataFrame'>\n",
      "RangeIndex: 418 entries, 0 to 417\n",
      "Data columns (total 11 columns):\n",
      " #   Column       Non-Null Count  Dtype  \n",
      "---  ------       --------------  -----  \n",
      " 0   PassengerId  418 non-null    int64  \n",
      " 1   Pclass       418 non-null    int64  \n",
      " 2   Name         418 non-null    object \n",
      " 3   Sex          418 non-null    object \n",
      " 4   Age          332 non-null    float64\n",
      " 5   SibSp        418 non-null    int64  \n",
      " 6   Parch        418 non-null    int64  \n",
      " 7   Ticket       418 non-null    object \n",
      " 8   Fare         417 non-null    float64\n",
      " 9   Cabin        91 non-null     object \n",
      " 10  Embarked     418 non-null    object \n",
      "dtypes: float64(2), int64(4), object(5)\n",
      "memory usage: 36.1+ KB\n",
      "None\n"
     ]
    }
   ],
   "source": [
    "print(df.info())"
   ]
  },
  {
   "cell_type": "markdown",
   "id": "003f43c3-3fcc-43d3-a11f-fc316f6fad7b",
   "metadata": {},
   "source": [
    "# Cleaning Data"
   ]
  },
  {
   "cell_type": "markdown",
   "id": "b45ca190-243f-41fd-806d-5638268d2fcb",
   "metadata": {},
   "source": [
    "## Cleaning Empty Cells"
   ]
  },
  {
   "cell_type": "code",
   "execution_count": 93,
   "id": "34758255-8984-43fa-8b20-40c7d739dcd6",
   "metadata": {},
   "outputs": [
    {
     "name": "stdout",
     "output_type": "stream",
     "text": [
      "<class 'pandas.core.frame.DataFrame'>\n",
      "Index: 87 entries, 12 to 414\n",
      "Data columns (total 11 columns):\n",
      " #   Column       Non-Null Count  Dtype  \n",
      "---  ------       --------------  -----  \n",
      " 0   PassengerId  87 non-null     int64  \n",
      " 1   Pclass       87 non-null     int64  \n",
      " 2   Name         87 non-null     object \n",
      " 3   Sex          87 non-null     object \n",
      " 4   Age          87 non-null     float64\n",
      " 5   SibSp        87 non-null     int64  \n",
      " 6   Parch        87 non-null     int64  \n",
      " 7   Ticket       87 non-null     object \n",
      " 8   Fare         87 non-null     float64\n",
      " 9   Cabin        87 non-null     object \n",
      " 10  Embarked     87 non-null     object \n",
      "dtypes: float64(2), int64(4), object(5)\n",
      "memory usage: 8.2+ KB\n",
      "None\n"
     ]
    }
   ],
   "source": [
    "# Return a new Data Frame with no empty cells:\n",
    "import pandas as pd\n",
    "df = pd.read_csv(r\"C:\\Users\\user\\Downloads\\Dataset for Pandas.csv\")\n",
    "new_df = df.dropna()\n",
    "print(new_df.info())"
   ]
  },
  {
   "cell_type": "code",
   "execution_count": 95,
   "id": "955ff8cc-c33a-46d0-8185-4f42d87e3ba5",
   "metadata": {},
   "outputs": [
    {
     "name": "stdout",
     "output_type": "stream",
     "text": [
      "<class 'pandas.core.frame.DataFrame'>\n",
      "Index: 87 entries, 12 to 414\n",
      "Data columns (total 11 columns):\n",
      " #   Column       Non-Null Count  Dtype  \n",
      "---  ------       --------------  -----  \n",
      " 0   PassengerId  87 non-null     int64  \n",
      " 1   Pclass       87 non-null     int64  \n",
      " 2   Name         87 non-null     object \n",
      " 3   Sex          87 non-null     object \n",
      " 4   Age          87 non-null     float64\n",
      " 5   SibSp        87 non-null     int64  \n",
      " 6   Parch        87 non-null     int64  \n",
      " 7   Ticket       87 non-null     object \n",
      " 8   Fare         87 non-null     float64\n",
      " 9   Cabin        87 non-null     object \n",
      " 10  Embarked     87 non-null     object \n",
      "dtypes: float64(2), int64(4), object(5)\n",
      "memory usage: 8.2+ KB\n",
      "None\n"
     ]
    }
   ],
   "source": [
    "# Remove all rows with NULL values withouting creating a new dataset:\n",
    "df.dropna(inplace =  True)\n",
    "print(df.info())"
   ]
  },
  {
   "cell_type": "markdown",
   "id": "8497a1aa-dc85-4368-a30e-f46d3d312cae",
   "metadata": {},
   "source": [
    "## Replace Empty Values\n",
    "##### The fillna() method allows us to replace empty cells with a value:"
   ]
  },
  {
   "cell_type": "code",
   "execution_count": 108,
   "id": "4dcf69f3-2f4b-4a93-8c50-f2c100f536a2",
   "metadata": {},
   "outputs": [
    {
     "name": "stdout",
     "output_type": "stream",
     "text": [
      "<class 'pandas.core.frame.DataFrame'>\n",
      "Index: 87 entries, 12 to 414\n",
      "Data columns (total 11 columns):\n",
      " #   Column       Non-Null Count  Dtype  \n",
      "---  ------       --------------  -----  \n",
      " 0   PassengerId  87 non-null     int64  \n",
      " 1   Pclass       87 non-null     int64  \n",
      " 2   Name         87 non-null     object \n",
      " 3   Sex          87 non-null     object \n",
      " 4   Age          87 non-null     float64\n",
      " 5   SibSp        87 non-null     int64  \n",
      " 6   Parch        87 non-null     int64  \n",
      " 7   Ticket       87 non-null     object \n",
      " 8   Fare         87 non-null     float64\n",
      " 9   Cabin        87 non-null     object \n",
      " 10  Embarked     87 non-null     object \n",
      "dtypes: float64(2), int64(4), object(5)\n",
      "memory usage: 8.2+ KB\n",
      "None\n"
     ]
    }
   ],
   "source": [
    "# Replace NULL values with the number 0:\n",
    "df.fillna(0, inplace = True)\n",
    "print(df.info())"
   ]
  },
  {
   "cell_type": "markdown",
   "id": "5361aa31-36b9-4fcf-ab84-08fe6610c5ba",
   "metadata": {},
   "source": [
    "### Replace Using Mean, Median, or Mode"
   ]
  },
  {
   "cell_type": "code",
   "execution_count": 117,
   "id": "54317279-fdea-4bff-a1f0-c63533b029fb",
   "metadata": {},
   "outputs": [
    {
     "name": "stdout",
     "output_type": "stream",
     "text": [
      "<class 'pandas.core.frame.DataFrame'>\n",
      "Index: 87 entries, 12 to 414\n",
      "Data columns (total 11 columns):\n",
      " #   Column       Non-Null Count  Dtype  \n",
      "---  ------       --------------  -----  \n",
      " 0   PassengerId  87 non-null     int64  \n",
      " 1   Pclass       87 non-null     int64  \n",
      " 2   Name         87 non-null     object \n",
      " 3   Sex          87 non-null     object \n",
      " 4   Age          87 non-null     float64\n",
      " 5   SibSp        87 non-null     int64  \n",
      " 6   Parch        87 non-null     int64  \n",
      " 7   Ticket       87 non-null     object \n",
      " 8   Fare         87 non-null     float64\n",
      " 9   Cabin        87 non-null     object \n",
      " 10  Embarked     87 non-null     object \n",
      "dtypes: float64(2), int64(4), object(5)\n",
      "memory usage: 8.2+ KB\n",
      "None\n"
     ]
    }
   ],
   "source": [
    "# Calculate the MEAN, and replace any empty values with it:\n",
    "mean = df[\"Age\"].mean()\n",
    "df.fillna({\"Age\": mean}, inplace = True)\n",
    "print(df.info())"
   ]
  },
  {
   "cell_type": "code",
   "execution_count": 119,
   "id": "b5a12a39-76e7-4010-8685-bf31eb585720",
   "metadata": {},
   "outputs": [
    {
     "name": "stdout",
     "output_type": "stream",
     "text": [
      "<class 'pandas.core.frame.DataFrame'>\n",
      "Index: 87 entries, 12 to 414\n",
      "Data columns (total 11 columns):\n",
      " #   Column       Non-Null Count  Dtype  \n",
      "---  ------       --------------  -----  \n",
      " 0   PassengerId  87 non-null     int64  \n",
      " 1   Pclass       87 non-null     int64  \n",
      " 2   Name         87 non-null     object \n",
      " 3   Sex          87 non-null     object \n",
      " 4   Age          87 non-null     float64\n",
      " 5   SibSp        87 non-null     int64  \n",
      " 6   Parch        87 non-null     int64  \n",
      " 7   Ticket       87 non-null     object \n",
      " 8   Fare         87 non-null     float64\n",
      " 9   Cabin        87 non-null     object \n",
      " 10  Embarked     87 non-null     object \n",
      "dtypes: float64(2), int64(4), object(5)\n",
      "memory usage: 8.2+ KB\n",
      "None\n"
     ]
    }
   ],
   "source": [
    "# Calculate the MEDIAN, and replace any empty values with it:\n",
    "median = df[\"Age\"].median()\n",
    "df.fillna({\"Age\": median}, inplace = True)\n",
    "print(df.info())"
   ]
  },
  {
   "cell_type": "code",
   "execution_count": 129,
   "id": "f88f0d2c-1371-4afa-94d3-60fecf0cab7a",
   "metadata": {},
   "outputs": [
    {
     "name": "stdout",
     "output_type": "stream",
     "text": [
      "<class 'pandas.core.frame.DataFrame'>\n",
      "Index: 87 entries, 12 to 414\n",
      "Data columns (total 11 columns):\n",
      " #   Column       Non-Null Count  Dtype  \n",
      "---  ------       --------------  -----  \n",
      " 0   PassengerId  87 non-null     int64  \n",
      " 1   Pclass       87 non-null     int64  \n",
      " 2   Name         87 non-null     object \n",
      " 3   Sex          87 non-null     object \n",
      " 4   Age          87 non-null     float64\n",
      " 5   SibSp        87 non-null     int64  \n",
      " 6   Parch        87 non-null     int64  \n",
      " 7   Ticket       87 non-null     object \n",
      " 8   Fare         87 non-null     float64\n",
      " 9   Cabin        87 non-null     object \n",
      " 10  Embarked     87 non-null     object \n",
      "dtypes: float64(2), int64(4), object(5)\n",
      "memory usage: 8.2+ KB\n",
      "None\n"
     ]
    }
   ],
   "source": [
    "# Calculate the MODE, and replace any empty values with it:\n",
    "x = df[\"Age\"].mode()[0]\n",
    "df.fillna({\"Age\": x}, inplace=True)\n",
    "print(df.info())"
   ]
  },
  {
   "cell_type": "code",
   "execution_count": 131,
   "id": "16ed77c1-e0fb-4fd6-88b0-124fb3b438f4",
   "metadata": {},
   "outputs": [
    {
     "data": {
      "text/plain": [
       "PassengerId    0\n",
       "Pclass         0\n",
       "Name           0\n",
       "Sex            0\n",
       "Age            0\n",
       "SibSp          0\n",
       "Parch          0\n",
       "Ticket         0\n",
       "Fare           0\n",
       "Cabin          0\n",
       "Embarked       0\n",
       "dtype: int64"
      ]
     },
     "execution_count": 131,
     "metadata": {},
     "output_type": "execute_result"
    }
   ],
   "source": [
    "# Checking null values\n",
    "pd.isnull(df).sum()"
   ]
  },
  {
   "cell_type": "markdown",
   "id": "f19d29b9-02ef-4624-9c24-d3d1d39712ae",
   "metadata": {},
   "source": [
    "### Discovering Duplicates"
   ]
  },
  {
   "cell_type": "code",
   "execution_count": 138,
   "id": "f37574e9-78cc-40a1-837f-0e036bf0e431",
   "metadata": {},
   "outputs": [
    {
     "name": "stdout",
     "output_type": "stream",
     "text": [
      "0\n"
     ]
    }
   ],
   "source": [
    "print(df.duplicated(\"PassengerId\").sum())"
   ]
  },
  {
   "cell_type": "markdown",
   "id": "6b8aadf0-6041-4c3f-a8e5-b090de852383",
   "metadata": {},
   "source": [
    "### Removing Duplicates"
   ]
  },
  {
   "cell_type": "code",
   "execution_count": 142,
   "id": "f8f12f48-e2f3-415a-b633-0012ba07274c",
   "metadata": {},
   "outputs": [],
   "source": [
    "df.drop_duplicates(inplace =  True)"
   ]
  },
  {
   "cell_type": "markdown",
   "id": "e330da50-59c2-4277-85b6-c329474dd7ba",
   "metadata": {},
   "source": [
    "## Statistical Tools"
   ]
  },
  {
   "cell_type": "code",
   "execution_count": 148,
   "id": "9e95288d-2036-4396-bbd9-0c327f1cbedc",
   "metadata": {},
   "outputs": [
    {
     "data": {
      "text/html": [
       "<div>\n",
       "<style scoped>\n",
       "    .dataframe tbody tr th:only-of-type {\n",
       "        vertical-align: middle;\n",
       "    }\n",
       "\n",
       "    .dataframe tbody tr th {\n",
       "        vertical-align: top;\n",
       "    }\n",
       "\n",
       "    .dataframe thead th {\n",
       "        text-align: right;\n",
       "    }\n",
       "</style>\n",
       "<table border=\"1\" class=\"dataframe\">\n",
       "  <thead>\n",
       "    <tr style=\"text-align: right;\">\n",
       "      <th></th>\n",
       "      <th>PassengerId</th>\n",
       "      <th>Pclass</th>\n",
       "      <th>Age</th>\n",
       "      <th>SibSp</th>\n",
       "      <th>Parch</th>\n",
       "      <th>Fare</th>\n",
       "    </tr>\n",
       "  </thead>\n",
       "  <tbody>\n",
       "    <tr>\n",
       "      <th>count</th>\n",
       "      <td>87.000000</td>\n",
       "      <td>87.000000</td>\n",
       "      <td>87.000000</td>\n",
       "      <td>87.000000</td>\n",
       "      <td>87.000000</td>\n",
       "      <td>87.000000</td>\n",
       "    </tr>\n",
       "    <tr>\n",
       "      <th>mean</th>\n",
       "      <td>1102.712644</td>\n",
       "      <td>1.137931</td>\n",
       "      <td>39.247126</td>\n",
       "      <td>0.597701</td>\n",
       "      <td>0.482759</td>\n",
       "      <td>98.109198</td>\n",
       "    </tr>\n",
       "    <tr>\n",
       "      <th>std</th>\n",
       "      <td>126.751901</td>\n",
       "      <td>0.435954</td>\n",
       "      <td>15.218730</td>\n",
       "      <td>0.637214</td>\n",
       "      <td>0.860801</td>\n",
       "      <td>88.177319</td>\n",
       "    </tr>\n",
       "    <tr>\n",
       "      <th>min</th>\n",
       "      <td>904.000000</td>\n",
       "      <td>1.000000</td>\n",
       "      <td>1.000000</td>\n",
       "      <td>0.000000</td>\n",
       "      <td>0.000000</td>\n",
       "      <td>0.000000</td>\n",
       "    </tr>\n",
       "    <tr>\n",
       "      <th>25%</th>\n",
       "      <td>986.000000</td>\n",
       "      <td>1.000000</td>\n",
       "      <td>27.000000</td>\n",
       "      <td>0.000000</td>\n",
       "      <td>0.000000</td>\n",
       "      <td>35.339600</td>\n",
       "    </tr>\n",
       "    <tr>\n",
       "      <th>50%</th>\n",
       "      <td>1094.000000</td>\n",
       "      <td>1.000000</td>\n",
       "      <td>39.000000</td>\n",
       "      <td>1.000000</td>\n",
       "      <td>0.000000</td>\n",
       "      <td>71.283300</td>\n",
       "    </tr>\n",
       "    <tr>\n",
       "      <th>75%</th>\n",
       "      <td>1216.000000</td>\n",
       "      <td>1.000000</td>\n",
       "      <td>50.000000</td>\n",
       "      <td>1.000000</td>\n",
       "      <td>1.000000</td>\n",
       "      <td>135.066650</td>\n",
       "    </tr>\n",
       "    <tr>\n",
       "      <th>max</th>\n",
       "      <td>1306.000000</td>\n",
       "      <td>3.000000</td>\n",
       "      <td>76.000000</td>\n",
       "      <td>3.000000</td>\n",
       "      <td>4.000000</td>\n",
       "      <td>512.329200</td>\n",
       "    </tr>\n",
       "  </tbody>\n",
       "</table>\n",
       "</div>"
      ],
      "text/plain": [
       "       PassengerId     Pclass        Age      SibSp      Parch        Fare\n",
       "count    87.000000  87.000000  87.000000  87.000000  87.000000   87.000000\n",
       "mean   1102.712644   1.137931  39.247126   0.597701   0.482759   98.109198\n",
       "std     126.751901   0.435954  15.218730   0.637214   0.860801   88.177319\n",
       "min     904.000000   1.000000   1.000000   0.000000   0.000000    0.000000\n",
       "25%     986.000000   1.000000  27.000000   0.000000   0.000000   35.339600\n",
       "50%    1094.000000   1.000000  39.000000   1.000000   0.000000   71.283300\n",
       "75%    1216.000000   1.000000  50.000000   1.000000   1.000000  135.066650\n",
       "max    1306.000000   3.000000  76.000000   3.000000   4.000000  512.329200"
      ]
     },
     "execution_count": 148,
     "metadata": {},
     "output_type": "execute_result"
    }
   ],
   "source": [
    "df.describe()"
   ]
  }
 ],
 "metadata": {
  "kernelspec": {
   "display_name": "Python [conda env:base] *",
   "language": "python",
   "name": "conda-base-py"
  },
  "language_info": {
   "codemirror_mode": {
    "name": "ipython",
    "version": 3
   },
   "file_extension": ".py",
   "mimetype": "text/x-python",
   "name": "python",
   "nbconvert_exporter": "python",
   "pygments_lexer": "ipython3",
   "version": "3.12.7"
  }
 },
 "nbformat": 4,
 "nbformat_minor": 5
}
