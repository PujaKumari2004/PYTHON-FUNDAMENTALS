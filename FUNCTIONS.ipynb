{
 "cells": [
  {
   "cell_type": "markdown",
   "id": "cac1afb1-6e34-44be-9810-4927fd1d6bd5",
   "metadata": {},
   "source": [
    "# Functions\n",
    "#### A function is a block of code which only runs when it is called."
   ]
  },
  {
   "cell_type": "markdown",
   "id": "e188767e-f3be-47ab-bb2f-792e4018ad36",
   "metadata": {},
   "source": [
    "### Creating a Function"
   ]
  },
  {
   "cell_type": "code",
   "execution_count": 1,
   "id": "c7486bf2-201c-431b-bae5-20005895a303",
   "metadata": {},
   "outputs": [],
   "source": [
    "def my_function():\n",
    "    print(\"Hello from a function\")"
   ]
  },
  {
   "cell_type": "markdown",
   "id": "558dfa1d-57e8-49dd-8fc1-d743c3d3e4ac",
   "metadata": {},
   "source": [
    "### Calling a Function "
   ]
  },
  {
   "cell_type": "code",
   "execution_count": 4,
   "id": "372356ce-b657-4bf4-8dc4-8a005a778dbe",
   "metadata": {},
   "outputs": [
    {
     "name": "stdout",
     "output_type": "stream",
     "text": [
      "Hello from a function\n"
     ]
    }
   ],
   "source": [
    "def my_function():\n",
    "  print(\"Hello from a function\")\n",
    "my_function()"
   ]
  },
  {
   "cell_type": "markdown",
   "id": "34e6e6c3-2533-4505-85b6-2ef37d55f5c0",
   "metadata": {},
   "source": [
    "### Arguments"
   ]
  },
  {
   "cell_type": "code",
   "execution_count": 8,
   "id": "8df33cd0-6253-4499-96e5-25424f6e4cb5",
   "metadata": {},
   "outputs": [
    {
     "name": "stdout",
     "output_type": "stream",
     "text": [
      "EmilRefsnes\n",
      "TobiasRefsnes\n",
      "LinusRefsnes\n"
     ]
    }
   ],
   "source": [
    "def my_function(fname):\n",
    "    print(fname + \"Refsnes\")\n",
    "my_function(\"Emil\")\n",
    "my_function(\"Tobias\")\n",
    "my_function(\"Linus\")"
   ]
  },
  {
   "cell_type": "markdown",
   "id": "735d6939-e561-4895-ba2b-75bc188a8c80",
   "metadata": {},
   "source": [
    "### Number of Arguments"
   ]
  },
  {
   "cell_type": "code",
   "execution_count": 11,
   "id": "9818b2f2-839a-4272-a822-84352975c9a0",
   "metadata": {},
   "outputs": [
    {
     "name": "stdout",
     "output_type": "stream",
     "text": [
      "Emil Refsnes\n"
     ]
    }
   ],
   "source": [
    "def my_function(fname, lname):\n",
    "    print(fname + \" \" + lname)\n",
    "my_function(\"Emil\", \"Refsnes\")    "
   ]
  },
  {
   "cell_type": "markdown",
   "id": "d76c3268-b87a-4378-8c09-75ce1b132f64",
   "metadata": {},
   "source": [
    "### Arbitrary Arguments, *args\n",
    "#### If we do not know how many arguments that will be passed into our function, add a * before the parameter name in the function definition."
   ]
  },
  {
   "cell_type": "code",
   "execution_count": 16,
   "id": "3a227079-092f-4719-a9bd-68d12d6f8156",
   "metadata": {},
   "outputs": [
    {
     "name": "stdout",
     "output_type": "stream",
     "text": [
      "The ypungest child is Linus\n"
     ]
    }
   ],
   "source": [
    "def my_function(*kids):\n",
    "    print(\"The ypungest child is\" + \" \" + kids[2])\n",
    "my_function(\"Emil\", \"Tobias\",\"Linus\")    "
   ]
  },
  {
   "cell_type": "markdown",
   "id": "fb876e4c-1b30-438e-99e1-036f97f7fead",
   "metadata": {},
   "source": [
    "### Keyword Arguments"
   ]
  },
  {
   "cell_type": "code",
   "execution_count": 19,
   "id": "91020e72-a113-46b2-b904-8d380cb653d0",
   "metadata": {},
   "outputs": [
    {
     "name": "stdout",
     "output_type": "stream",
     "text": [
      "The youngest child is Linus\n"
     ]
    }
   ],
   "source": [
    "def my_function(child3, child2, child1):\n",
    "    print(\"The youngest child is\" + \" \" + child3)\n",
    "my_function(child1 = \"Emil\", child2 = \"Tobias\", child3 = \"Linus\")    "
   ]
  },
  {
   "cell_type": "markdown",
   "id": "fd511f00-afe1-4fc9-b434-a4f7d0191808",
   "metadata": {},
   "source": [
    "### Arbitrary Keyword Arguments, **kwargs\n",
    "#### If we do not know how many keyword arguments that will be passed into our function, we add two asterisk: ** before the parameter name in the function definition."
   ]
  },
  {
   "cell_type": "code",
   "execution_count": 23,
   "id": "86b35364-fe86-4215-922e-c8951a2d5cc2",
   "metadata": {},
   "outputs": [
    {
     "name": "stdout",
     "output_type": "stream",
     "text": [
      "His last name is Refsnes\n"
     ]
    }
   ],
   "source": [
    "def my_function(**kid):\n",
    "    print(\"His last name is\" + \" \" + kid[\"lname\"])\n",
    "my_function(fname=\"Tobias\", lname=\"Refsnes\")    "
   ]
  },
  {
   "cell_type": "markdown",
   "id": "73e791ed-9731-44b9-9bd7-e91e5e4ec498",
   "metadata": {},
   "source": [
    "### Default Parameter Value"
   ]
  },
  {
   "cell_type": "code",
   "execution_count": 30,
   "id": "0d7b585c-d022-411e-9836-6afb502bfcf7",
   "metadata": {},
   "outputs": [
    {
     "name": "stdout",
     "output_type": "stream",
     "text": [
      "I am from Sweden\n",
      "I am from India\n",
      "I am from Norway\n"
     ]
    }
   ],
   "source": [
    "def my_function(country = \"Norway\"):\n",
    "    print(\"I am from\" + \" \" + country)\n",
    "my_function(\"Sweden\")    \n",
    "my_function(\"India\")    \n",
    "my_function()"
   ]
  },
  {
   "cell_type": "markdown",
   "id": "7f8742e7-24ce-4545-b6be-0bfec2f0dfe8",
   "metadata": {},
   "source": [
    "### Passing a List as an Argument"
   ]
  },
  {
   "cell_type": "code",
   "execution_count": 33,
   "id": "708aa4b7-c2b7-4621-82c9-d76001231ddb",
   "metadata": {},
   "outputs": [
    {
     "name": "stdout",
     "output_type": "stream",
     "text": [
      "apple\n",
      "banana\n",
      "cherry\n"
     ]
    }
   ],
   "source": [
    "def my_function(food):\n",
    "    for x in food:\n",
    "        print(x)\n",
    "fruits = [\"apple\", \"banana\", \"cherry\"]\n",
    "my_function(fruits)"
   ]
  },
  {
   "cell_type": "markdown",
   "id": "c9ece0f0-ed5f-48ac-afbe-b783f234686f",
   "metadata": {},
   "source": [
    "### Return Values"
   ]
  },
  {
   "cell_type": "code",
   "execution_count": 36,
   "id": "df1a81a4-3eeb-4708-a3ad-e86b7b56a1af",
   "metadata": {},
   "outputs": [
    {
     "name": "stdout",
     "output_type": "stream",
     "text": [
      "15\n",
      "25\n",
      "45\n"
     ]
    }
   ],
   "source": [
    "def my_function(x):\n",
    "    return 5 * x\n",
    "print(my_function(3))    \n",
    "print(my_function(5)) \n",
    "print(my_function(9)) "
   ]
  },
  {
   "cell_type": "markdown",
   "id": "89037837-2fd5-4f0f-ae12-158f7703315a",
   "metadata": {},
   "source": [
    "### The pass Statement\n",
    "#### function definitions cannot be empty, but if you for some reason have a function definition with no content, put in the pass statement to avoid getting an error."
   ]
  },
  {
   "cell_type": "code",
   "execution_count": 41,
   "id": "c744a339-8c45-4b10-bcff-1d4aa01d27ff",
   "metadata": {},
   "outputs": [],
   "source": [
    "def my_function():\n",
    "   pass"
   ]
  },
  {
   "cell_type": "markdown",
   "id": "4ac910b9-0e52-4c49-8e57-ed433e2bbc82",
   "metadata": {},
   "source": [
    "### Positional-Only Arguments"
   ]
  },
  {
   "cell_type": "code",
   "execution_count": 47,
   "id": "096b6442-5e86-432d-ac05-01e559ce76bf",
   "metadata": {},
   "outputs": [
    {
     "name": "stdout",
     "output_type": "stream",
     "text": [
      "99\n"
     ]
    }
   ],
   "source": [
    "def my_function(x, /):\n",
    "    print(x)\n",
    "my_function(99)    "
   ]
  },
  {
   "cell_type": "markdown",
   "id": "b9f7d99a-b363-4bf6-9ad7-01b01630bfbe",
   "metadata": {},
   "source": [
    "### Keyword-Only Arguments"
   ]
  },
  {
   "cell_type": "code",
   "execution_count": 53,
   "id": "48dfdbff-3cc3-4179-939a-18a2de71bc4c",
   "metadata": {},
   "outputs": [
    {
     "name": "stdout",
     "output_type": "stream",
     "text": [
      "68\n"
     ]
    }
   ],
   "source": [
    "def my_function(*, x):\n",
    "    print(x)\n",
    "my_function(x=68)    "
   ]
  },
  {
   "cell_type": "markdown",
   "id": "f4ed9273-7ed2-4d0f-a937-96feece4115c",
   "metadata": {},
   "source": [
    "### Combine Positional-Only and Keyword-Only\n",
    "#### Any argument before the / , are positional-only, and any argument after the *, are keyword-only."
   ]
  },
  {
   "cell_type": "code",
   "execution_count": 56,
   "id": "c1e9e905-1fdd-42ba-8566-1e26cc7cca32",
   "metadata": {},
   "outputs": [
    {
     "name": "stdout",
     "output_type": "stream",
     "text": [
      "26\n"
     ]
    }
   ],
   "source": [
    "def my_function(a, b, /, *, c, d):\n",
    "    print(a+b+c+d)\n",
    "my_function(5, 6, c=7, d=8)    "
   ]
  },
  {
   "cell_type": "markdown",
   "id": "d019217c-ca8a-416d-82c8-dfeeaa3f9a4f",
   "metadata": {},
   "source": [
    "# Recursion\n",
    "#### In this example, tri_recursion() is a function that we have defined to call itself (\"recurse\"). We use the k variable as the data, which decrements (-1) every time we recurse. The recursion ends when the condition is not greater than 0 (i.e. when it is 0)."
   ]
  },
  {
   "cell_type": "code",
   "execution_count": 63,
   "id": "52244016-0d01-4d0f-823e-f05d3e8cc295",
   "metadata": {},
   "outputs": [
    {
     "name": "stdout",
     "output_type": "stream",
     "text": [
      "Recursion Example Results:\n",
      "1\n",
      "3\n",
      "6\n",
      "10\n",
      "15\n",
      "21\n"
     ]
    },
    {
     "data": {
      "text/plain": [
       "21"
      ]
     },
     "execution_count": 63,
     "metadata": {},
     "output_type": "execute_result"
    }
   ],
   "source": [
    "def tri_recursion(k):\n",
    "    if(k>0):\n",
    "        result = k + tri_recursion(k-1)\n",
    "        print(result)\n",
    "    else:\n",
    "        result = 0\n",
    "    return result\n",
    "print(\"Recursion Example Results:\")\n",
    "tri_recursion(6)"
   ]
  }
 ],
 "metadata": {
  "kernelspec": {
   "display_name": "Python [conda env:base] *",
   "language": "python",
   "name": "conda-base-py"
  },
  "language_info": {
   "codemirror_mode": {
    "name": "ipython",
    "version": 3
   },
   "file_extension": ".py",
   "mimetype": "text/x-python",
   "name": "python",
   "nbconvert_exporter": "python",
   "pygments_lexer": "ipython3",
   "version": "3.12.7"
  }
 },
 "nbformat": 4,
 "nbformat_minor": 5
}
