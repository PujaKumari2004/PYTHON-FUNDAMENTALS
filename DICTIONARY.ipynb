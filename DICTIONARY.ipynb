{
 "cells": [
  {
   "cell_type": "code",
   "execution_count": 3,
   "id": "a9f0abc1-23fb-4467-a4a5-91005333e24b",
   "metadata": {},
   "outputs": [
    {
     "name": "stdout",
     "output_type": "stream",
     "text": [
      "{'Brand': 'BMW', 'Model': 'ix', 'Year': 1964}\n"
     ]
    }
   ],
   "source": [
    "car_dict = {\"Brand\":\"BMW\", \"Model\":\"ix\", \"Year\":1964}\n",
    "print(car_dict)"
   ]
  },
  {
   "cell_type": "code",
   "execution_count": 7,
   "id": "f11e7c76-b96b-47e2-abad-254e630139ab",
   "metadata": {},
   "outputs": [
    {
     "name": "stdout",
     "output_type": "stream",
     "text": [
      "BMW\n"
     ]
    }
   ],
   "source": [
    "#ACCESSING DICTIONARY ELEMENTS\n",
    "print(car_dict[\"Brand\"])"
   ]
  },
  {
   "cell_type": "code",
   "execution_count": 9,
   "id": "67ad84e6-d23f-443a-9981-7bb63acb8ba6",
   "metadata": {},
   "outputs": [
    {
     "name": "stdout",
     "output_type": "stream",
     "text": [
      "3\n"
     ]
    }
   ],
   "source": [
    "#LENGTH OF DICTIONARY\n",
    "print(len(car_dict))"
   ]
  },
  {
   "cell_type": "code",
   "execution_count": 11,
   "id": "a204bed7-4aae-4151-acf0-b37c5bc30679",
   "metadata": {},
   "outputs": [
    {
     "name": "stdout",
     "output_type": "stream",
     "text": [
      "<class 'dict'>\n"
     ]
    }
   ],
   "source": [
    "#TYPE OF DATA\n",
    "print(type(car_dict))"
   ]
  },
  {
   "cell_type": "code",
   "execution_count": 13,
   "id": "e68c4385-efa5-4950-96db-a34fed8ee49d",
   "metadata": {},
   "outputs": [
    {
     "name": "stdout",
     "output_type": "stream",
     "text": [
      "{'Brand': 'BMW', 'Model': 'iX', 'Year': 2000}\n"
     ]
    }
   ],
   "source": [
    "#FOR DUPLICATE KEYS\n",
    "car_dict2 = {\"Brand\":\"BMW\", \"Model\":\"iX\",\"Year\":1964, \"Year\":2000}\n",
    "print(car_dict2)"
   ]
  },
  {
   "cell_type": "code",
   "execution_count": 15,
   "id": "dcf61bc7-54b6-498b-81ee-d9a1f712ec27",
   "metadata": {},
   "outputs": [
    {
     "name": "stdout",
     "output_type": "stream",
     "text": [
      "{'Brand': 'BMW', 'Model': 'iX', 'Year': 2000}\n"
     ]
    }
   ],
   "source": [
    "car_dict3 = {\"Brand\":\"BMW\", \"Model\":\"iX\",\"Year\":2024, \"Year\":2000}\n",
    "print(car_dict3)"
   ]
  },
  {
   "cell_type": "code",
   "execution_count": 17,
   "id": "e62a0556-972a-4957-bfac-24eb7bae4254",
   "metadata": {},
   "outputs": [
    {
     "name": "stdout",
     "output_type": "stream",
     "text": [
      "ix\n"
     ]
    }
   ],
   "source": [
    "#FOR ACCESSING DICTIONARY ITEMS\n",
    "x  = car_dict.get(\"Model\")\n",
    "print(x)"
   ]
  },
  {
   "cell_type": "code",
   "execution_count": 19,
   "id": "c59f9742-e91d-4537-ac61-a53dad6e9f6d",
   "metadata": {},
   "outputs": [
    {
     "data": {
      "text/plain": [
       "dict_keys(['Brand', 'Model', 'Year'])"
      ]
     },
     "execution_count": 19,
     "metadata": {},
     "output_type": "execute_result"
    }
   ],
   "source": [
    "#The keys() method will return a list of all the keys in the dictionary.\n",
    "car_dict.keys()"
   ]
  },
  {
   "cell_type": "code",
   "execution_count": 21,
   "id": "31322232-9852-432b-ab6a-b161759f042d",
   "metadata": {},
   "outputs": [
    {
     "data": {
      "text/plain": [
       "dict_values(['BMW', 'ix', 1964])"
      ]
     },
     "execution_count": 21,
     "metadata": {},
     "output_type": "execute_result"
    }
   ],
   "source": [
    "#The values() method will return a list of the values in the dictionary\n",
    "car_dict.values()"
   ]
  },
  {
   "cell_type": "code",
   "execution_count": 25,
   "id": "3c25c05a-e728-4b0d-86da-5d1d048659fc",
   "metadata": {},
   "outputs": [
    {
     "name": "stdout",
     "output_type": "stream",
     "text": [
      "{'Brand': 'BMW', 'Model': 'ix', 'Year': 1964, 'year': 2024}\n"
     ]
    }
   ],
   "source": [
    "#TO change the values of dictionary\n",
    "car_dict[\"year\"] = 2024\n",
    "print(car_dict)"
   ]
  },
  {
   "cell_type": "code",
   "execution_count": 27,
   "id": "e26c98ab-90a0-45d7-b22f-3ee577db1168",
   "metadata": {},
   "outputs": [
    {
     "name": "stdout",
     "output_type": "stream",
     "text": [
      "{'Brand': 'BMW', 'Model': 'ix', 'Year': 1964, 'year': 2024, 'color': 'White'}\n"
     ]
    }
   ],
   "source": [
    "#To add a new key:value in dictionary\n",
    "car_dict[\"color\"] = \"White\"\n",
    "print(car_dict)"
   ]
  },
  {
   "cell_type": "code",
   "execution_count": 29,
   "id": "9637fd1a-6af4-42f3-867f-b14388d13f3a",
   "metadata": {},
   "outputs": [
    {
     "name": "stdout",
     "output_type": "stream",
     "text": [
      "{'name': 'A', 'year': 2023, 'Pass': True, 'Marks': [50, 60, 70]}\n"
     ]
    }
   ],
   "source": [
    "#The values in dictionary items can be of any data type\n",
    "d3 = {\"name\":\"A\", \"year\":2023, \"Pass\":True, \"Marks\":[50, 60, 70]}\n",
    "print(d3)"
   ]
  },
  {
   "cell_type": "code",
   "execution_count": 31,
   "id": "3bc38c3b-67b7-4d5f-9b80-f6c7b38ab2f3",
   "metadata": {},
   "outputs": [
    {
     "name": "stdout",
     "output_type": "stream",
     "text": [
      "{'name': 'A', 'year': 2024, 'Pass': True, 'Marks': [50, 60, 70]}\n"
     ]
    }
   ],
   "source": [
    "d3.update({\"year\":2024})\n",
    "print(d3)"
   ]
  },
  {
   "cell_type": "code",
   "execution_count": 33,
   "id": "1fa9bb54-46d6-4e05-be2f-d0eec9bc7af1",
   "metadata": {},
   "outputs": [
    {
     "name": "stdout",
     "output_type": "stream",
     "text": [
      "{'name': 'A', 'year': 2024, 'Pass': True, 'Marks': [50, 60, 70], 'phone_no': 94566}\n"
     ]
    }
   ],
   "source": [
    "#ADDING A NEW PAIR OF KEY AND VALUE\n",
    "d3[\"phone_no\"] = 94566\n",
    "print(d3)"
   ]
  },
  {
   "cell_type": "code",
   "execution_count": 35,
   "id": "5274c75f-200a-4871-acec-d81f37734e90",
   "metadata": {},
   "outputs": [
    {
     "name": "stdout",
     "output_type": "stream",
     "text": [
      "{'name': 'A', 'year': 2024, 'Pass': True, 'Marks': [50, 60, 70], 'phone_no': 94566, 'email': 'asdf@gmail.com'}\n"
     ]
    }
   ],
   "source": [
    "d3.update({\"email\":\"asdf@gmail.com\"})\n",
    "print(d3)"
   ]
  },
  {
   "cell_type": "code",
   "execution_count": 3,
   "id": "c2629a33-c805-4a97-897c-da89bb583901",
   "metadata": {},
   "outputs": [
    {
     "ename": "NameError",
     "evalue": "name 'd3' is not defined",
     "output_type": "error",
     "traceback": [
      "\u001b[1;31m---------------------------------------------------------------------------\u001b[0m",
      "\u001b[1;31mNameError\u001b[0m                                 Traceback (most recent call last)",
      "Cell \u001b[1;32mIn[3], line 4\u001b[0m\n\u001b[0;32m      1\u001b[0m \u001b[38;5;66;03m#FOR REMOVING DICTIONARY ITEMS\u001b[39;00m\n\u001b[0;32m      2\u001b[0m \u001b[38;5;66;03m#THE POP() METHOD REMOVES THE ITEM WITH THE SPECIFIED KEY NAME:\u001b[39;00m\n\u001b[1;32m----> 4\u001b[0m d3\u001b[38;5;241m.\u001b[39mpop(\u001b[38;5;124m\"\u001b[39m\u001b[38;5;124mphone_no\u001b[39m\u001b[38;5;124m\"\u001b[39m)\n\u001b[0;32m      5\u001b[0m \u001b[38;5;28mprint\u001b[39m(d3)\n",
      "\u001b[1;31mNameError\u001b[0m: name 'd3' is not defined"
     ]
    }
   ],
   "source": [
    "#FOR REMOVING DICTIONARY ITEMS\n",
    "#THE POP() METHOD REMOVES THE ITEM WITH THE SPECIFIED KEY NAME:\n",
    "\n",
    "d3.pop(\"phone_no\")\n",
    "print(d3)"
   ]
  },
  {
   "cell_type": "code",
   "execution_count": 39,
   "id": "ee46b577-3d24-4bfd-99ef-34d57f72c567",
   "metadata": {},
   "outputs": [
    {
     "name": "stdout",
     "output_type": "stream",
     "text": [
      "{'name': 'A', 'year': 2024, 'Pass': True, 'Marks': [50, 60, 70]}\n"
     ]
    }
   ],
   "source": [
    "#The popitem() methodd removes the last inserted item\n",
    "d3.popitem()\n",
    "print(d3)"
   ]
  },
  {
   "cell_type": "code",
   "execution_count": 67,
   "id": "557ec144-9faf-41a6-9dba-d29d72674a4c",
   "metadata": {},
   "outputs": [],
   "source": [
    "#THE DEL KEYWORD REMOVES THE ITEM WITH THE SPECIFIED KEY NAME:\n",
    "d3 = {\"name\":\"A\", \"year\":2023, \"Pass\":True, \"Marks\":[50, 60, 70]}\n",
    "del d3[\"Marks\"]"
   ]
  },
  {
   "cell_type": "code",
   "execution_count": 69,
   "id": "46c05a4f-c977-4adb-915d-7c4c0212217e",
   "metadata": {},
   "outputs": [
    {
     "name": "stdout",
     "output_type": "stream",
     "text": [
      "{'name': 'A', 'year': 2023, 'Pass': True}\n"
     ]
    }
   ],
   "source": [
    "print(d3)"
   ]
  },
  {
   "cell_type": "code",
   "execution_count": 55,
   "id": "6d7c5598-7449-4546-8104-b4f8fba985d9",
   "metadata": {},
   "outputs": [
    {
     "name": "stdout",
     "output_type": "stream",
     "text": [
      "{}\n",
      "<class 'dict'>\n"
     ]
    }
   ],
   "source": [
    "#The clear method emptie sthe dictionary\n",
    "d3 = {\"name\":\"A\", \"year\":2023, \"Pass\":True, \"Marks\":[50, 60, 70]}\n",
    "d3.clear()\n",
    "print(d3)\n",
    "print(type(d3))"
   ]
  },
  {
   "cell_type": "code",
   "execution_count": 73,
   "id": "bf229b9d-41b8-4555-a710-7c20e6d4ad8d",
   "metadata": {},
   "outputs": [
    {
     "ename": "NameError",
     "evalue": "name 'd3' is not defined",
     "output_type": "error",
     "traceback": [
      "\u001b[1;31m---------------------------------------------------------------------------\u001b[0m",
      "\u001b[1;31mNameError\u001b[0m                                 Traceback (most recent call last)",
      "Cell \u001b[1;32mIn[73], line 3\u001b[0m\n\u001b[0;32m      1\u001b[0m d3 \u001b[38;5;241m=\u001b[39m {\u001b[38;5;124m\"\u001b[39m\u001b[38;5;124mname\u001b[39m\u001b[38;5;124m\"\u001b[39m:\u001b[38;5;124m\"\u001b[39m\u001b[38;5;124mA\u001b[39m\u001b[38;5;124m\"\u001b[39m, \u001b[38;5;124m\"\u001b[39m\u001b[38;5;124myear\u001b[39m\u001b[38;5;124m\"\u001b[39m:\u001b[38;5;241m2023\u001b[39m, \u001b[38;5;124m\"\u001b[39m\u001b[38;5;124mPass\u001b[39m\u001b[38;5;124m\"\u001b[39m:\u001b[38;5;28;01mTrue\u001b[39;00m, \u001b[38;5;124m\"\u001b[39m\u001b[38;5;124mMarks\u001b[39m\u001b[38;5;124m\"\u001b[39m:[\u001b[38;5;241m50\u001b[39m, \u001b[38;5;241m60\u001b[39m, \u001b[38;5;241m70\u001b[39m]}\n\u001b[0;32m      2\u001b[0m \u001b[38;5;28;01mdel\u001b[39;00m d3\n\u001b[1;32m----> 3\u001b[0m \u001b[38;5;28mprint\u001b[39m(d3)\n",
      "\u001b[1;31mNameError\u001b[0m: name 'd3' is not defined"
     ]
    }
   ],
   "source": [
    "d3 = {\"name\":\"A\", \"year\":2023, \"Pass\":True, \"Marks\":[50, 60, 70]}\n",
    "del d3\n",
    "print(d3)"
   ]
  },
  {
   "cell_type": "code",
   "execution_count": 5,
   "id": "7cae7579-8f28-4f28-853e-9d875d314778",
   "metadata": {},
   "outputs": [
    {
     "name": "stdout",
     "output_type": "stream",
     "text": [
      "{'name': 'A', 'Year': 2023, 'Pass': True, 'Marks': [50, 60, 70]}\n"
     ]
    }
   ],
   "source": [
    "#Copy dictionary\n",
    "d3 = {\"name\":\"A\", \"Year\":2023, \"Pass\":True, \"Marks\":[50, 60, 70]}\n",
    "d4 = d3.copy()\n",
    "print(d4)"
   ]
  },
  {
   "cell_type": "code",
   "execution_count": 11,
   "id": "98f053d7-024f-4c56-99a4-0b8439024327",
   "metadata": {},
   "outputs": [
    {
     "name": "stdout",
     "output_type": "stream",
     "text": [
      "{'name': 'A', 'Year': 2023, 'Pass': True, 'Marks': [50, 60, 70]}\n"
     ]
    }
   ],
   "source": [
    "d5 = dict(d4)\n",
    "print(d5)"
   ]
  },
  {
   "cell_type": "code",
   "execution_count": 13,
   "id": "35e39ef9-bb2c-4322-b71c-1220b4ebb7fd",
   "metadata": {},
   "outputs": [
    {
     "name": "stdout",
     "output_type": "stream",
     "text": [
      "{'Child1': {'Name': 'Emil', 'Year': 2004}, 'Child2': {'Name': 'Tobias', 'Year': 2007}, 'Child3': {'Name': 'Linus', 'Year': 2011}}\n"
     ]
    }
   ],
   "source": [
    "#NESTED DICTIONARIES\n",
    "\n",
    "myfamily = {\n",
    "      \"Child1\" : {\n",
    "        \"Name\" : \"Emil\",\n",
    "        \"Year\" :  2004\n",
    "      },\n",
    "       \"Child2\" : {\n",
    "         \"Name\" : \"Tobias\",\n",
    "         \"Year\" : 2007\n",
    "       },\n",
    "       \"Child3\" : {\n",
    "         \"Name\" : \"Linus\",\n",
    "         \"Year\" : 2011\n",
    "       }\n",
    "}\n",
    "print(myfamily)"
   ]
  },
  {
   "cell_type": "code",
   "execution_count": 15,
   "id": "ae39ca00-b7ee-40b1-8e59-bf82c9b4daa3",
   "metadata": {},
   "outputs": [
    {
     "name": "stdout",
     "output_type": "stream",
     "text": [
      "Tobias\n"
     ]
    }
   ],
   "source": [
    "print(myfamily[\"Child2\"][\"Name\"])"
   ]
  },
  {
   "cell_type": "code",
   "execution_count": null,
   "id": "391af675-0e64-45a8-9e11-1cacdd525406",
   "metadata": {},
   "outputs": [],
   "source": []
  }
 ],
 "metadata": {
  "kernelspec": {
   "display_name": "Python [conda env:base] *",
   "language": "python",
   "name": "conda-base-py"
  },
  "language_info": {
   "codemirror_mode": {
    "name": "ipython",
    "version": 3
   },
   "file_extension": ".py",
   "mimetype": "text/x-python",
   "name": "python",
   "nbconvert_exporter": "python",
   "pygments_lexer": "ipython3",
   "version": "3.12.7"
  }
 },
 "nbformat": 4,
 "nbformat_minor": 5
}
