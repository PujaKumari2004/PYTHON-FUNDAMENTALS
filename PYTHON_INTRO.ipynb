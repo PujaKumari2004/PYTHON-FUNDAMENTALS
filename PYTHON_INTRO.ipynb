{
 "cells": [
  {
   "cell_type": "markdown",
   "id": "3b7060cc-d229-4cf7-a0f6-09c86b3793f2",
   "metadata": {},
   "source": [
    "# Python Introduction"
   ]
  },
  {
   "cell_type": "markdown",
   "id": "e93a7534-cacd-4d62-869f-cc534ac46dec",
   "metadata": {},
   "source": [
    "## What is Python?\n",
    "### Python is a popular programming language. It was created by Guido van Rossum, and released in 1991.\n",
    "### Python can be treated in a procedural way, an object-oriented way or a functional way.\n",
    "### Python has syntax that allows developers to write programs with fewer lines than some other programming languages.\n",
    "### Python works on different platforms (Windows, Mac, Linux, Raspberry Pi, etc)."
   ]
  },
  {
   "cell_type": "markdown",
   "id": "2a25f328-be5a-45cf-a8a5-5e361d466ddd",
   "metadata": {},
   "source": [
    "### Example"
   ]
  },
  {
   "cell_type": "code",
   "execution_count": 15,
   "id": "72c214a7-0f11-4d51-b43b-48fd033ebfb9",
   "metadata": {},
   "outputs": [
    {
     "name": "stdout",
     "output_type": "stream",
     "text": [
      "Hello World!\n"
     ]
    }
   ],
   "source": [
    "print(\"Hello World!\")"
   ]
  },
  {
   "cell_type": "markdown",
   "id": "ac21664c-2f06-4dcf-986b-b33d27046150",
   "metadata": {},
   "source": [
    "## Python Variables"
   ]
  },
  {
   "cell_type": "code",
   "execution_count": 3,
   "id": "6b954af7-3973-49f9-9bde-1536fc3d0a37",
   "metadata": {},
   "outputs": [
    {
     "name": "stdout",
     "output_type": "stream",
     "text": [
      "5\n",
      "John\n"
     ]
    }
   ],
   "source": [
    "x = 5\n",
    "y = \"John\"\n",
    "print(x)\n",
    "print(y)"
   ]
  },
  {
   "cell_type": "code",
   "execution_count": 5,
   "id": "893bdba7-e985-4891-a9c3-5cd39cee7971",
   "metadata": {},
   "outputs": [
    {
     "name": "stdout",
     "output_type": "stream",
     "text": [
      "Sally\n"
     ]
    }
   ],
   "source": [
    "x = 4    # x is of type int\n",
    "x = \"Sally\" # x is of type str\n",
    "print(x)"
   ]
  },
  {
   "cell_type": "code",
   "execution_count": 9,
   "id": "8ec0a768-6e9f-4fb3-a0b1-bc0936953323",
   "metadata": {},
   "outputs": [
    {
     "name": "stdout",
     "output_type": "stream",
     "text": [
      "<class 'str'>\n",
      "<class 'int'>\n",
      "<class 'float'>\n"
     ]
    }
   ],
   "source": [
    "x = str(3) # x will be \"3\"\n",
    "y = int(3) # y will be 3\n",
    "z = float(3) # z will be 3.0\n",
    "print(type(x))\n",
    "print(type(y))\n",
    "print(type(z))"
   ]
  },
  {
   "cell_type": "code",
   "execution_count": 11,
   "id": "15c65e91-589c-4adf-80b0-810a487b1c38",
   "metadata": {},
   "outputs": [
    {
     "name": "stdout",
     "output_type": "stream",
     "text": [
      "<class 'int'>\n",
      "<class 'str'>\n"
     ]
    }
   ],
   "source": [
    "x = 5\n",
    "y = \"John\"\n",
    "print(type(x))\n",
    "print(type(y))"
   ]
  },
  {
   "cell_type": "markdown",
   "id": "ad93bc4a-0056-4cf6-ab44-02ba7b0aaef3",
   "metadata": {},
   "source": [
    "### Variable Names"
   ]
  },
  {
   "cell_type": "code",
   "execution_count": 14,
   "id": "1b25bd33-df3f-42ae-bdbc-3cde2022524e",
   "metadata": {},
   "outputs": [],
   "source": [
    "myvar = \"John\"\n",
    "my_var = \"John\"\n",
    "_my_var = \"John\"\n",
    "myVar = \"John\"\n",
    "MYVAR = \"John\"\n",
    "myvar2 = \"John\""
   ]
  },
  {
   "cell_type": "code",
   "execution_count": 20,
   "id": "3feec2ce-b2b1-4c33-b03e-dfbb4508c347",
   "metadata": {},
   "outputs": [
    {
     "name": "stdout",
     "output_type": "stream",
     "text": [
      "15\n"
     ]
    }
   ],
   "source": [
    "my_var = 5\n",
    "b = 10\n",
    "sum = my_var + b\n",
    "print(sum)"
   ]
  },
  {
   "cell_type": "code",
   "execution_count": 24,
   "id": "94040d36-af0c-4957-8db6-ddb55e959d8c",
   "metadata": {},
   "outputs": [
    {
     "name": "stdout",
     "output_type": "stream",
     "text": [
      "<class 'int'>\n",
      "<class 'float'>\n",
      "<class 'str'>\n"
     ]
    }
   ],
   "source": [
    "a = 5\n",
    "a1 = 5.5\n",
    "a2 = \"AAFT\"\n",
    "print(type(a))\n",
    "print(type(a1))\n",
    "print(type(a2))"
   ]
  },
  {
   "cell_type": "code",
   "execution_count": 28,
   "id": "9dc067aa-8c7f-4f48-b79d-35a32e47f7ef",
   "metadata": {},
   "outputs": [
    {
     "name": "stdout",
     "output_type": "stream",
     "text": [
      "<class 'list'>\n",
      "<class 'tuple'>\n",
      "<class 'dict'>\n",
      "<class 'set'>\n"
     ]
    }
   ],
   "source": [
    "X = [1,2,3,4]\n",
    "Y = (1,2,3,4)\n",
    "Z = {\"a\":1, \"b\":2, \"c\":3}\n",
    "P = {1,2,3,4}\n",
    "print(type(X))\n",
    "print(type(Y))\n",
    "print(type(Z))\n",
    "print(type(P))"
   ]
  },
  {
   "cell_type": "markdown",
   "id": "122ec91a-0759-4cd9-939c-72121226e0ec",
   "metadata": {},
   "source": [
    "### Assign Multiple Values"
   ]
  },
  {
   "cell_type": "code",
   "execution_count": 31,
   "id": "7ebaad8e-178e-431e-9330-7e61422852a2",
   "metadata": {},
   "outputs": [
    {
     "name": "stdout",
     "output_type": "stream",
     "text": [
      "Orange\n",
      "Banana\n",
      "Cherry\n"
     ]
    }
   ],
   "source": [
    "x, y, z = \"Orange\", \"Banana\", \"Cherry\"\n",
    "print(x)\n",
    "print(y)\n",
    "print(z)"
   ]
  },
  {
   "cell_type": "code",
   "execution_count": 33,
   "id": "482c584e-dd17-4c54-8ae1-e899976e1eb0",
   "metadata": {},
   "outputs": [
    {
     "name": "stdout",
     "output_type": "stream",
     "text": [
      "Orange\n",
      "Orange\n",
      "Orange\n"
     ]
    }
   ],
   "source": [
    "x = y = z = \"Orange\"\n",
    "print(x)\n",
    "print(y)\n",
    "print(z)"
   ]
  },
  {
   "cell_type": "markdown",
   "id": "5a0af0b0-4e4a-4a37-8f4c-66ae95402e6a",
   "metadata": {},
   "source": [
    "### Unpack a Collection"
   ]
  },
  {
   "cell_type": "code",
   "execution_count": 36,
   "id": "f2bcb457-bc2e-4315-90a0-7e9e7ff834f9",
   "metadata": {},
   "outputs": [
    {
     "name": "stdout",
     "output_type": "stream",
     "text": [
      "apple\n",
      "banana\n",
      "cherry\n"
     ]
    }
   ],
   "source": [
    "fruits = [\"apple\", \"banana\", \"cherry\"]\n",
    "x, y, z = fruits\n",
    "print(x)\n",
    "print(y)\n",
    "print(z)"
   ]
  },
  {
   "cell_type": "markdown",
   "id": "3f52d8b2-0d22-4227-a8cf-d18eed0d0b68",
   "metadata": {},
   "source": [
    "### Output Variables"
   ]
  },
  {
   "cell_type": "code",
   "execution_count": 39,
   "id": "72eb368e-b2f2-47af-b1fe-f5f743364d66",
   "metadata": {},
   "outputs": [
    {
     "name": "stdout",
     "output_type": "stream",
     "text": [
      "Python is awesome\n"
     ]
    }
   ],
   "source": [
    "x = \"Python is awesome\"\n",
    "print(x)"
   ]
  },
  {
   "cell_type": "code",
   "execution_count": 41,
   "id": "a7a104f1-b4b5-4b08-bb82-ecfcae57fe86",
   "metadata": {},
   "outputs": [
    {
     "name": "stdout",
     "output_type": "stream",
     "text": [
      "Python is awesome\n"
     ]
    }
   ],
   "source": [
    "x = \"Python\"\n",
    "y = \"is\"\n",
    "z = \"awesome\"\n",
    "print(x, y, z)"
   ]
  },
  {
   "cell_type": "code",
   "execution_count": 43,
   "id": "dd7a7e70-7c8c-4625-80ba-b5ed58ca4167",
   "metadata": {},
   "outputs": [
    {
     "name": "stdout",
     "output_type": "stream",
     "text": [
      "Python is awesome\n"
     ]
    }
   ],
   "source": [
    "x = \"Python \"\n",
    "y = \"is \"\n",
    "z = \"awesome\"\n",
    "print(x + y + z)"
   ]
  },
  {
   "cell_type": "code",
   "execution_count": 45,
   "id": "74c1eda7-f2ee-4475-8a53-cd061587c60a",
   "metadata": {},
   "outputs": [
    {
     "name": "stdout",
     "output_type": "stream",
     "text": [
      "15\n"
     ]
    }
   ],
   "source": [
    "x = 5\n",
    "y = 10\n",
    "print(x + y)"
   ]
  },
  {
   "cell_type": "code",
   "execution_count": 47,
   "id": "beb42b29-5ff7-4135-bf22-97445aa5463a",
   "metadata": {},
   "outputs": [
    {
     "ename": "TypeError",
     "evalue": "unsupported operand type(s) for +: 'int' and 'str'",
     "output_type": "error",
     "traceback": [
      "\u001b[1;31m---------------------------------------------------------------------------\u001b[0m",
      "\u001b[1;31mTypeError\u001b[0m                                 Traceback (most recent call last)",
      "Cell \u001b[1;32mIn[47], line 3\u001b[0m\n\u001b[0;32m      1\u001b[0m x \u001b[38;5;241m=\u001b[39m \u001b[38;5;241m5\u001b[39m\n\u001b[0;32m      2\u001b[0m y \u001b[38;5;241m=\u001b[39m \u001b[38;5;124m\"\u001b[39m\u001b[38;5;124mJohn\u001b[39m\u001b[38;5;124m\"\u001b[39m\n\u001b[1;32m----> 3\u001b[0m \u001b[38;5;28mprint\u001b[39m(x \u001b[38;5;241m+\u001b[39m y)\n",
      "\u001b[1;31mTypeError\u001b[0m: unsupported operand type(s) for +: 'int' and 'str'"
     ]
    }
   ],
   "source": [
    "#In the print() function, when we try to combine a string and \n",
    "#a number with the + operator, Python will give an error:\n",
    "x = 5  \n",
    "y = \"John\"\n",
    "print(x + y)"
   ]
  },
  {
   "cell_type": "code",
   "execution_count": 49,
   "id": "6948ff7b-c4a7-4114-bdb7-f5dc40c72a83",
   "metadata": {},
   "outputs": [
    {
     "name": "stdout",
     "output_type": "stream",
     "text": [
      "5 John\n"
     ]
    }
   ],
   "source": [
    "x = 5\n",
    "y = \"John\"\n",
    "print(x, y)"
   ]
  },
  {
   "cell_type": "markdown",
   "id": "c656c488-3fbf-491c-b5a1-eee1e2724860",
   "metadata": {},
   "source": [
    "### Global Variables"
   ]
  },
  {
   "cell_type": "code",
   "execution_count": 54,
   "id": "6a013f5a-594c-491a-99ab-319fce1f9f03",
   "metadata": {},
   "outputs": [
    {
     "name": "stdout",
     "output_type": "stream",
     "text": [
      "Python is awesome\n"
     ]
    }
   ],
   "source": [
    "x = \"awesome\"\n",
    "def myfunc():\n",
    "    print(\"Python is\" + \" \" + x)\n",
    "myfunc()    "
   ]
  },
  {
   "cell_type": "code",
   "execution_count": 58,
   "id": "8ce3cc21-a7d0-4ea9-9621-53055cd23935",
   "metadata": {},
   "outputs": [
    {
     "name": "stdout",
     "output_type": "stream",
     "text": [
      "Python is Fantastic\n",
      "Python is awesome\n"
     ]
    }
   ],
   "source": [
    "# A variable inside a function, with the same name as the global variable.\n",
    "x = \"awesome\"\n",
    "def myfunc():\n",
    "    x = \"Fantastic\"\n",
    "    print(\"Python is\" + \" \" + x)\n",
    "myfunc()    \n",
    "print(\"Python is\" + \" \" + x)"
   ]
  },
  {
   "cell_type": "markdown",
   "id": "22979ad8-69d7-412d-b730-a3a6775d533c",
   "metadata": {},
   "source": [
    "### The global Keyword"
   ]
  },
  {
   "cell_type": "code",
   "execution_count": 63,
   "id": "1d36eab3-8da3-449f-8d27-fe94c914fb98",
   "metadata": {},
   "outputs": [
    {
     "name": "stdout",
     "output_type": "stream",
     "text": [
      "Python is fantastic\n"
     ]
    }
   ],
   "source": [
    "def myfunc():\n",
    "    global x\n",
    "    x = \"fantastic\"\n",
    "myfunc()    \n",
    "print(\"Python is\" + \" \" + x)"
   ]
  },
  {
   "cell_type": "code",
   "execution_count": 69,
   "id": "e513c88a-1483-480e-97c6-fad88eb6eaf5",
   "metadata": {},
   "outputs": [
    {
     "name": "stdout",
     "output_type": "stream",
     "text": [
      "Python is fantistic\n"
     ]
    }
   ],
   "source": [
    "#To change the value of a global variable inside a function,\n",
    "#refer to the variable by using the global keyword:\n",
    "\n",
    "x = \"awesome\"\n",
    "def myfunc():\n",
    "    global x\n",
    "    x = \"fantistic\"\n",
    "myfunc()\n",
    "print(\"Python is\" + \" \" + x)"
   ]
  },
  {
   "cell_type": "markdown",
   "id": "38e0e028-1cab-44b8-8a7a-5756a5518133",
   "metadata": {},
   "source": [
    "### Python Numbers"
   ]
  },
  {
   "cell_type": "code",
   "execution_count": 74,
   "id": "f104bf3d-1669-4647-bc86-f0a8922dfbcb",
   "metadata": {},
   "outputs": [
    {
     "name": "stdout",
     "output_type": "stream",
     "text": [
      "<class 'int'>\n",
      "<class 'float'>\n",
      "<class 'complex'>\n"
     ]
    }
   ],
   "source": [
    "x = 1    # int\n",
    "y = 2.8  # float\n",
    "z = 1j   # complex\n",
    "print(type(x))\n",
    "print(type(y))\n",
    "print(type(z))"
   ]
  },
  {
   "cell_type": "markdown",
   "id": "7c05deb5-f819-4c4a-b443-c818784c64fb",
   "metadata": {},
   "source": [
    "#### int"
   ]
  },
  {
   "cell_type": "code",
   "execution_count": 76,
   "id": "35014487-396d-472f-8cf2-3b893aa71df5",
   "metadata": {},
   "outputs": [
    {
     "name": "stdout",
     "output_type": "stream",
     "text": [
      "<class 'int'>\n",
      "<class 'int'>\n",
      "<class 'int'>\n"
     ]
    }
   ],
   "source": [
    "x = 1\n",
    "y = 35656222554887711\n",
    "z = -3255522\n",
    "\n",
    "print(type(x))\n",
    "print(type(y))\n",
    "print(type(z))"
   ]
  },
  {
   "cell_type": "markdown",
   "id": "38d07bac-7e61-494f-b9c1-c73390f06fab",
   "metadata": {},
   "source": [
    "#### Float"
   ]
  },
  {
   "cell_type": "code",
   "execution_count": 80,
   "id": "48867367-3e94-415d-b617-e985869a77cd",
   "metadata": {},
   "outputs": [
    {
     "name": "stdout",
     "output_type": "stream",
     "text": [
      "<class 'float'>\n",
      "<class 'float'>\n",
      "<class 'float'>\n"
     ]
    }
   ],
   "source": [
    "x = 1.10\n",
    "y = 1.0\n",
    "z = -35.59\n",
    "\n",
    "print(type(x))\n",
    "print(type(y))\n",
    "print(type(z))"
   ]
  },
  {
   "cell_type": "code",
   "execution_count": 82,
   "id": "9f42277f-f65e-423f-bba0-c936d1915b5e",
   "metadata": {},
   "outputs": [
    {
     "name": "stdout",
     "output_type": "stream",
     "text": [
      "<class 'float'>\n",
      "<class 'float'>\n",
      "<class 'float'>\n"
     ]
    }
   ],
   "source": [
    "x = 35e3\n",
    "y = 12E4\n",
    "z = -87.7e100\n",
    "\n",
    "print(type(x))\n",
    "print(type(y))\n",
    "print(type(z))"
   ]
  },
  {
   "cell_type": "markdown",
   "id": "1ca5851e-a506-40e1-aa53-e3c20b7c8cd0",
   "metadata": {},
   "source": [
    "#### Complex"
   ]
  },
  {
   "cell_type": "code",
   "execution_count": 85,
   "id": "90438908-68c9-4958-8523-84adacb65469",
   "metadata": {},
   "outputs": [
    {
     "name": "stdout",
     "output_type": "stream",
     "text": [
      "<class 'complex'>\n",
      "<class 'complex'>\n",
      "<class 'complex'>\n"
     ]
    }
   ],
   "source": [
    "x = 3+5j\n",
    "y = 5j\n",
    "z = -5j\n",
    "\n",
    "print(type(x))\n",
    "print(type(y))\n",
    "print(type(z))"
   ]
  },
  {
   "cell_type": "markdown",
   "id": "88d22acf-be6c-438d-87ed-0278bbad4a5c",
   "metadata": {},
   "source": [
    "## Type Conversion"
   ]
  },
  {
   "cell_type": "code",
   "execution_count": 88,
   "id": "df7ad5d2-0198-4341-938b-56964ff13e87",
   "metadata": {},
   "outputs": [
    {
     "name": "stdout",
     "output_type": "stream",
     "text": [
      "1.0\n",
      "2\n",
      "(1+0j)\n",
      "<class 'float'>\n",
      "<class 'int'>\n",
      "<class 'complex'>\n"
     ]
    }
   ],
   "source": [
    "x = 1      # int\n",
    "y = 2.8    #float\n",
    "z = 1j     #complex\n",
    "\n",
    "#convert from int to float:\n",
    "a = float(x)\n",
    "\n",
    "#convert from float to int:\n",
    "b = int(y)\n",
    "\n",
    "#convert from int to complex:\n",
    "c = complex(x)\n",
    "\n",
    "print(a)\n",
    "print(b)\n",
    "print(c)\n",
    "\n",
    "print(type(a))\n",
    "print(type(b))\n",
    "print(type(c))"
   ]
  },
  {
   "cell_type": "markdown",
   "id": "659e2085-e5ae-48b8-9541-6fe40d7f1a6b",
   "metadata": {},
   "source": [
    "## Random Number\n",
    "### Python does not have a random() function to make a random number, but Python has a built-in module called random that can be used to make random numbers:"
   ]
  },
  {
   "cell_type": "code",
   "execution_count": 105,
   "id": "c15a075f-4935-44f8-bdcd-6b0acae66152",
   "metadata": {},
   "outputs": [
    {
     "name": "stdout",
     "output_type": "stream",
     "text": [
      "1\n"
     ]
    }
   ],
   "source": [
    "import random\n",
    "print(random.randrange(1, 10))"
   ]
  },
  {
   "cell_type": "markdown",
   "id": "dd3c9660-4c94-44b4-8c01-feb090157f8b",
   "metadata": {},
   "source": [
    "## Python Casting"
   ]
  },
  {
   "cell_type": "markdown",
   "id": "2548201a-8ab9-46f7-a813-240162f25c53",
   "metadata": {},
   "source": [
    "#### int"
   ]
  },
  {
   "cell_type": "code",
   "execution_count": 108,
   "id": "73b42c47-4ca8-4b39-a468-ec58d438b38d",
   "metadata": {},
   "outputs": [
    {
     "name": "stdout",
     "output_type": "stream",
     "text": [
      "1\n",
      "2\n",
      "3\n"
     ]
    }
   ],
   "source": [
    "x = int(1)   # x will be 1\n",
    "y = int(2.8) # y will be 2\n",
    "z = int(\"3\") # z will be 3\n",
    "\n",
    "print(x)\n",
    "print(y)\n",
    "print(z)"
   ]
  },
  {
   "cell_type": "markdown",
   "id": "189d707a-0da1-4c19-9f30-1a944326c6c3",
   "metadata": {},
   "source": [
    "#### float"
   ]
  },
  {
   "cell_type": "code",
   "execution_count": 112,
   "id": "0ef717a0-f7ae-4197-b337-8591220e427a",
   "metadata": {},
   "outputs": [
    {
     "name": "stdout",
     "output_type": "stream",
     "text": [
      "1.0\n",
      "2.8\n",
      "3.0\n",
      "4.2\n"
     ]
    }
   ],
   "source": [
    "x = float(1)     # x will be 1.0\n",
    "y = float(2.8)   # y will be 2.8\n",
    "z = float(\"3\")   # z will be 3.0\n",
    "w = float(\"4.2\") # w will be 4.2\n",
    "\n",
    "print(x)\n",
    "print(y)\n",
    "print(z)\n",
    "print(w)"
   ]
  },
  {
   "cell_type": "markdown",
   "id": "3566592d-06bf-48db-a04e-f6b26dc1f4a8",
   "metadata": {},
   "source": [
    "#### string"
   ]
  },
  {
   "cell_type": "code",
   "execution_count": 114,
   "id": "ae9e90a0-82ad-4bf1-b89f-5a44d31cb250",
   "metadata": {},
   "outputs": [
    {
     "name": "stdout",
     "output_type": "stream",
     "text": [
      "s1\n",
      "2\n",
      "3.0\n"
     ]
    }
   ],
   "source": [
    "x = str(\"s1\") # x will be 's1'\n",
    "y = str(2)    # y will be '2'\n",
    "z = str(3.0)  # z will be '3.0'\n",
    "\n",
    "print(x)\n",
    "print(y)\n",
    "print(z)"
   ]
  },
  {
   "cell_type": "markdown",
   "id": "541cb123-c5c3-4d06-ba12-5182e11c433d",
   "metadata": {},
   "source": [
    "# Python Strings"
   ]
  },
  {
   "cell_type": "markdown",
   "id": "8e6e5751-7299-463c-b3c9-4833cf42636d",
   "metadata": {},
   "source": [
    "### Strings"
   ]
  },
  {
   "cell_type": "code",
   "execution_count": 123,
   "id": "1fbb3b05-2264-45fe-99ee-f7649b4fe487",
   "metadata": {},
   "outputs": [
    {
     "name": "stdout",
     "output_type": "stream",
     "text": [
      "Hello\n",
      "Hello\n"
     ]
    }
   ],
   "source": [
    "print(\"Hello\")\n",
    "print('Hello')"
   ]
  },
  {
   "cell_type": "markdown",
   "id": "5c637346-db5b-4ec3-88e4-5d44052152fc",
   "metadata": {},
   "source": [
    "### Quotes Inside Quotes"
   ]
  },
  {
   "cell_type": "code",
   "execution_count": 128,
   "id": "7505000b-c7eb-4ecb-85c9-8a9db58a940e",
   "metadata": {},
   "outputs": [
    {
     "name": "stdout",
     "output_type": "stream",
     "text": [
      "It's alright\n",
      "He is called 'Johnny'\n",
      "He is called \"Johnny\"\n"
     ]
    }
   ],
   "source": [
    "print(\"It's alright\")\n",
    "print(\"He is called 'Johnny'\")\n",
    "print('He is called \"Johnny\"')"
   ]
  },
  {
   "cell_type": "markdown",
   "id": "179052e2-4594-41d2-9def-9cd047b37724",
   "metadata": {},
   "source": [
    "### Assign String to a Variable"
   ]
  },
  {
   "cell_type": "code",
   "execution_count": 132,
   "id": "b1181428-3a22-485e-96a3-b992b6afbe4d",
   "metadata": {},
   "outputs": [
    {
     "name": "stdout",
     "output_type": "stream",
     "text": [
      "Hello\n"
     ]
    }
   ],
   "source": [
    "a = \"Hello\"\n",
    "print(a)"
   ]
  },
  {
   "cell_type": "markdown",
   "id": "09fac5c4-ed74-4586-8fbf-aa8baa74db8b",
   "metadata": {},
   "source": [
    "### Multiline Strings"
   ]
  },
  {
   "cell_type": "code",
   "execution_count": 139,
   "id": "50ba984d-06fe-4b42-8ea5-d22bbf950ca9",
   "metadata": {},
   "outputs": [
    {
     "name": "stdout",
     "output_type": "stream",
     "text": [
      "Lorem ipsum dolor sit amet,\n",
      "consectetur adipiscing elit,\n",
      "sed do eiusmod tempor incididunt\n",
      "ut labore et dolore magna aliqua.\n"
     ]
    }
   ],
   "source": [
    "a = \"\"\"Lorem ipsum dolor sit amet,\n",
    "consectetur adipiscing elit,\n",
    "sed do eiusmod tempor incididunt\n",
    "ut labore et dolore magna aliqua.\"\"\"\n",
    "print(a)"
   ]
  },
  {
   "cell_type": "code",
   "execution_count": 141,
   "id": "b4e8b686-7ba1-47c8-9c85-a039e52fbfcc",
   "metadata": {},
   "outputs": [
    {
     "name": "stdout",
     "output_type": "stream",
     "text": [
      "Lorem ipsum dolor sit amet,\n",
      "consectetur adipiscing elit,\n",
      "sed do eiusmod tempor incididunt\n",
      "ut labore et dolore magna aliqua.\n"
     ]
    }
   ],
   "source": [
    "a = '''Lorem ipsum dolor sit amet,\n",
    "consectetur adipiscing elit,\n",
    "sed do eiusmod tempor incididunt\n",
    "ut labore et dolore magna aliqua.'''\n",
    "print(a)"
   ]
  },
  {
   "cell_type": "markdown",
   "id": "2a040e87-6497-47c8-93c1-26ec85503fbc",
   "metadata": {},
   "source": [
    "### Strings are Arrays"
   ]
  },
  {
   "cell_type": "code",
   "execution_count": 143,
   "id": "c5e531d8-441c-40fa-93d9-bc96c296dcef",
   "metadata": {},
   "outputs": [
    {
     "name": "stdout",
     "output_type": "stream",
     "text": [
      "e\n"
     ]
    }
   ],
   "source": [
    "# Square brackets can be used to access elements of the string.\n",
    "a = \"Hello, World!\"\n",
    "print(a[1])"
   ]
  },
  {
   "cell_type": "markdown",
   "id": "e0d35b92-bb50-4dd7-b90c-dceddccf9b0c",
   "metadata": {},
   "source": [
    "### Looping Through a String"
   ]
  },
  {
   "cell_type": "code",
   "execution_count": 147,
   "id": "1b30963a-39b0-4015-acdd-38ae2577caee",
   "metadata": {},
   "outputs": [
    {
     "name": "stdout",
     "output_type": "stream",
     "text": [
      "b\n",
      "a\n",
      "n\n",
      "a\n",
      "n\n",
      "a\n"
     ]
    }
   ],
   "source": [
    "# Since strings are arrays, we can loop through the characters in a string, with a for loop.\n",
    "for x in \"banana\":\n",
    "  print(x)"
   ]
  },
  {
   "cell_type": "markdown",
   "id": "c5c6f0e2-82f1-4c97-a370-e5df695df6df",
   "metadata": {},
   "source": [
    "### String Length"
   ]
  },
  {
   "cell_type": "code",
   "execution_count": 154,
   "id": "fbbbeab4-5200-406e-afe7-734ed6a5ae45",
   "metadata": {},
   "outputs": [
    {
     "name": "stdout",
     "output_type": "stream",
     "text": [
      "13\n"
     ]
    }
   ],
   "source": [
    "#The len() function returns the length of a string:\n",
    "a = \"Hello, World!\"\n",
    "print(len(a))"
   ]
  },
  {
   "cell_type": "markdown",
   "id": "7a0ecba3-0dbe-454e-9582-a32aa26bdb8e",
   "metadata": {},
   "source": [
    "### Check String"
   ]
  },
  {
   "cell_type": "code",
   "execution_count": 157,
   "id": "dd3128dc-9e00-4eab-b0d7-63afb6c48a5b",
   "metadata": {},
   "outputs": [
    {
     "name": "stdout",
     "output_type": "stream",
     "text": [
      "True\n"
     ]
    }
   ],
   "source": [
    "# Check if \"free\" is present in the following text:\n",
    "txt = \"The best things in life are free!\"\n",
    "print(\"free\" in txt)"
   ]
  },
  {
   "cell_type": "code",
   "execution_count": 167,
   "id": "8b8bcbd7-7a95-477a-83c8-14e5cb4cc554",
   "metadata": {},
   "outputs": [
    {
     "name": "stdout",
     "output_type": "stream",
     "text": [
      "Yes, 'free' is present.\n"
     ]
    }
   ],
   "source": [
    "txt = \"The best things in life are free!\"\n",
    "if \"free\" in txt:\n",
    "  print(\"Yes, 'free' is present.\")"
   ]
  },
  {
   "cell_type": "markdown",
   "id": "d66a2dd8-2a4d-47f3-a629-456ec3695ddb",
   "metadata": {},
   "source": [
    "### Check if NOT"
   ]
  },
  {
   "cell_type": "code",
   "execution_count": 171,
   "id": "2ca68ffc-cdde-45e8-bc58-b07dfd1ad674",
   "metadata": {},
   "outputs": [
    {
     "name": "stdout",
     "output_type": "stream",
     "text": [
      "True\n"
     ]
    }
   ],
   "source": [
    "txt = \"The best things in life are free!\"\n",
    "print(\"expensive\" not in txt)"
   ]
  },
  {
   "cell_type": "code",
   "execution_count": 173,
   "id": "6c85a3be-42bd-4eac-a18a-92dde1e24b9f",
   "metadata": {},
   "outputs": [
    {
     "name": "stdout",
     "output_type": "stream",
     "text": [
      "No, 'expensive' is NOT present.\n"
     ]
    }
   ],
   "source": [
    "txt = \"The best things in life are free!\"\n",
    "if \"expensive\" not in txt:\n",
    "  print(\"No, 'expensive' is NOT present.\")"
   ]
  },
  {
   "cell_type": "markdown",
   "id": "00f39c25-6540-4537-b944-944486d88f88",
   "metadata": {},
   "source": [
    "## Slicing Strings"
   ]
  },
  {
   "cell_type": "code",
   "execution_count": 176,
   "id": "d8e31cd0-0a9d-44f7-a465-16c367a3b1b4",
   "metadata": {},
   "outputs": [
    {
     "name": "stdout",
     "output_type": "stream",
     "text": [
      "llo\n"
     ]
    }
   ],
   "source": [
    "# Get the characters from position 2 to position 5\n",
    "b = \"Hello, World!\"\n",
    "print(b[2:5])"
   ]
  },
  {
   "cell_type": "markdown",
   "id": "ec1c4ef4-9d9f-40d6-b447-c775e78ef947",
   "metadata": {},
   "source": [
    "### Slice From the Start"
   ]
  },
  {
   "cell_type": "code",
   "execution_count": 186,
   "id": "20144e88-8d66-4cf6-b2ac-a0ca21d0fee6",
   "metadata": {},
   "outputs": [
    {
     "name": "stdout",
     "output_type": "stream",
     "text": [
      "Hello\n"
     ]
    }
   ],
   "source": [
    "# Get the characters from the start to position 5\n",
    "b = \"Hello, World!\"\n",
    "print(b[:5])"
   ]
  },
  {
   "cell_type": "markdown",
   "id": "b9657997-d578-4e46-9e13-bd14b7128b08",
   "metadata": {},
   "source": [
    "### Slice To the End"
   ]
  },
  {
   "cell_type": "code",
   "execution_count": 188,
   "id": "438388f0-99d7-4d20-b30f-9cb1d2a90038",
   "metadata": {},
   "outputs": [
    {
     "name": "stdout",
     "output_type": "stream",
     "text": [
      "llo, World!\n"
     ]
    }
   ],
   "source": [
    "# Get the characters from position 2, and all the way to the end:\n",
    "b = \"Hello, World!\"\n",
    "print(b[2:])"
   ]
  },
  {
   "cell_type": "markdown",
   "id": "e2cb9d17-f61d-47c3-85ac-f9d8dfd15a81",
   "metadata": {},
   "source": [
    "### Negative Indexing"
   ]
  },
  {
   "cell_type": "code",
   "execution_count": 191,
   "id": "28aeaa18-c6f8-491b-8a81-d815c11ad03d",
   "metadata": {},
   "outputs": [
    {
     "name": "stdout",
     "output_type": "stream",
     "text": [
      "orl\n"
     ]
    }
   ],
   "source": [
    "#Get the characters:\n",
    "#From: \"o\" in \"World!\" (position -5)\n",
    "#To, but not included: \"d\" in \"World!\" (position -2):\n",
    "\n",
    "b = \"Hello, World!\"\n",
    "print(b[-5:-2])"
   ]
  },
  {
   "cell_type": "markdown",
   "id": "45e51d35-5d52-4c33-828d-b0fca3e173a3",
   "metadata": {},
   "source": [
    "## Modify Strings"
   ]
  },
  {
   "cell_type": "markdown",
   "id": "0c153f0a-ef8d-4cd9-89c5-b1869cafa53f",
   "metadata": {},
   "source": [
    "### Upper Case"
   ]
  },
  {
   "cell_type": "code",
   "execution_count": 195,
   "id": "4d31e290-6bdd-45ea-9ba1-cba4e6ae1018",
   "metadata": {},
   "outputs": [
    {
     "name": "stdout",
     "output_type": "stream",
     "text": [
      "HELLO, WORLD!\n"
     ]
    }
   ],
   "source": [
    "# The upper() method returns the string in upper case:\n",
    "a = \"Hello, World!\"\n",
    "print(a.upper())"
   ]
  },
  {
   "cell_type": "markdown",
   "id": "697a60ea-a0d1-4b74-b9f5-ca58b5fdfc20",
   "metadata": {},
   "source": [
    "### Lower Case"
   ]
  },
  {
   "cell_type": "code",
   "execution_count": 199,
   "id": "c18db20d-b2fe-4410-b190-e7b4dceeb9a5",
   "metadata": {},
   "outputs": [
    {
     "name": "stdout",
     "output_type": "stream",
     "text": [
      "hello, world!\n"
     ]
    }
   ],
   "source": [
    "# The lower() method returns the string in lower case:\n",
    "a = \"Hello, World!\"\n",
    "print(a.lower())"
   ]
  },
  {
   "cell_type": "markdown",
   "id": "3fc66563-8543-482c-aa48-cdc3ecc2ad51",
   "metadata": {},
   "source": [
    "### Remove Whitespace"
   ]
  },
  {
   "cell_type": "code",
   "execution_count": 202,
   "id": "882a8ad7-5201-48a1-bbcd-ad8c42624d63",
   "metadata": {},
   "outputs": [
    {
     "name": "stdout",
     "output_type": "stream",
     "text": [
      "Hello, World!\n"
     ]
    }
   ],
   "source": [
    "# The strip() method removes any whitespace from the beginning or the end:\n",
    "a = \" Hello, World! \"\n",
    "print(a.strip()) # returns \"Hello, World!\""
   ]
  },
  {
   "cell_type": "markdown",
   "id": "9aca9023-6e44-4409-ace0-2a0177c54fca",
   "metadata": {},
   "source": [
    "### Replace String"
   ]
  },
  {
   "cell_type": "code",
   "execution_count": 205,
   "id": "5ddd3fc7-0cd9-427d-81d9-8dc0ca6b9763",
   "metadata": {},
   "outputs": [
    {
     "name": "stdout",
     "output_type": "stream",
     "text": [
      "Jello, World!\n"
     ]
    }
   ],
   "source": [
    "# The replace() method replaces a string with another string:\n",
    "a = \"Hello, World!\"\n",
    "print(a.replace(\"H\", \"J\"))"
   ]
  },
  {
   "cell_type": "markdown",
   "id": "c5be8615-da88-4c0f-9c6d-121805cf9f7b",
   "metadata": {},
   "source": [
    "### Split String"
   ]
  },
  {
   "cell_type": "code",
   "execution_count": 208,
   "id": "e3f9b771-78ca-44aa-bfad-564b3e445b4e",
   "metadata": {},
   "outputs": [
    {
     "name": "stdout",
     "output_type": "stream",
     "text": [
      "['Hello', ' World!']\n"
     ]
    }
   ],
   "source": [
    "#The split() method splits the string into substrings\n",
    "#if it finds instances of the separator:\n",
    "a = \"Hello, World!\"\n",
    "print(a.split(\",\")) # returns ['Hello', ' World!']"
   ]
  },
  {
   "cell_type": "markdown",
   "id": "fe18ace1-28d9-4102-80ae-4d4724ba25c1",
   "metadata": {},
   "source": [
    "## String Concatenation"
   ]
  },
  {
   "cell_type": "code",
   "execution_count": 211,
   "id": "ab60812b-f8d5-4f0a-beab-77c93ecfa12a",
   "metadata": {},
   "outputs": [
    {
     "name": "stdout",
     "output_type": "stream",
     "text": [
      "HelloWorld\n"
     ]
    }
   ],
   "source": [
    "# Merge variable a with variable b into variable c:\n",
    "a = \"Hello\"\n",
    "b = \"World\"\n",
    "c = a + b\n",
    "print(c)"
   ]
  },
  {
   "cell_type": "code",
   "execution_count": 213,
   "id": "d47d6b41-f29c-4f70-ac1f-0cff2d81e1de",
   "metadata": {},
   "outputs": [
    {
     "name": "stdout",
     "output_type": "stream",
     "text": [
      "Hello World\n"
     ]
    }
   ],
   "source": [
    "a = \"Hello\"\n",
    "b = \"World\"\n",
    "c = a + \" \" + b\n",
    "print(c)"
   ]
  },
  {
   "cell_type": "markdown",
   "id": "f56074b2-20e4-48da-aa57-df4e79980737",
   "metadata": {},
   "source": [
    "## Format - Strings"
   ]
  },
  {
   "cell_type": "code",
   "execution_count": 218,
   "id": "8c8616dd-ddf6-4a1d-85ef-5c2bf57f656d",
   "metadata": {},
   "outputs": [
    {
     "ename": "TypeError",
     "evalue": "can only concatenate str (not \"int\") to str",
     "output_type": "error",
     "traceback": [
      "\u001b[1;31m---------------------------------------------------------------------------\u001b[0m",
      "\u001b[1;31mTypeError\u001b[0m                                 Traceback (most recent call last)",
      "Cell \u001b[1;32mIn[218], line 3\u001b[0m\n\u001b[0;32m      1\u001b[0m age \u001b[38;5;241m=\u001b[39m \u001b[38;5;241m36\u001b[39m\n\u001b[0;32m      2\u001b[0m \u001b[38;5;66;03m#This will produce an error as we cannot combine strings and numbers like this:\u001b[39;00m\n\u001b[1;32m----> 3\u001b[0m txt \u001b[38;5;241m=\u001b[39m \u001b[38;5;124m\"\u001b[39m\u001b[38;5;124mMy name is John, I am \u001b[39m\u001b[38;5;124m\"\u001b[39m \u001b[38;5;241m+\u001b[39m age\n\u001b[0;32m      4\u001b[0m \u001b[38;5;28mprint\u001b[39m(txt)\n",
      "\u001b[1;31mTypeError\u001b[0m: can only concatenate str (not \"int\") to str"
     ]
    }
   ],
   "source": [
    "age = 36\n",
    "#This will produce an error as we cannot combine strings and numbers like this:\n",
    "txt = \"My name is John, I am \" + age\n",
    "print(txt)"
   ]
  },
  {
   "cell_type": "markdown",
   "id": "f1b0b247-c6cb-45ac-899e-11478365e120",
   "metadata": {},
   "source": [
    "### F-Strings"
   ]
  },
  {
   "cell_type": "code",
   "execution_count": 221,
   "id": "1b65bee3-d950-4659-898c-9935d6cb7d0a",
   "metadata": {},
   "outputs": [
    {
     "name": "stdout",
     "output_type": "stream",
     "text": [
      "My name is John, I am 36\n"
     ]
    }
   ],
   "source": [
    "#Create an f-string:\n",
    "age = 36\n",
    "txt = f\"My name is John, I am {age}\"\n",
    "print(txt)"
   ]
  },
  {
   "cell_type": "markdown",
   "id": "60ffb0af-29da-45e0-8da2-b37262b7e10e",
   "metadata": {},
   "source": [
    "### Placeholders and Modifiers"
   ]
  },
  {
   "cell_type": "code",
   "execution_count": 224,
   "id": "2d0544ad-6b16-4422-97ad-3c5f0e3ad948",
   "metadata": {},
   "outputs": [
    {
     "name": "stdout",
     "output_type": "stream",
     "text": [
      "The price is 59 dollars\n"
     ]
    }
   ],
   "source": [
    "# Add a placeholder for the price variable:\n",
    "price = 59\n",
    "txt = f\"The price is {price} dollars\"\n",
    "print(txt)"
   ]
  },
  {
   "cell_type": "code",
   "execution_count": null,
   "id": "bb085978-56bf-4434-931b-0cc5ee0d8031",
   "metadata": {},
   "outputs": [],
   "source": [
    "# Display the price with 2 decimals:\n",
    "price = 59\n",
    "txt = f\"The price is {price:.2f} dollars\"\n",
    "print(txt)"
   ]
  },
  {
   "cell_type": "code",
   "execution_count": 226,
   "id": "0fba6df6-f162-4f25-a373-84dee73a42f9",
   "metadata": {},
   "outputs": [
    {
     "name": "stdout",
     "output_type": "stream",
     "text": [
      "The price is 1180 dollars\n"
     ]
    }
   ],
   "source": [
    "txt = f\"The price is {20 * 59} dollars\"\n",
    "print(txt)"
   ]
  },
  {
   "cell_type": "markdown",
   "id": "5d58781b-6df6-483b-bbf6-5ec9147e0ca9",
   "metadata": {},
   "source": [
    "## Escape Character"
   ]
  },
  {
   "cell_type": "code",
   "execution_count": 231,
   "id": "b4b9be14-f5ed-4dff-8ff8-8f9d81a9073e",
   "metadata": {},
   "outputs": [
    {
     "name": "stdout",
     "output_type": "stream",
     "text": [
      "We are the so-called \"Vikings\" from the north.\n"
     ]
    }
   ],
   "source": [
    "txt = \"We are the so-called \\\"Vikings\\\" from the north.\"\n",
    "print(txt)"
   ]
  },
  {
   "cell_type": "markdown",
   "id": "398cda72-50f5-4c9c-891b-89d7b2ec5f4b",
   "metadata": {},
   "source": [
    "# Python Booleans"
   ]
  },
  {
   "cell_type": "markdown",
   "id": "9fee8bef-779f-4a4b-a3bc-114bb59ff871",
   "metadata": {},
   "source": [
    "### Boolean Values"
   ]
  },
  {
   "cell_type": "code",
   "execution_count": 235,
   "id": "0e774dd8-9154-4c8c-831b-1a59878fd5dc",
   "metadata": {},
   "outputs": [
    {
     "name": "stdout",
     "output_type": "stream",
     "text": [
      "True\n",
      "False\n",
      "False\n"
     ]
    }
   ],
   "source": [
    "print(10 > 9)\n",
    "print(10 == 9)\n",
    "print(10 < 9)"
   ]
  },
  {
   "cell_type": "code",
   "execution_count": 237,
   "id": "3ee3bcbd-5a82-48e6-a594-464b69d4e16d",
   "metadata": {},
   "outputs": [
    {
     "name": "stdout",
     "output_type": "stream",
     "text": [
      "b is not greater than a\n"
     ]
    }
   ],
   "source": [
    "a = 200\n",
    "b = 33\n",
    "\n",
    "if b > a:\n",
    "  print(\"b is greater than a\")\n",
    "else:\n",
    "  print(\"b is not greater than a\")"
   ]
  },
  {
   "cell_type": "code",
   "execution_count": 239,
   "id": "6e05c2ac-d305-4b12-bb55-8d3de85e784a",
   "metadata": {},
   "outputs": [
    {
     "name": "stdout",
     "output_type": "stream",
     "text": [
      "True\n",
      "True\n"
     ]
    }
   ],
   "source": [
    "# Evaluate a string and a number:\n",
    "print(bool(\"Hello\"))\n",
    "print(bool(15))"
   ]
  },
  {
   "cell_type": "code",
   "execution_count": 241,
   "id": "37253790-6182-42b4-afa0-7c6d7d569e95",
   "metadata": {},
   "outputs": [
    {
     "name": "stdout",
     "output_type": "stream",
     "text": [
      "True\n",
      "True\n"
     ]
    }
   ],
   "source": [
    "x = \"Hello\"\n",
    "y = 15\n",
    "\n",
    "print(bool(x))\n",
    "print(bool(y))"
   ]
  },
  {
   "cell_type": "markdown",
   "id": "8f7d76b5-eae2-4b90-9d30-a1ae7f534688",
   "metadata": {},
   "source": [
    "### Most Values are True"
   ]
  },
  {
   "cell_type": "code",
   "execution_count": 244,
   "id": "40352fa3-fde5-4fbc-9eac-b5f668c3303f",
   "metadata": {},
   "outputs": [
    {
     "data": {
      "text/plain": [
       "True"
      ]
     },
     "execution_count": 244,
     "metadata": {},
     "output_type": "execute_result"
    }
   ],
   "source": [
    "bool(\"abc\")\n",
    "bool(123)\n",
    "bool([\"apple\", \"cherry\", \"banana\"])"
   ]
  },
  {
   "cell_type": "markdown",
   "id": "bd2348e4-fa8b-45d3-80ab-20e6d82735ff",
   "metadata": {},
   "source": [
    "### Some Values are False"
   ]
  },
  {
   "cell_type": "code",
   "execution_count": 247,
   "id": "29d2849b-8a73-4c76-a051-223444f3a7c5",
   "metadata": {},
   "outputs": [
    {
     "data": {
      "text/plain": [
       "False"
      ]
     },
     "execution_count": 247,
     "metadata": {},
     "output_type": "execute_result"
    }
   ],
   "source": [
    "bool(False)\n",
    "bool(None)\n",
    "bool(0)\n",
    "bool(\"\")\n",
    "bool(())\n",
    "bool([])\n",
    "bool({})"
   ]
  },
  {
   "cell_type": "code",
   "execution_count": 249,
   "id": "2b88ec78-a3c1-4915-a05c-ab7bf8f67f49",
   "metadata": {},
   "outputs": [
    {
     "data": {
      "text/plain": [
       "False"
      ]
     },
     "execution_count": 249,
     "metadata": {},
     "output_type": "execute_result"
    }
   ],
   "source": [
    "bool(None)"
   ]
  },
  {
   "cell_type": "code",
   "execution_count": 253,
   "id": "a2fe0726-8fdd-413b-9f50-4baa9144cf38",
   "metadata": {},
   "outputs": [
    {
     "name": "stdout",
     "output_type": "stream",
     "text": [
      "True\n"
     ]
    }
   ],
   "source": [
    "def myFunction() :\n",
    "  return True\n",
    "\n",
    "print(myFunction())"
   ]
  },
  {
   "cell_type": "code",
   "execution_count": 255,
   "id": "10d17440-1b37-4004-ab44-7a8932b4f3ac",
   "metadata": {},
   "outputs": [
    {
     "name": "stdout",
     "output_type": "stream",
     "text": [
      "YES!\n"
     ]
    }
   ],
   "source": [
    "def myFunction() :\n",
    "  return True\n",
    "\n",
    "if myFunction():\n",
    "  print(\"YES!\")\n",
    "else:\n",
    "  print(\"NO!\")"
   ]
  },
  {
   "cell_type": "code",
   "execution_count": 257,
   "id": "be18d1c8-7b60-4ac2-ba4d-5f625409493c",
   "metadata": {},
   "outputs": [
    {
     "name": "stdout",
     "output_type": "stream",
     "text": [
      "True\n"
     ]
    }
   ],
   "source": [
    "# Check if an object is an integer or not:\n",
    "x = 200\n",
    "print(isinstance(x, int))"
   ]
  },
  {
   "cell_type": "markdown",
   "id": "a62b9c3f-9df0-45ac-ac17-dcbf03c88107",
   "metadata": {},
   "source": [
    "# Operators"
   ]
  },
  {
   "cell_type": "code",
   "execution_count": 261,
   "id": "29214a83-d098-47ce-9b8e-312b0f8dc2b5",
   "metadata": {},
   "outputs": [
    {
     "name": "stdout",
     "output_type": "stream",
     "text": [
      "15\n"
     ]
    }
   ],
   "source": [
    "print(10 + 5)"
   ]
  },
  {
   "cell_type": "markdown",
   "id": "2b0783d9-10b7-422e-b3ff-571d89cc5917",
   "metadata": {},
   "source": [
    "### Arithmetic Operators"
   ]
  },
  {
   "cell_type": "code",
   "execution_count": 3,
   "id": "86fd5e07-6446-4947-bc33-757ad71c97e5",
   "metadata": {},
   "outputs": [
    {
     "name": "stdout",
     "output_type": "stream",
     "text": [
      "15\n",
      "-5\n",
      "50\n",
      "2.0\n",
      "0\n",
      "9765625\n",
      "2\n"
     ]
    }
   ],
   "source": [
    "a = 5\n",
    "b = 10\n",
    "\n",
    "print(a + b)    # Addition\n",
    "print(a - b)    # Subtraction\n",
    "print(a * b)    # Multiplication\n",
    "print(b / a)    # Division\n",
    "print(b % a)    # Modulus\n",
    "print(a ** b)   # Exponentiation\n",
    "print(b // a)   # Floor Division "
   ]
  },
  {
   "cell_type": "markdown",
   "id": "428bc693-4a78-43e2-8715-f1bb79f71581",
   "metadata": {},
   "source": [
    "### Comparison Operators"
   ]
  },
  {
   "cell_type": "code",
   "execution_count": 9,
   "id": "9ef7e934-085a-4c68-a772-dc87dc733c18",
   "metadata": {},
   "outputs": [
    {
     "name": "stdout",
     "output_type": "stream",
     "text": [
      "False\n",
      "True\n",
      "False\n",
      "True\n",
      "False\n",
      "True\n"
     ]
    }
   ],
   "source": [
    "a = 5\n",
    "b = 10\n",
    "\n",
    "print(a == b)   # Equals\n",
    "print(a != b)   # Not equal\n",
    "print(a > b)    # Greater than\n",
    "print(a < b)    # Less than\n",
    "print(a >= b)   # Greater than or equal to\n",
    "print(a <= b)   # Less than or equal to"
   ]
  },
  {
   "cell_type": "markdown",
   "id": "c53a789e-a991-4a0b-9a35-8c61ac8c3844",
   "metadata": {},
   "source": [
    "### Logical Operators"
   ]
  },
  {
   "cell_type": "code",
   "execution_count": 14,
   "id": "e82bd169-258e-4c9a-be52-e8df2cfa6c10",
   "metadata": {},
   "outputs": [
    {
     "name": "stdout",
     "output_type": "stream",
     "text": [
      "False\n",
      "False\n",
      "True\n"
     ]
    }
   ],
   "source": [
    "x = 5 \n",
    "y = 10\n",
    "print(x < 5 and  x < 10)     # Returns True if both statements are true\n",
    "print(x < 5 or x < 4)        # Returns True if one of the statements is true\n",
    "print(not(x < 5 and x < 10)) # Reverse the result, returns False if the result is true"
   ]
  },
  {
   "cell_type": "markdown",
   "id": "4018f3da-4311-49f2-95f7-934f92d6f95b",
   "metadata": {},
   "source": [
    "### Identity Operators"
   ]
  },
  {
   "cell_type": "code",
   "execution_count": 17,
   "id": "24056a9c-c4be-4002-9115-603ecbe0b0fa",
   "metadata": {},
   "outputs": [
    {
     "name": "stdout",
     "output_type": "stream",
     "text": [
      "False\n",
      "True\n"
     ]
    }
   ],
   "source": [
    "x = 5 \n",
    "y = 10\n",
    "\n",
    "print(x is y)      # Returns True if both variables are the same object\n",
    "print(x is not y)  # Returns True if both variables are not the same object"
   ]
  },
  {
   "cell_type": "markdown",
   "id": "68af7e66-f4d6-4934-b255-727828e6e129",
   "metadata": {},
   "source": [
    "### Membership Operators"
   ]
  },
  {
   "cell_type": "code",
   "execution_count": 11,
   "id": "898679e1-aa42-4bf8-a5ce-8876d2522b7d",
   "metadata": {},
   "outputs": [
    {
     "name": "stdout",
     "output_type": "stream",
     "text": [
      "True\n",
      "True\n"
     ]
    }
   ],
   "source": [
    "x = \"hello python programmers\"\n",
    "y = \"hello python\"\n",
    "print(\"hello\" in y)        # Returns True if a sequence with the specified value is present in the object\n",
    "print(\"programmers\" not in y)  # Returns True if a sequence with the specified value is not present in the object\t"
   ]
  },
  {
   "cell_type": "markdown",
   "id": "c7a27f1c-4584-45f7-afbf-994efa4f1e86",
   "metadata": {},
   "source": [
    "### Bitwise Operators"
   ]
  },
  {
   "cell_type": "code",
   "execution_count": 14,
   "id": "f528243c-c401-4cce-b119-eefb2342b945",
   "metadata": {},
   "outputs": [
    {
     "name": "stdout",
     "output_type": "stream",
     "text": [
      "{3, 4}\n"
     ]
    }
   ],
   "source": [
    "A = {1,2,3,4}\n",
    "B = {3,4,5,6}\n",
    "\n",
    "# Elements common to both sets.(INTERSECTION)\n",
    "print(A & B)"
   ]
  },
  {
   "cell_type": "code",
   "execution_count": 16,
   "id": "a85ba391-d843-42bc-bfcb-537dda32d8fc",
   "metadata": {},
   "outputs": [
    {
     "name": "stdout",
     "output_type": "stream",
     "text": [
      "{1, 2, 3, 4, 5, 6}\n"
     ]
    }
   ],
   "source": [
    "# All unique elements from both sets.(UNION)\n",
    "print(A|B)"
   ]
  },
  {
   "cell_type": "code",
   "execution_count": 18,
   "id": "fccb28a5-8741-4197-bc03-b0953fb2bf93",
   "metadata": {},
   "outputs": [
    {
     "name": "stdout",
     "output_type": "stream",
     "text": [
      "{1, 2, 5, 6}\n"
     ]
    }
   ],
   "source": [
    "# Elements that are in either A or B but not in both.(SYMMETRIC DIFFERENCE)\n",
    "print(A^B)"
   ]
  },
  {
   "cell_type": "code",
   "execution_count": null,
   "id": "0e1da940-8c4c-45fb-9df0-fa83ad45fb82",
   "metadata": {},
   "outputs": [],
   "source": []
  }
 ],
 "metadata": {
  "kernelspec": {
   "display_name": "Python [conda env:base] *",
   "language": "python",
   "name": "conda-base-py"
  },
  "language_info": {
   "codemirror_mode": {
    "name": "ipython",
    "version": 3
   },
   "file_extension": ".py",
   "mimetype": "text/x-python",
   "name": "python",
   "nbconvert_exporter": "python",
   "pygments_lexer": "ipython3",
   "version": "3.12.7"
  }
 },
 "nbformat": 4,
 "nbformat_minor": 5
}
