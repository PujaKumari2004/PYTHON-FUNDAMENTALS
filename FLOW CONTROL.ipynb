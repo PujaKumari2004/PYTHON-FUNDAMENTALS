{
 "cells": [
  {
   "cell_type": "code",
   "execution_count": 1,
   "id": "345ad563-d100-4468-8f81-a6096ed69104",
   "metadata": {},
   "outputs": [
    {
     "name": "stdout",
     "output_type": "stream",
     "text": [
      "0\n",
      "1\n",
      "2\n",
      "3\n",
      "4\n",
      "5\n",
      "6\n",
      "2143\n",
      "123\n",
      "7834\n",
      "This line is not inside the loop\n",
      "The loop cycled 10 times\n"
     ]
    }
   ],
   "source": [
    "#There are a few ways to go\n",
    "#This is also true for conditionals and user defined functions!!!\n",
    "\n",
    "counter = 0\n",
    "simple_list = [0,1,2,3,4,5,6,2143,123,7834]\n",
    "for i in simple_list:\n",
    "    #the only liners that get executed in this loop are tabbed correctly!!!\n",
    "    print(i)\n",
    "    counter += 1\n",
    "print(\"This line is not inside the loop\")\n",
    "print(\"The loop cycled\",counter, \"times\")"
   ]
  },
  {
   "cell_type": "code",
   "execution_count": 5,
   "id": "78a4d1ee-b7a6-463d-9903-6823f415a403",
   "metadata": {},
   "outputs": [
    {
     "name": "stdout",
     "output_type": "stream",
     "text": [
      "range(0, 6)\n"
     ]
    }
   ],
   "source": [
    "#We may just want to loop over a range of values\n",
    "#We can do this with a \"range\" type\n",
    "print(range(6))"
   ]
  },
  {
   "cell_type": "code",
   "execution_count": 7,
   "id": "05f35b96-2e2b-443e-a46f-849a48a546d2",
   "metadata": {},
   "outputs": [
    {
     "name": "stdout",
     "output_type": "stream",
     "text": [
      "0\n",
      "1\n",
      "2\n",
      "3\n",
      "4\n",
      "5\n"
     ]
    }
   ],
   "source": [
    "for i in range(6):\n",
    "    print(i)"
   ]
  },
  {
   "cell_type": "code",
   "execution_count": 9,
   "id": "deef21b9-5182-4140-89f5-bcee8374cf1d",
   "metadata": {},
   "outputs": [
    {
     "name": "stdout",
     "output_type": "stream",
     "text": [
      "4\n",
      "5\n",
      "6\n",
      "7\n",
      "8\n",
      "9\n"
     ]
    }
   ],
   "source": [
    "#we can specify the starting point of a range also\n",
    "#Rememver that the left value is inclusive and the right value is exclusive\n",
    "for i in range(4,10):\n",
    "    print(i)"
   ]
  },
  {
   "cell_type": "code",
   "execution_count": 3,
   "id": "8f6c8e51-85e0-4e9c-89c6-82248ba6dc9b",
   "metadata": {},
   "outputs": [
    {
     "name": "stdout",
     "output_type": "stream",
     "text": [
      "2\n",
      "5\n",
      "8\n"
     ]
    }
   ],
   "source": [
    "#we can also by a specific amount\n",
    "for i in range(2,10,3):\n",
    "    print(i)"
   ]
  },
  {
   "cell_type": "code",
   "execution_count": 11,
   "id": "dcb8d89d-9ff5-4de8-b6c1-c88a115c3658",
   "metadata": {},
   "outputs": [
    {
     "data": {
      "text/plain": [
       "[6, 9, 12]"
      ]
     },
     "execution_count": 11,
     "metadata": {},
     "output_type": "execute_result"
    }
   ],
   "source": [
    "#We can convert a range type into a list though\n",
    "list(range(6, 15, 3))"
   ]
  },
  {
   "cell_type": "code",
   "execution_count": null,
   "id": "d26ee08c-7033-4945-a9dd-1abc5ac2e171",
   "metadata": {},
   "outputs": [],
   "source": [
    "#While loops are similar"
   ]
  }
 ],
 "metadata": {
  "kernelspec": {
   "display_name": "Python [conda env:base] *",
   "language": "python",
   "name": "conda-base-py"
  },
  "language_info": {
   "codemirror_mode": {
    "name": "ipython",
    "version": 3
   },
   "file_extension": ".py",
   "mimetype": "text/x-python",
   "name": "python",
   "nbconvert_exporter": "python",
   "pygments_lexer": "ipython3",
   "version": "3.12.7"
  }
 },
 "nbformat": 4,
 "nbformat_minor": 5
}
