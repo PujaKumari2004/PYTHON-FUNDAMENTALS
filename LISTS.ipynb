{
 "cells": [
  {
   "cell_type": "markdown",
   "id": "a1459c2b-e85f-4865-a6bd-ea21dd6ab470",
   "metadata": {},
   "source": [
    "# Python List"
   ]
  },
  {
   "cell_type": "markdown",
   "id": "027f35f1-6d76-4195-b796-8ce69bd733da",
   "metadata": {},
   "source": [
    "#### Lists are used to store multiple items in a single variable.\n",
    "#### Lists are one of 4 built-in data types in Python used to store collections of data,\n",
    "#### the other 3 are Tuple, Set, and Dictionary, all with different qualities and usage."
   ]
  },
  {
   "cell_type": "markdown",
   "id": "9fbe818a-9700-4c35-b507-1795ab803e24",
   "metadata": {},
   "source": [
    "### Create a List:"
   ]
  },
  {
   "cell_type": "code",
   "execution_count": 6,
   "id": "27635ce4-530b-4db6-89d3-a27cbe86ba53",
   "metadata": {},
   "outputs": [
    {
     "name": "stdout",
     "output_type": "stream",
     "text": [
      "['apple', 'banana', 'cherry']\n"
     ]
    }
   ],
   "source": [
    "thislist = [\"apple\", \"banana\", \"cherry\"]\n",
    "print(thislist)"
   ]
  },
  {
   "cell_type": "markdown",
   "id": "e3578b6d-0527-4884-a48f-813dd2c0f4a7",
   "metadata": {},
   "source": [
    "#### List items are ordered, changeable, and allow duplicate values."
   ]
  },
  {
   "cell_type": "code",
   "execution_count": 11,
   "id": "cf73bb3f-39de-497d-8694-3b24b6006cd0",
   "metadata": {},
   "outputs": [
    {
     "name": "stdout",
     "output_type": "stream",
     "text": [
      "['apple', 'banana', 'cherry', 'apple', 'cherry']\n"
     ]
    }
   ],
   "source": [
    "thislist = [\"apple\", \"banana\", \"cherry\", \"apple\", \"cherry\"]\n",
    "print(thislist)"
   ]
  },
  {
   "cell_type": "markdown",
   "id": "47439fc1-5e4f-4e2d-9007-0e917706f91a",
   "metadata": {},
   "source": [
    "### List Length"
   ]
  },
  {
   "cell_type": "code",
   "execution_count": 16,
   "id": "9746bd72-8b14-4ade-b50c-897392d216d4",
   "metadata": {},
   "outputs": [
    {
     "name": "stdout",
     "output_type": "stream",
     "text": [
      "3\n"
     ]
    }
   ],
   "source": [
    "thislist = [\"apple\", \"banana\", \"cherry\"]\n",
    "print(len(thislist))"
   ]
  },
  {
   "cell_type": "markdown",
   "id": "1ad559d0-43a1-4af0-86dd-2f7923a0009e",
   "metadata": {},
   "source": [
    "### List Items - Data Types"
   ]
  },
  {
   "cell_type": "code",
   "execution_count": 19,
   "id": "78c2db04-7d72-4cbd-975d-539e6dd42e95",
   "metadata": {},
   "outputs": [
    {
     "name": "stdout",
     "output_type": "stream",
     "text": [
      "['apple', 'banana', 'cherry']\n",
      "[1, 5, 7, 9, 3, True]\n",
      "[True, False, False]\n"
     ]
    }
   ],
   "source": [
    "list1 = [\"apple\", \"banana\", \"cherry\"]\n",
    "list2 = [1, 5, 7, 9, 3, True]\n",
    "list3 = [True, False, False]\n",
    "print(list1)\n",
    "print(list2)\n",
    "print(list3)"
   ]
  },
  {
   "cell_type": "code",
   "execution_count": 21,
   "id": "6be3a8bc-ed04-423a-b732-a136af555439",
   "metadata": {},
   "outputs": [
    {
     "name": "stdout",
     "output_type": "stream",
     "text": [
      "['abc', 34, True, 40, 'male']\n"
     ]
    }
   ],
   "source": [
    "list1 = [\"abc\", 34, True, 40, \"male\"]\n",
    "print(list1)"
   ]
  },
  {
   "cell_type": "markdown",
   "id": "8e13fcd6-cf72-4ba1-9ec0-13955ec1d898",
   "metadata": {},
   "source": [
    "### type()"
   ]
  },
  {
   "cell_type": "code",
   "execution_count": 25,
   "id": "291c7b01-cebe-453d-b0eb-d98f53f65f78",
   "metadata": {},
   "outputs": [
    {
     "name": "stdout",
     "output_type": "stream",
     "text": [
      "<class 'list'>\n"
     ]
    }
   ],
   "source": [
    "mylist = [\"apple\", \"banana\", \"cherry\"]\n",
    "print(type(mylist))"
   ]
  },
  {
   "cell_type": "markdown",
   "id": "459e2a86-8e0a-46f1-97ae-7ec551ae8a60",
   "metadata": {},
   "source": [
    "### The list() Constructor"
   ]
  },
  {
   "cell_type": "code",
   "execution_count": 32,
   "id": "0abe153c-ff28-4156-a8f3-5ebd8f8c2aae",
   "metadata": {},
   "outputs": [
    {
     "name": "stdout",
     "output_type": "stream",
     "text": [
      "['apple', 'banana', 'cherry']\n"
     ]
    }
   ],
   "source": [
    "# It is also possible to use the list() constructor when creating a new list.\n",
    "thislist = list((\"apple\", \"banana\", \"cherry\")) # note the double round-brackets\n",
    "print(thislist)"
   ]
  },
  {
   "cell_type": "markdown",
   "id": "4ae904b9-b915-49ef-b168-2b0762902b28",
   "metadata": {},
   "source": [
    "### Access List Items"
   ]
  },
  {
   "cell_type": "code",
   "execution_count": 35,
   "id": "3dfe7e2f-428f-42c8-adc4-4767a05819e7",
   "metadata": {},
   "outputs": [
    {
     "name": "stdout",
     "output_type": "stream",
     "text": [
      "banana\n"
     ]
    }
   ],
   "source": [
    "# List items are indexed and you can access them by referring to the index number:\n",
    "thislist = [\"apple\", \"banana\", \"cherry\"]\n",
    "print(thislist[1])"
   ]
  },
  {
   "cell_type": "markdown",
   "id": "45987219-4ba3-4391-a340-884d7c84bf4e",
   "metadata": {},
   "source": [
    "### Negative Indexing"
   ]
  },
  {
   "cell_type": "code",
   "execution_count": 38,
   "id": "4677fb53-191a-45ee-8944-7667c42d099b",
   "metadata": {},
   "outputs": [
    {
     "name": "stdout",
     "output_type": "stream",
     "text": [
      "cherry\n"
     ]
    }
   ],
   "source": [
    "thislist = [\"apple\", \"banana\", \"cherry\"]\n",
    "print(thislist[-1])"
   ]
  },
  {
   "cell_type": "markdown",
   "id": "44f36c41-7cba-4555-805c-a18292f28542",
   "metadata": {},
   "source": [
    "### Range of Indexes"
   ]
  },
  {
   "cell_type": "code",
   "execution_count": 41,
   "id": "c5636245-a795-4a1a-bcbb-cd35b9f5583f",
   "metadata": {},
   "outputs": [
    {
     "name": "stdout",
     "output_type": "stream",
     "text": [
      "['cherry', 'orange', 'kiwi']\n"
     ]
    }
   ],
   "source": [
    "thislist = [\"apple\", \"banana\", \"cherry\", \"orange\", \"kiwi\", \"melon\", \"mango\"]\n",
    "print(thislist[2:5])"
   ]
  },
  {
   "cell_type": "code",
   "execution_count": 43,
   "id": "777cac0a-7b51-457b-bf3f-8239d0fa025b",
   "metadata": {},
   "outputs": [
    {
     "name": "stdout",
     "output_type": "stream",
     "text": [
      "['apple', 'banana', 'cherry', 'orange']\n"
     ]
    }
   ],
   "source": [
    "# This example returns the items from the beginning to, but NOT including, \"kiwi\"\n",
    "thislist = [\"apple\", \"banana\", \"cherry\", \"orange\", \"kiwi\", \"melon\", \"mango\"]\n",
    "print(thislist[:4])"
   ]
  },
  {
   "cell_type": "code",
   "execution_count": 45,
   "id": "7bf076be-958e-4a1f-81f7-2337ff0381f5",
   "metadata": {},
   "outputs": [
    {
     "name": "stdout",
     "output_type": "stream",
     "text": [
      "['cherry', 'orange', 'kiwi', 'melon', 'mango']\n"
     ]
    }
   ],
   "source": [
    "# This example returns the items from \"cherry\" to the end:\n",
    "thislist = [\"apple\", \"banana\", \"cherry\", \"orange\", \"kiwi\", \"melon\", \"mango\"]\n",
    "print(thislist[2:])"
   ]
  },
  {
   "cell_type": "markdown",
   "id": "ff51342a-8faa-4fbd-ba73-39a4b7c2a18c",
   "metadata": {},
   "source": [
    "### Ranges of Negative Indexes"
   ]
  },
  {
   "cell_type": "code",
   "execution_count": 50,
   "id": "ec5bae3d-13b1-441c-ad20-77c46a6097b0",
   "metadata": {},
   "outputs": [
    {
     "name": "stdout",
     "output_type": "stream",
     "text": [
      "['orange', 'kiwi', 'melon']\n"
     ]
    }
   ],
   "source": [
    "# This example returns the items from \"orange\" (-4) to, but NOT including \"mango\" (-1):\n",
    "thislist = [\"apple\", \"banana\", \"cherry\", \"orange\", \"kiwi\", \"melon\", \"mango\"]\n",
    "print(thislist[-4:-1])"
   ]
  },
  {
   "cell_type": "markdown",
   "id": "22609047-00d3-4238-8880-e3b5b66906eb",
   "metadata": {},
   "source": [
    "### Check if Item Exists"
   ]
  },
  {
   "cell_type": "code",
   "execution_count": 53,
   "id": "98a77205-6325-4ed4-a022-22166352f567",
   "metadata": {},
   "outputs": [
    {
     "name": "stdout",
     "output_type": "stream",
     "text": [
      "Yes, 'apple' is in the fruits list\n"
     ]
    }
   ],
   "source": [
    "thislist = [\"apple\", \"banana\", \"cherry\"]\n",
    "if \"apple\" in thislist:\n",
    "    print(\"Yes, 'apple' is in the fruits list\")"
   ]
  },
  {
   "cell_type": "markdown",
   "id": "e418430e-9107-4a9c-86f0-8898fd463994",
   "metadata": {},
   "source": [
    "## Change List Items"
   ]
  },
  {
   "cell_type": "markdown",
   "id": "dcf042f2-719c-4fda-b0a3-17b6210e1d58",
   "metadata": {},
   "source": [
    "### Change Item Value"
   ]
  },
  {
   "cell_type": "code",
   "execution_count": 57,
   "id": "e3ecdbdc-da8f-4f3d-9d39-60904e062acf",
   "metadata": {},
   "outputs": [
    {
     "name": "stdout",
     "output_type": "stream",
     "text": [
      "['apple', 'blackcurrant', 'cherry']\n"
     ]
    }
   ],
   "source": [
    "# Change the second item:\n",
    "thislist = [\"apple\", \"banana\", \"cherry\"]\n",
    "thislist[1] = \"blackcurrant\"\n",
    "print(thislist)"
   ]
  },
  {
   "cell_type": "markdown",
   "id": "13857aa4-20fa-47fb-9ca3-0accca96ba14",
   "metadata": {},
   "source": [
    "### Change a Range of Item Values"
   ]
  },
  {
   "cell_type": "code",
   "execution_count": 62,
   "id": "09c4ac4a-1cdc-4e6b-8025-a330828073ea",
   "metadata": {},
   "outputs": [
    {
     "name": "stdout",
     "output_type": "stream",
     "text": [
      "['apple', 'blackcurrant', 'watermelon', 'orange', 'kiwi', 'mango']\n"
     ]
    }
   ],
   "source": [
    "# Change the values \"banana\" and \"cherry\" with the values \"blackcurrant\" and \"watermelon\":\n",
    "thislist = [\"apple\", \"banana\", \"cherry\", \"orange\", \"kiwi\", \"mango\"]\n",
    "thislist[1:3] = [\"blackcurrant\", \"watermelon\"]\n",
    "print(thislist)"
   ]
  },
  {
   "cell_type": "code",
   "execution_count": 68,
   "id": "3f369f75-7cf8-41e1-89d0-061638aaf986",
   "metadata": {},
   "outputs": [
    {
     "name": "stdout",
     "output_type": "stream",
     "text": [
      "['apple', 'blackcurrant', 'watermelon', 'cherry']\n",
      "cherry\n"
     ]
    }
   ],
   "source": [
    "# Change the second value by replacing it with two new values:\n",
    "thislist = [\"apple\", \"banana\", \"cherry\"]\n",
    "thislist[1:2] = [\"blackcurrant\", \"watermelon\"]\n",
    "print(thislist)\n",
    "print(thislist[3])"
   ]
  },
  {
   "cell_type": "code",
   "execution_count": 71,
   "id": "1be1bb0f-867f-4a73-ae0d-9f302762b982",
   "metadata": {},
   "outputs": [
    {
     "name": "stdout",
     "output_type": "stream",
     "text": [
      "['apple', 'watermelon']\n"
     ]
    }
   ],
   "source": [
    "# Change the second and third value by replacing it with one value:\n",
    "thislist = [\"apple\", \"banana\", \"cherry\"]\n",
    "thislist[1:3] = [\"watermelon\"]\n",
    "print(thislist)"
   ]
  },
  {
   "cell_type": "markdown",
   "id": "b5b76542-7ce4-402f-b1b2-e8ae15c9b996",
   "metadata": {},
   "source": [
    "### Insert Items"
   ]
  },
  {
   "cell_type": "markdown",
   "id": "81eb6dc5-3b49-4b0f-8d79-bc503bc0f704",
   "metadata": {},
   "source": [
    "#### The insert() method inserts an item at the specified index\n",
    "#### To insert a new list item, without replacing any of the existing values, we can use the insert() method."
   ]
  },
  {
   "cell_type": "code",
   "execution_count": 81,
   "id": "03a5b17b-9583-41ce-b3a7-c626267b219e",
   "metadata": {},
   "outputs": [
    {
     "name": "stdout",
     "output_type": "stream",
     "text": [
      "['apple', 'banana', 'watermelon', 'cherry']\n"
     ]
    }
   ],
   "source": [
    "# Insert \"watermelon\" as the third item:\n",
    "thislist = [\"apple\", \"banana\", \"cherry\"]\n",
    "thislist.insert(2, \"watermelon\")\n",
    "print(thislist)"
   ]
  },
  {
   "cell_type": "markdown",
   "id": "e88200b3-7d08-47c0-beda-47c62a2589ce",
   "metadata": {},
   "source": [
    "## Add List Items"
   ]
  },
  {
   "cell_type": "markdown",
   "id": "387ffa37-54cd-450a-a825-c8926e5c9fbe",
   "metadata": {},
   "source": [
    "### Append Items\n",
    "#### To add an item to the end of the list, use the append() method:"
   ]
  },
  {
   "cell_type": "code",
   "execution_count": 89,
   "id": "31ddde68-240f-4ec0-8c8e-bbde140dfeb2",
   "metadata": {},
   "outputs": [
    {
     "name": "stdout",
     "output_type": "stream",
     "text": [
      "['apple', 'banana', 'cherry', 'orange']\n"
     ]
    }
   ],
   "source": [
    "thislist = [\"apple\", \"banana\", \"cherry\"]\n",
    "thislist.append(\"orange\")\n",
    "print(thislist)"
   ]
  },
  {
   "cell_type": "markdown",
   "id": "a5bf375f-2224-4912-9c68-dd0f8eb93c26",
   "metadata": {},
   "source": [
    "### Insert Items\n",
    "#### The insert() method inserts an item at the specified index"
   ]
  },
  {
   "cell_type": "code",
   "execution_count": 93,
   "id": "1c7b4d05-c615-44ac-ab0e-2982c69b8cca",
   "metadata": {},
   "outputs": [
    {
     "name": "stdout",
     "output_type": "stream",
     "text": [
      "['apple', 'Watermelon', 'banana', 'cherry']\n"
     ]
    }
   ],
   "source": [
    "# Insert an item as the second position:\n",
    "thislist = [\"apple\", \"banana\", \"cherry\"]\n",
    "thislist.insert(1, \"Watermelon\")\n",
    "print(thislist)"
   ]
  },
  {
   "cell_type": "markdown",
   "id": "d0c648f5-55b6-416c-a304-68bab20e7e8a",
   "metadata": {},
   "source": [
    "### Extend List\n",
    "#### To append elements from another list to the current list, use the extend() method."
   ]
  },
  {
   "cell_type": "code",
   "execution_count": 99,
   "id": "fcdfe512-d85f-4ae2-a7e0-d257a1133070",
   "metadata": {},
   "outputs": [
    {
     "name": "stdout",
     "output_type": "stream",
     "text": [
      "['apple', 'banana', 'cherry', 'mango', 'pineapple', 'papaya']\n"
     ]
    }
   ],
   "source": [
    "thislist = [\"apple\", \"banana\", \"cherry\"]\n",
    "tropical = [\"mango\", \"pineapple\", \"papaya\"]\n",
    "thislist.extend(tropical)\n",
    "print(thislist)"
   ]
  },
  {
   "cell_type": "markdown",
   "id": "b8958a81-688d-43c3-bf5e-342a87230415",
   "metadata": {},
   "source": [
    "### Add Any Iterable\n",
    "#### The extend() method does not have to append lists, you can add any iterable object (tuples, sets, dictionaries etc.)."
   ]
  },
  {
   "cell_type": "code",
   "execution_count": 102,
   "id": "935f9479-2299-4e50-99f9-6f91bf26ef32",
   "metadata": {},
   "outputs": [
    {
     "name": "stdout",
     "output_type": "stream",
     "text": [
      "['apple', 'banana', 'cherry', 'kiwi', 'orange']\n"
     ]
    }
   ],
   "source": [
    "# Add elements of a tuple to a list:\n",
    "thislist = [\"apple\", \"banana\", \"cherry\"]\n",
    "thistuple = (\"kiwi\", \"orange\")\n",
    "thislist.extend(thistuple)\n",
    "print(thislist)"
   ]
  },
  {
   "cell_type": "markdown",
   "id": "821a8c17-ed82-42fb-a2ad-b9ccb62c15a1",
   "metadata": {},
   "source": [
    "## Remove List Items"
   ]
  },
  {
   "cell_type": "markdown",
   "id": "412cbd54-6878-4e03-a140-27b0af5512d6",
   "metadata": {},
   "source": [
    "### Remove Specified Item\n",
    "#### The remove() method removes the specified item."
   ]
  },
  {
   "cell_type": "code",
   "execution_count": 108,
   "id": "d74a2562-9772-47fb-9651-71232ffc6a03",
   "metadata": {},
   "outputs": [
    {
     "name": "stdout",
     "output_type": "stream",
     "text": [
      "['apple', 'cherry']\n"
     ]
    }
   ],
   "source": [
    "# Remove \"banana\":\n",
    "thislist = [\"apple\", \"banana\", \"cherry\"]\n",
    "thislist.remove(\"banana\")\n",
    "print(thislist)"
   ]
  },
  {
   "cell_type": "code",
   "execution_count": 110,
   "id": "3609409f-c84a-43d7-877e-f1268bf7228b",
   "metadata": {},
   "outputs": [
    {
     "name": "stdout",
     "output_type": "stream",
     "text": [
      "['apple', 'cherry', 'banana', 'kiwi']\n"
     ]
    }
   ],
   "source": [
    "# Remove the first occurrence of \"banana\":\n",
    "thislist = [\"apple\", \"banana\", \"cherry\", \"banana\", \"kiwi\"]\n",
    "thislist.remove(\"banana\")\n",
    "print(thislist)"
   ]
  },
  {
   "cell_type": "markdown",
   "id": "b8bece75-7bd4-4c6f-8ff2-a2613047e845",
   "metadata": {},
   "source": [
    "### Remove Specified Index\n",
    "#### The pop() method removes the specified index."
   ]
  },
  {
   "cell_type": "code",
   "execution_count": 114,
   "id": "5c92dc39-5159-4706-a712-263dd1de134f",
   "metadata": {},
   "outputs": [
    {
     "name": "stdout",
     "output_type": "stream",
     "text": [
      "['apple', 'cherry']\n"
     ]
    }
   ],
   "source": [
    "# Remove the second item:\n",
    "thislist = [\"apple\", \"banana\", \"cherry\"]\n",
    "thislist.pop(1)\n",
    "print(thislist)"
   ]
  },
  {
   "cell_type": "code",
   "execution_count": 116,
   "id": "e4ea5364-67b9-43cf-92e0-3fb01957d705",
   "metadata": {},
   "outputs": [
    {
     "name": "stdout",
     "output_type": "stream",
     "text": [
      "['apple', 'banana']\n"
     ]
    }
   ],
   "source": [
    "# Remove the last item:\n",
    "thislist = [\"apple\", \"banana\", \"cherry\"]\n",
    "thislist.pop()\n",
    "print(thislist)"
   ]
  },
  {
   "cell_type": "markdown",
   "id": "b53786ec-079f-4605-9e00-ddae8a538f87",
   "metadata": {},
   "source": [
    "#### The del keyword also removes the specified index:"
   ]
  },
  {
   "cell_type": "code",
   "execution_count": 119,
   "id": "a3ca8924-a705-42bf-bc2c-9c24b50e0184",
   "metadata": {},
   "outputs": [
    {
     "name": "stdout",
     "output_type": "stream",
     "text": [
      "['banana', 'cherry']\n"
     ]
    }
   ],
   "source": [
    "# Remove the first item:\n",
    "thislist = [\"apple\", \"banana\", \"cherry\"]\n",
    "del thislist[0]\n",
    "print(thislist)"
   ]
  },
  {
   "cell_type": "markdown",
   "id": "4e8c05e5-4f51-43ca-8f78-c4dec72d90f3",
   "metadata": {},
   "source": [
    "#### The del keyword can also delete the list completely."
   ]
  },
  {
   "cell_type": "code",
   "execution_count": 124,
   "id": "f57461e0-f504-4554-84ed-8c3838503bc3",
   "metadata": {},
   "outputs": [
    {
     "ename": "NameError",
     "evalue": "name 'thislist' is not defined",
     "output_type": "error",
     "traceback": [
      "\u001b[1;31m---------------------------------------------------------------------------\u001b[0m",
      "\u001b[1;31mNameError\u001b[0m                                 Traceback (most recent call last)",
      "Cell \u001b[1;32mIn[124], line 3\u001b[0m\n\u001b[0;32m      1\u001b[0m thislist \u001b[38;5;241m=\u001b[39m [\u001b[38;5;124m\"\u001b[39m\u001b[38;5;124mapple\u001b[39m\u001b[38;5;124m\"\u001b[39m, \u001b[38;5;124m\"\u001b[39m\u001b[38;5;124mbanana\u001b[39m\u001b[38;5;124m\"\u001b[39m, \u001b[38;5;124m\"\u001b[39m\u001b[38;5;124mcherry\u001b[39m\u001b[38;5;124m\"\u001b[39m]\n\u001b[0;32m      2\u001b[0m \u001b[38;5;28;01mdel\u001b[39;00m thislist\n\u001b[1;32m----> 3\u001b[0m \u001b[38;5;28mprint\u001b[39m(thislist)\n",
      "\u001b[1;31mNameError\u001b[0m: name 'thislist' is not defined"
     ]
    }
   ],
   "source": [
    "thislist = [\"apple\", \"banana\", \"cherry\"]\n",
    "del thislist\n",
    "print(thislist)"
   ]
  },
  {
   "cell_type": "markdown",
   "id": "ee918ff0-fe08-401a-93c8-f3ba5c88e771",
   "metadata": {},
   "source": [
    "### Clear the List\n",
    "#### The clear() method empties the list.\n",
    "#### The list still remains, but it has no content."
   ]
  },
  {
   "cell_type": "code",
   "execution_count": 127,
   "id": "0ccebd5b-b3df-4041-afd2-606e886774ab",
   "metadata": {},
   "outputs": [
    {
     "name": "stdout",
     "output_type": "stream",
     "text": [
      "[]\n"
     ]
    }
   ],
   "source": [
    "# Clear the list content:\n",
    "thislist = [\"apple\", \"banana\", \"cherry\"]\n",
    "thislist.clear()\n",
    "print(thislist)"
   ]
  },
  {
   "cell_type": "markdown",
   "id": "e75db4ab-8134-4c78-a062-eadfee827bd9",
   "metadata": {},
   "source": [
    "## Loop Lists"
   ]
  },
  {
   "cell_type": "markdown",
   "id": "67353d9f-7d73-4566-a8b2-eb3b2ef8c97c",
   "metadata": {},
   "source": [
    "### Loop through a List"
   ]
  },
  {
   "cell_type": "code",
   "execution_count": 131,
   "id": "2536bed8-61f5-4595-a5ee-ee6b028180a3",
   "metadata": {},
   "outputs": [
    {
     "name": "stdout",
     "output_type": "stream",
     "text": [
      "apple\n",
      "banana\n",
      "cherry\n"
     ]
    }
   ],
   "source": [
    "thislist = [\"apple\", \"banana\", \"cherry\"]\n",
    "for x in thislist:\n",
    "    print(x)"
   ]
  },
  {
   "cell_type": "markdown",
   "id": "24205b94-8287-478b-91a2-aa17be3e966f",
   "metadata": {},
   "source": [
    "### Loop through the Index Numbers"
   ]
  },
  {
   "cell_type": "code",
   "execution_count": 134,
   "id": "1d656776-43aa-495f-aeef-849ce7e1e057",
   "metadata": {},
   "outputs": [
    {
     "name": "stdout",
     "output_type": "stream",
     "text": [
      "apple\n",
      "banana\n",
      "cherry\n"
     ]
    }
   ],
   "source": [
    "thislist = [\"apple\", \"banana\", \"cherry\"]\n",
    "for i in range(0, len(thislist)):\n",
    "    print(thislist[i])"
   ]
  },
  {
   "cell_type": "markdown",
   "id": "7b63fa7b-8e29-4d46-aac9-04bd41fc8c9e",
   "metadata": {},
   "source": [
    "### Using a While Loop"
   ]
  },
  {
   "cell_type": "code",
   "execution_count": 137,
   "id": "ff9d1a34-f450-4658-a5ee-146249b6c130",
   "metadata": {},
   "outputs": [
    {
     "name": "stdout",
     "output_type": "stream",
     "text": [
      "apple\n",
      "banana\n",
      "cherry\n"
     ]
    }
   ],
   "source": [
    "# Print all items, using a while loop to go through all the index numbers:\n",
    "thislist = [\"apple\", \"banana\", \"cherry\"]\n",
    "i = 0\n",
    "while i < len(thislist):\n",
    "    print(thislist[i])\n",
    "    i += 1"
   ]
  },
  {
   "cell_type": "markdown",
   "id": "ad97cec2-3456-4874-92a0-c27533ae52f9",
   "metadata": {},
   "source": [
    "### Looping Using List Comprehension"
   ]
  },
  {
   "cell_type": "code",
   "execution_count": 144,
   "id": "2a24217d-1ebf-45c4-a7bd-d119b2edd5d3",
   "metadata": {},
   "outputs": [
    {
     "name": "stdout",
     "output_type": "stream",
     "text": [
      "apple\n",
      "banana\n",
      "cherry\n"
     ]
    },
    {
     "data": {
      "text/plain": [
       "[None, None, None]"
      ]
     },
     "execution_count": 144,
     "metadata": {},
     "output_type": "execute_result"
    }
   ],
   "source": [
    "# A short hand for loop that will print all items in a list:\n",
    "thislist = [\"apple\", \"banana\", \"cherry\"]\n",
    "[print(x) for x in thislist]"
   ]
  },
  {
   "cell_type": "markdown",
   "id": "cf6f78dd-4726-47a9-936a-64a492a679b9",
   "metadata": {},
   "source": [
    "## List Comprehension\n",
    "### newlist = [expression for item in iterable if condition == True]"
   ]
  },
  {
   "cell_type": "code",
   "execution_count": 149,
   "id": "722a8ae0-70b5-4308-8d1d-8bc58ce66aca",
   "metadata": {},
   "outputs": [
    {
     "name": "stdout",
     "output_type": "stream",
     "text": [
      "['apple', 'banana', 'mango']\n"
     ]
    }
   ],
   "source": [
    "mylist = [\"apple\", \"banana\", \"cherry\", \"kiwi\", \"mango\"]\n",
    "newlist = []\n",
    "for x in mylist:\n",
    "    if \"a\" in x:\n",
    "        newlist.append(x)\n",
    "print(newlist)                "
   ]
  },
  {
   "cell_type": "code",
   "execution_count": 151,
   "id": "e3e6aae2-4f77-41eb-8b95-5eb7d50aad7e",
   "metadata": {},
   "outputs": [
    {
     "name": "stdout",
     "output_type": "stream",
     "text": [
      "['apple', 'banana', 'mango']\n"
     ]
    }
   ],
   "source": [
    "# Using List Comprehension\n",
    "mylist = [\"apple\", \"banana\", \"cherry\", \"kiwi\", \"mango\"]\n",
    "newlist = [x for x in mylist if \"a\" in x]\n",
    "print(newlist)"
   ]
  },
  {
   "cell_type": "code",
   "execution_count": 159,
   "id": "de32b92c-da4f-45ba-87b4-14306a74dc97",
   "metadata": {},
   "outputs": [
    {
     "name": "stdout",
     "output_type": "stream",
     "text": [
      "['apple', 'banana', 'cherry', 'kiwi', 'mango']\n"
     ]
    }
   ],
   "source": [
    "# Without using for:\n",
    "fruits = [\"apple\", \"banana\", \"cherry\", \"kiwi\", \"mango\"]\n",
    "newlist = [x for x in fruits]\n",
    "print(newlist)"
   ]
  },
  {
   "cell_type": "code",
   "execution_count": 167,
   "id": "4bbc21a9-9f12-483f-bd49-eaaf91c0f75d",
   "metadata": {},
   "outputs": [
    {
     "name": "stdout",
     "output_type": "stream",
     "text": [
      "['apple', 'banana', 'cherry', 'kiwi']\n"
     ]
    }
   ],
   "source": [
    "# Using slicing:\n",
    "fruits = [\"apple\", \"banana\", \"cherry\", \"kiwi\", \"mango\"]\n",
    "newlist = [x for x in fruits[0:4]]\n",
    "print(newlist)"
   ]
  },
  {
   "cell_type": "code",
   "execution_count": 173,
   "id": "501915db-0fc0-4420-aa38-65992b0f94c7",
   "metadata": {},
   "outputs": [
    {
     "name": "stdout",
     "output_type": "stream",
     "text": [
      "[0, 1, 2, 3, 4]\n"
     ]
    }
   ],
   "source": [
    "# Using Range:\n",
    "newlist = [x for x in range(10) if x < 5]\n",
    "print(newlist)"
   ]
  },
  {
   "cell_type": "code",
   "execution_count": 175,
   "id": "04559451-3bad-45e9-9498-5aa29cc983c5",
   "metadata": {},
   "outputs": [
    {
     "name": "stdout",
     "output_type": "stream",
     "text": [
      "['APPLE', 'BANANA', 'CHERRY']\n"
     ]
    }
   ],
   "source": [
    "# Get the values in the new list to upper case:\n",
    "Fruits = [\"apple\", \"banana\", \"cherry\"]\n",
    "Newlist = [x.upper() for x in Fruits]\n",
    "print(Newlist)"
   ]
  },
  {
   "cell_type": "code",
   "execution_count": 177,
   "id": "966210f3-6971-465f-b50d-3515e13100d3",
   "metadata": {},
   "outputs": [
    {
     "name": "stdout",
     "output_type": "stream",
     "text": [
      "['orange', 'orange', 'orange']\n"
     ]
    }
   ],
   "source": [
    "#Set all values in the new list to 'orange':\n",
    "Fruits = [\"apple\", \"banana\", \"cherry\"]\n",
    "Newlist = [\"orange\" for x in Fruits]\n",
    "print(Newlist)"
   ]
  },
  {
   "cell_type": "code",
   "execution_count": 179,
   "id": "551515d7-f8f6-445b-896c-514577339bb0",
   "metadata": {},
   "outputs": [
    {
     "name": "stdout",
     "output_type": "stream",
     "text": [
      "['apple', 'orange', 'cherry', 'dragonfruit', 'watermelon']\n"
     ]
    }
   ],
   "source": [
    "# Return \"orange\" instead of \"banana\":\n",
    "Fruits = [\"apple\", \"banana\", \"cherry\", \"dragonfruit\", \"watermelon\"]\n",
    "Newlist = [x if x != \"banana\" else \"orange\" for x in Fruits]\n",
    "print(Newlist)"
   ]
  },
  {
   "cell_type": "markdown",
   "id": "0c03ff7a-a640-4392-9121-f60cc9910ad4",
   "metadata": {},
   "source": [
    "## Sort Lists"
   ]
  },
  {
   "cell_type": "markdown",
   "id": "b56b8c3b-7b4a-4146-910c-8c7f6ccf177b",
   "metadata": {},
   "source": [
    "### Sort List Alphanumerically\n",
    "#### List objects have a sort() method that will sort the list alphanumerically, ascending, by default:"
   ]
  },
  {
   "cell_type": "code",
   "execution_count": 184,
   "id": "5cc1bdb2-6e30-4335-bdc4-244c9fcd72af",
   "metadata": {},
   "outputs": [
    {
     "name": "stdout",
     "output_type": "stream",
     "text": [
      "['banana', 'kiwi', 'mango', 'orange', 'pineapple']\n"
     ]
    }
   ],
   "source": [
    "# Sort the list alphabetically:\n",
    "thislist = [\"orange\", \"mango\", \"kiwi\", \"pineapple\", \"banana\"]\n",
    "thislist.sort()\n",
    "print(thislist)"
   ]
  },
  {
   "cell_type": "code",
   "execution_count": 186,
   "id": "d6985bec-e896-47a5-83a9-597f5692acba",
   "metadata": {},
   "outputs": [
    {
     "name": "stdout",
     "output_type": "stream",
     "text": [
      "[23, 50, 65, 82, 100]\n"
     ]
    }
   ],
   "source": [
    "# Sort the list numerically:\n",
    "thislist = [100, 50, 65, 82, 23]\n",
    "thislist.sort()\n",
    "print(thislist)"
   ]
  },
  {
   "cell_type": "markdown",
   "id": "83cfa855-46ac-465a-b14b-bff7fcf0caca",
   "metadata": {},
   "source": [
    "### Sort Descending\n",
    "#### To sort descending, use the keyword argument reverse = True:"
   ]
  },
  {
   "cell_type": "code",
   "execution_count": 190,
   "id": "b53dc73b-3b99-497a-96c5-ebc952fd986c",
   "metadata": {},
   "outputs": [
    {
     "name": "stdout",
     "output_type": "stream",
     "text": [
      "['pineapple', 'orange', 'mango', 'kiwi', 'banana']\n"
     ]
    }
   ],
   "source": [
    "# Sort the list descending:\n",
    "thislist = [\"orange\", \"mango\", \"kiwi\", \"pineapple\", \"banana\"]\n",
    "thislist.sort(reverse = True)\n",
    "print(thislist)"
   ]
  },
  {
   "cell_type": "code",
   "execution_count": 192,
   "id": "e2536562-76af-4cf8-9764-881971e73122",
   "metadata": {},
   "outputs": [
    {
     "name": "stdout",
     "output_type": "stream",
     "text": [
      "[100, 82, 65, 50, 23]\n"
     ]
    }
   ],
   "source": [
    "# Sort the list descending:\n",
    "thislist = [100, 50, 65, 82, 23]\n",
    "thislist.sort(reverse = True)\n",
    "print(thislist)"
   ]
  },
  {
   "cell_type": "markdown",
   "id": "338a5020-e898-4653-9c2f-91a1312d55eb",
   "metadata": {},
   "source": [
    "## Customize Sort Function"
   ]
  },
  {
   "cell_type": "code",
   "execution_count": 195,
   "id": "841ecbd7-76ec-44a6-9de5-e0c54855cadb",
   "metadata": {},
   "outputs": [
    {
     "name": "stdout",
     "output_type": "stream",
     "text": [
      "[50, 65, 23, 82, 100]\n"
     ]
    }
   ],
   "source": [
    "# Sort the list based on how close the number is to 50:\n",
    "def myfunc(n):\n",
    "    return abs(n - 50)\n",
    "thislist = [100, 50, 65, 82, 23] \n",
    "thislist.sort(key = myfunc)\n",
    "print(thislist)"
   ]
  },
  {
   "cell_type": "markdown",
   "id": "ef97fa5e-5bd2-4849-922f-062a83ed2334",
   "metadata": {},
   "source": [
    "## Case Insensitive Sort"
   ]
  },
  {
   "cell_type": "code",
   "execution_count": 200,
   "id": "724d0727-f374-40fb-976d-90da0a61aa33",
   "metadata": {},
   "outputs": [
    {
     "name": "stdout",
     "output_type": "stream",
     "text": [
      "['Kiwi', 'Orange', 'banana', 'cherry']\n"
     ]
    }
   ],
   "source": [
    "thislist = [\"banana\", \"Orange\", \"Kiwi\", \"cherry\"]\n",
    "thislist.sort()\n",
    "print(thislist)"
   ]
  },
  {
   "cell_type": "code",
   "execution_count": 202,
   "id": "be3178b0-c3fc-481d-b53d-3df5e5bccb49",
   "metadata": {},
   "outputs": [
    {
     "name": "stdout",
     "output_type": "stream",
     "text": [
      "['banana', 'cherry', 'Kiwi', 'Orange']\n"
     ]
    }
   ],
   "source": [
    "thislist = [\"banana\", \"Orange\", \"Kiwi\", \"cherry\"]\n",
    "thislist.sort(key = str.lower)\n",
    "print(thislist)"
   ]
  },
  {
   "cell_type": "markdown",
   "id": "8520d840-c4a7-4b1d-91a9-c5635aa6d364",
   "metadata": {},
   "source": [
    "## Reverse Order"
   ]
  },
  {
   "cell_type": "code",
   "execution_count": 205,
   "id": "b95d64ed-1caf-41ff-8f96-0856918fb171",
   "metadata": {},
   "outputs": [
    {
     "name": "stdout",
     "output_type": "stream",
     "text": [
      "['cherry', 'Kiwi', 'Orange', 'banana']\n"
     ]
    }
   ],
   "source": [
    "thislist = [\"banana\", \"Orange\", \"Kiwi\", \"cherry\"]\n",
    "thislist.reverse()\n",
    "print(thislist)"
   ]
  },
  {
   "cell_type": "markdown",
   "id": "9e589900-74ca-46ea-b26d-a337fdf76182",
   "metadata": {},
   "source": [
    "## Copy Lists"
   ]
  },
  {
   "cell_type": "markdown",
   "id": "cae53db9-c112-4314-839f-7dce66d8f921",
   "metadata": {},
   "source": [
    "### Use the copy() method\n",
    "#### We can use the built-in List method copy() to copy a list."
   ]
  },
  {
   "cell_type": "code",
   "execution_count": 210,
   "id": "2b5adce2-b9f7-4465-abac-601ac2c50067",
   "metadata": {},
   "outputs": [
    {
     "name": "stdout",
     "output_type": "stream",
     "text": [
      "['apple', 'banana', 'cherry']\n"
     ]
    }
   ],
   "source": [
    "# Make a copy of a list with the copy() method:\n",
    "thislist = [\"apple\", \"banana\", \"cherry\"]\n",
    "mylist = thislist.copy()\n",
    "print(mylist)"
   ]
  },
  {
   "cell_type": "markdown",
   "id": "59c109c4-f2d9-4edd-b2f9-ca1bb32da144",
   "metadata": {},
   "source": [
    "### Use the list() method:"
   ]
  },
  {
   "cell_type": "code",
   "execution_count": 213,
   "id": "60e85ff5-52a2-4144-ae99-bbfb6fbf7891",
   "metadata": {},
   "outputs": [
    {
     "name": "stdout",
     "output_type": "stream",
     "text": [
      "['apple', 'banana', 'cherry']\n"
     ]
    }
   ],
   "source": [
    "# Make a copy of a list with the list() method:\n",
    "thislist = [\"apple\", \"banana\", \"cherry\"]\n",
    "mylist = list(thislist)\n",
    "print(mylist)"
   ]
  },
  {
   "cell_type": "markdown",
   "id": "82281a47-7b31-4553-a342-c8f50a39bd4e",
   "metadata": {},
   "source": [
    "### Use the slice Operator"
   ]
  },
  {
   "cell_type": "code",
   "execution_count": 217,
   "id": "03ca6bb9-4b7d-4b22-ba2a-dbbf49a9d3cc",
   "metadata": {},
   "outputs": [
    {
     "name": "stdout",
     "output_type": "stream",
     "text": [
      "['apple', 'banana', 'cherry']\n"
     ]
    }
   ],
   "source": [
    "# Make a copy of a list with the : operator:\n",
    "thislist = [\"apple\", \"banana\", \"cherry\"]\n",
    "mylist = thislist[:]\n",
    "print(mylist)"
   ]
  },
  {
   "cell_type": "markdown",
   "id": "56c76109-4ba3-471a-8c4b-e9f1f19b40dd",
   "metadata": {},
   "source": [
    "## Join Lists\n",
    "### + Operator"
   ]
  },
  {
   "cell_type": "code",
   "execution_count": 221,
   "id": "e93ed43b-e122-4be3-b723-b22a5e4add57",
   "metadata": {},
   "outputs": [
    {
     "name": "stdout",
     "output_type": "stream",
     "text": [
      "['a', 'b', 'c', 1, 2, 3]\n"
     ]
    }
   ],
   "source": [
    "# Join two list:\n",
    "list1 = [\"a\", \"b\", \"c\"]\n",
    "list2 = [1, 2, 3]\n",
    "list3 = list1 + list2\n",
    "print(list3)"
   ]
  },
  {
   "cell_type": "markdown",
   "id": "2ad9e0ce-4b8f-459d-9da8-6799e4961042",
   "metadata": {},
   "source": [
    "### Append"
   ]
  },
  {
   "cell_type": "code",
   "execution_count": 224,
   "id": "0accc861-a524-412b-8f63-9b793f602a55",
   "metadata": {},
   "outputs": [
    {
     "name": "stdout",
     "output_type": "stream",
     "text": [
      "['a', 'b', 'c', 1, 2, 3]\n"
     ]
    }
   ],
   "source": [
    "#Append list2 into list1:\n",
    "list1 = [\"a\", \"b\", \"c\"]\n",
    "list2 = [1, 2, 3]\n",
    "for x in list2:\n",
    "    list1.append(x)\n",
    "print(list1)    "
   ]
  },
  {
   "cell_type": "markdown",
   "id": "617e61a3-ad2f-4efb-a493-4531c17b6db9",
   "metadata": {},
   "source": [
    "### Extend"
   ]
  },
  {
   "cell_type": "code",
   "execution_count": 227,
   "id": "54d31fe4-c6dc-46b3-99a1-32810ec3e656",
   "metadata": {},
   "outputs": [
    {
     "name": "stdout",
     "output_type": "stream",
     "text": [
      "['a', 'b', 'c', 1, 2, 3]\n"
     ]
    }
   ],
   "source": [
    "# Use the extend() method to add list2 at the end of list1:\n",
    "list1 = [\"a\", \"b\" , \"c\"]\n",
    "list2 = [1, 2, 3]\n",
    "list1.extend(list2)\n",
    "print(list1)"
   ]
  },
  {
   "cell_type": "markdown",
   "id": "9df9b859-eb33-41ca-bbf0-7372dc05ceca",
   "metadata": {},
   "source": [
    "# Practice"
   ]
  },
  {
   "cell_type": "code",
   "execution_count": 230,
   "id": "95f1b9bb-224c-4765-b642-7beee7809baa",
   "metadata": {},
   "outputs": [
    {
     "name": "stdout",
     "output_type": "stream",
     "text": [
      "<class 'list'>\n"
     ]
    }
   ],
   "source": [
    "l1 = [1,2,3,4,5]\n",
    "print(type(l1))"
   ]
  },
  {
   "cell_type": "code",
   "execution_count": 232,
   "id": "8f1ec2bd-f7c2-459a-92f1-7c12259a4e0f",
   "metadata": {},
   "outputs": [
    {
     "name": "stdout",
     "output_type": "stream",
     "text": [
      "5\n",
      "12\n",
      "23\n",
      "76\n",
      "45\n",
      "90\n"
     ]
    }
   ],
   "source": [
    "l2 = [1, 2.5, \"N\", True]\n",
    "l3 = [12, 23, 76, 45, 90]\n",
    "\n",
    "print(len(l3))\n",
    "\n",
    "#positive indexing\n",
    "print(l3[0])\n",
    "print(l3[1])\n",
    "print(l3[2])\n",
    "print(l3[3])\n",
    "print(l3[4])"
   ]
  },
  {
   "cell_type": "code",
   "execution_count": 234,
   "id": "51c6fc77-55bb-4dab-8105-747fb854d73f",
   "metadata": {},
   "outputs": [
    {
     "name": "stdout",
     "output_type": "stream",
     "text": [
      "90\n",
      "45\n",
      "76\n",
      "23\n",
      "12\n"
     ]
    }
   ],
   "source": [
    "#negative indexing\n",
    "print(l3[-1])\n",
    "print(l3[-2])\n",
    "print(l3[-3])\n",
    "print(l3[-4])\n",
    "print(l3[-5])"
   ]
  },
  {
   "cell_type": "code",
   "execution_count": 236,
   "id": "a0c3ca2f-3237-4292-8745-3a4cb291ae7a",
   "metadata": {},
   "outputs": [
    {
     "name": "stdout",
     "output_type": "stream",
     "text": [
      "[12, 23]\n",
      "[23, 76, 45]\n",
      "[23, 76, 45, 90]\n",
      "[12, 23, 76, 45, 90]\n",
      "[76, 45]\n"
     ]
    }
   ],
   "source": [
    "#slicing\n",
    "print(l3[0:2])\n",
    "print(l3[1:4])\n",
    "print(l3[1:5])\n",
    "print(l3[0:5])\n",
    "print(l3[2:4])"
   ]
  },
  {
   "cell_type": "code",
   "execution_count": 242,
   "id": "d147f34e-14d1-4b68-acaf-17f600507d32",
   "metadata": {},
   "outputs": [
    {
     "name": "stdout",
     "output_type": "stream",
     "text": [
      "5\n",
      "<class 'list'>\n",
      "apple\n",
      "mango\n",
      "banana\n",
      "['apple', 'mango', 'banana', 'watermelon']\n"
     ]
    }
   ],
   "source": [
    "l4 = [\"apple\", \"mango\", \"banana\", \"watermelon\", \"orange\"]\n",
    "print(len(l4))\n",
    "print(type(l4))\n",
    "print(l4[0])\n",
    "print(l4[1])\n",
    "print(l4[2])\n",
    "print(l4[0:4])"
   ]
  },
  {
   "cell_type": "code",
   "execution_count": 244,
   "id": "4ca072bf-68a2-4707-ad2d-d1a096961483",
   "metadata": {},
   "outputs": [
    {
     "name": "stdout",
     "output_type": "stream",
     "text": [
      "5\n",
      "4\n",
      "[2, 3, 4, 5]\n",
      "[1, 2, 3]\n",
      "[2, 3, 4, 5]\n",
      "[1, 2, 3]\n",
      "[2, 3]\n"
     ]
    }
   ],
   "source": [
    "l1 = [1,2,3,4,5]\n",
    "print(l1[-1])\n",
    "print(l1[-2])\n",
    "print(l1[1:])\n",
    "print(l1[:3])\n",
    "print(l1[-4:])\n",
    "print(l1[:-2])\n",
    "print(l1[-4:-2])"
   ]
  },
  {
   "cell_type": "code",
   "execution_count": 246,
   "id": "355cc68b-c013-4187-b33c-9363f3cd0dbc",
   "metadata": {},
   "outputs": [
    {
     "name": "stdout",
     "output_type": "stream",
     "text": [
      "['coconut', 'mango', 'banana', 'watermelon', 'kiwi', 'cherry']\n",
      "['coconut', 'mango', 'guava', 'guava', 'kiwi', 'cherry']\n"
     ]
    }
   ],
   "source": [
    "l2 = [\"apple\", \"mango\", \"banana\", \"watermelon\", \"kiwi\", \"cherry\"]\n",
    "\n",
    "l2[0] = \"coconut\"\n",
    "print(l2)\n",
    "\n",
    "l2[2:4] = [\"guava\", \"guava\"]\n",
    "print(l2)"
   ]
  },
  {
   "cell_type": "code",
   "execution_count": 248,
   "id": "9616a43f-a7b8-4956-8d1e-c364429a5155",
   "metadata": {},
   "outputs": [
    {
     "name": "stdout",
     "output_type": "stream",
     "text": [
      "['football', 'cricket', 'hockey', 'table tennis']\n",
      "['football', 'cricket', 'carrom', 'hockey', 'table tennis']\n",
      "['football', 'cricket', 'carrom', 'hockey', 'table tennis', 'a', 'b', 'c']\n"
     ]
    }
   ],
   "source": [
    "sports = [\"football\", \"cricket\", \"hockey\"]\n",
    "stud = [\"a\", \"b\", \"c\"]\n",
    "\n",
    "sports.append(\"table tennis\")\n",
    "print(sports)\n",
    "\n",
    "sports.insert(2, \"carrom\")\n",
    "print(sports)\n",
    "\n",
    "sports.extend(stud)\n",
    "print(sports)"
   ]
  },
  {
   "cell_type": "code",
   "execution_count": 250,
   "id": "0e82a930-99af-4322-a5f2-a4b450506168",
   "metadata": {},
   "outputs": [
    {
     "name": "stdout",
     "output_type": "stream",
     "text": [
      "['football', 'cricket', 'carrom', 'table tennis', 'a', 'b', 'c']\n",
      "['football', 'cricket', 'carrom', 'table tennis', 'b', 'c']\n",
      "['football', 'cricket', 'carrom', 'table tennis', 'b']\n",
      "['football', 'cricket', 'carrom', 'b']\n"
     ]
    }
   ],
   "source": [
    "sports = [\"football\", \"cricket\", \"carrom\", \"hockey\", \"table tennis\", \"a\", \"b\", \"c\"]\n",
    "\n",
    "sports.remove(\"hockey\")\n",
    "print(sports)\n",
    "\n",
    "sports.pop(4)\n",
    "print(sports)\n",
    "\n",
    "sports.pop()#removes the last element of the list\n",
    "print(sports)\n",
    "\n",
    "del sports[3]#important\n",
    "print(sports)"
   ]
  },
  {
   "cell_type": "code",
   "execution_count": 252,
   "id": "9af30afb-b3c7-4df6-8d08-d4aea0addbb2",
   "metadata": {},
   "outputs": [
    {
     "name": "stdout",
     "output_type": "stream",
     "text": [
      "['football', 'cricket', 'carrom', 'table tennis', 'a', 'b', 'c']\n",
      "['football', 'cricket', 'carrom', 'table tennis', 'b', 'c']\n",
      "['football', 'cricket', 'carrom', 'table tennis', 'b']\n",
      "['football', 'cricket', 'carrom', 'b']\n",
      "['football', 'cricket']\n"
     ]
    }
   ],
   "source": [
    "sports = [\"football\", \"cricket\", \"carrom\", \"hockey\", \"table tennis\", \"a\", \"b\", \"c\"]\n",
    "\n",
    "sports.remove(\"hockey\")\n",
    "print(sports)\n",
    "\n",
    "sports.pop(4)\n",
    "print(sports)\n",
    "\n",
    "sports.pop()#removes the last element of the list\n",
    "print(sports)\n",
    "\n",
    "del sports[3]#important\n",
    "print(sports)\n",
    "\n",
    "del sports[2:5]\n",
    "print(sports)"
   ]
  },
  {
   "cell_type": "code",
   "execution_count": 254,
   "id": "5ff17f9f-49fa-43ca-a189-38538055c479",
   "metadata": {},
   "outputs": [
    {
     "name": "stdout",
     "output_type": "stream",
     "text": [
      "['football', 'cricket', 'carrom', 'hockey', 'table tennis', 'a', 'b', 'c']\n",
      "[]\n"
     ]
    }
   ],
   "source": [
    "sports = [\"football\", \"cricket\", \"carrom\", \"hockey\", \"table tennis\", \"a\", \"b\", \"c\"]\n",
    "print(sports)\n",
    "sports.clear()\n",
    "print(sports)\n",
    "del sports\n",
    "#print(sports) IT WILL THROW AN ERROR AS WE HAVE DELETED THE LIST"
   ]
  },
  {
   "cell_type": "code",
   "execution_count": 256,
   "id": "16cdb609-a195-4c34-8ae3-b650415d4be4",
   "metadata": {},
   "outputs": [
    {
     "name": "stdout",
     "output_type": "stream",
     "text": [
      "['Deepak', 'Faruk', 'Mansi', 'Mohsin', 'Prakhar', 'Puja']\n",
      "['Puja', 'Prakhar', 'Mohsin', 'Mansi', 'Faruk', 'Deepak']\n"
     ]
    }
   ],
   "source": [
    "#SORTING A LIST\n",
    "students = [\"Prakhar\", \"Faruk\", \"Deepak\", \"Mansi\", \"Puja\", \"Mohsin\"]\n",
    "\n",
    "students.sort()\n",
    "print(students) \n",
    "\n",
    "students.sort(reverse = True)\n",
    "print(students)"
   ]
  },
  {
   "cell_type": "code",
   "execution_count": 258,
   "id": "78f0045d-fd25-42c6-a998-73c3007ed94e",
   "metadata": {},
   "outputs": [
    {
     "name": "stdout",
     "output_type": "stream",
     "text": [
      "[1, 2, 3, 4]\n",
      "[1, 2, 3, 4]\n",
      "[1, 2, 3, 4]\n"
     ]
    }
   ],
   "source": [
    "#COPYING A LIST\n",
    "l1 = [1,2,3,4]\n",
    "l2 = l1.copy()\n",
    "print(l2)\n",
    "\n",
    "l3 = list(l1)\n",
    "print(l3)\n",
    "\n",
    "l4 = l1[:]\n",
    "print(l4)"
   ]
  },
  {
   "cell_type": "code",
   "execution_count": 260,
   "id": "2264d4a2-35aa-4ff0-84a7-c2f79534fff2",
   "metadata": {},
   "outputs": [
    {
     "name": "stdout",
     "output_type": "stream",
     "text": [
      "['Prakhar', 'Faruk', 'Deepak', 'Mansi', 'Puja', 'Mohsin', 1, 2, 3, 4]\n",
      "['Prakhar', 'Faruk', 'Deepak', 'Mansi', 'Puja', 'Mohsin', 1, 2, 3, 4, 1, 2, 3, 4]\n"
     ]
    },
    {
     "data": {
      "text/plain": [
       "0"
      ]
     },
     "execution_count": 260,
     "metadata": {},
     "output_type": "execute_result"
    }
   ],
   "source": [
    "student = [\"Prakhar\", \"Faruk\", \"Deepak\", \"Mansi\", \"Puja\", \"Mohsin\"]\n",
    "\n",
    "l1 = [1,2,3,4]\n",
    "student = student + l1\n",
    "\n",
    "print(student)\n",
    "student.extend(l1)\n",
    "\n",
    "print(student)\n",
    "student.index(\"Prakhar\")"
   ]
  },
  {
   "cell_type": "code",
   "execution_count": 266,
   "id": "d0ff6abd-c56c-4662-8f6a-97c157cd83e5",
   "metadata": {},
   "outputs": [
    {
     "data": {
      "text/plain": [
       "4"
      ]
     },
     "execution_count": 266,
     "metadata": {},
     "output_type": "execute_result"
    }
   ],
   "source": [
    "l1 = [22,34,44,44,44,44,7,76]\n",
    "l1.count(44)"
   ]
  },
  {
   "cell_type": "code",
   "execution_count": 268,
   "id": "bb0036d0-0bb6-441f-92f7-7c0157926959",
   "metadata": {},
   "outputs": [
    {
     "data": {
      "text/plain": [
       "1"
      ]
     },
     "execution_count": 268,
     "metadata": {},
     "output_type": "execute_result"
    }
   ],
   "source": [
    "l1.count(22)"
   ]
  },
  {
   "cell_type": "code",
   "execution_count": 270,
   "id": "2d329f1c-a65c-4845-a8ca-cb6e422283b8",
   "metadata": {},
   "outputs": [],
   "source": [
    "#CREATION OF LIST\n",
    "\n",
    "pharma_company = [\"Sun Pharmaceutical Industries\", \"Dr Reddy's Pharmacy\", \"Cipla Limited\", \"Torrent Pharmaceuticals\", \"Zydus Lifesciences\", \"Biocon Limited\",\"Lupin Limited\", \"Aurobindo Pharma\"]\n",
    "hospital_names = [\"Apollo Hospitals\", \"Fortis_Healthcare\", \"Max Healthcare\", \"AIIMS\", \"Medanta\", \"Manipal Hospitals\", \"Indira IVF\",\"Narayan Health\", \"Tata Memorial Hospital\"]\n"
   ]
  },
  {
   "cell_type": "code",
   "execution_count": 272,
   "id": "633ebfc0-2dfe-49c2-a1fa-3796e7629ec0",
   "metadata": {},
   "outputs": [
    {
     "name": "stdout",
     "output_type": "stream",
     "text": [
      "<class 'list'>\n",
      "<class 'list'>\n"
     ]
    }
   ],
   "source": [
    "#DATATYPE\n",
    "print(type(pharma_company))\n",
    "print(type(hospital_names))"
   ]
  },
  {
   "cell_type": "code",
   "execution_count": 274,
   "id": "4214b298-eaf2-4da9-bcd4-64d3c17e44a5",
   "metadata": {},
   "outputs": [
    {
     "name": "stdout",
     "output_type": "stream",
     "text": [
      "8\n",
      "9\n"
     ]
    }
   ],
   "source": [
    "#LENGTH OF THE LISTS\n",
    "print(len(pharma_company))\n",
    "print(len(hospital_names))"
   ]
  },
  {
   "cell_type": "code",
   "execution_count": 276,
   "id": "41dc547b-445c-4ff7-a31d-153af4323429",
   "metadata": {},
   "outputs": [
    {
     "data": {
      "text/plain": [
       "0"
      ]
     },
     "execution_count": 276,
     "metadata": {},
     "output_type": "execute_result"
    }
   ],
   "source": [
    "#FINDING INDEX\n",
    "hospital_names.index(\"Apollo Hospitals\")"
   ]
  },
  {
   "cell_type": "code",
   "execution_count": 278,
   "id": "0a8ced74-2a96-4db9-9bca-60f3be36cf35",
   "metadata": {},
   "outputs": [
    {
     "name": "stdout",
     "output_type": "stream",
     "text": [
      "Sun Pharmaceutical Industries\n",
      "Dr Reddy's Pharmacy\n",
      "Cipla Limited\n",
      "Torrent Pharmaceuticals\n"
     ]
    }
   ],
   "source": [
    "#POSITIVE INDEXING OF PHARMA COMPANY LIST\n",
    "\n",
    "print(pharma_company[0])\n",
    "print(pharma_company[1])\n",
    "print(pharma_company[2])\n",
    "print(pharma_company[3])"
   ]
  },
  {
   "cell_type": "code",
   "execution_count": 280,
   "id": "030e23e4-6fcb-470f-a0e0-dc305e32e1d8",
   "metadata": {},
   "outputs": [
    {
     "name": "stdout",
     "output_type": "stream",
     "text": [
      "Zydus Lifesciences\n",
      "Torrent Pharmaceuticals\n",
      "Cipla Limited\n",
      "Dr Reddy's Pharmacy\n",
      "Sun Pharmaceutical Industries\n"
     ]
    }
   ],
   "source": [
    "#NEGATIVE INDEXING OF PHARMA COMPANY LIST\n",
    "print(pharma_company[-4])\n",
    "print(pharma_company[-5])\n",
    "print(pharma_company[-6])\n",
    "print(pharma_company[-7])\n",
    "print(pharma_company[-8])"
   ]
  },
  {
   "cell_type": "code",
   "execution_count": 282,
   "id": "7016c9e6-935a-4be2-b87d-f496bb2a8f11",
   "metadata": {},
   "outputs": [
    {
     "name": "stdout",
     "output_type": "stream",
     "text": [
      "['Sun Pharmaceutical Industries', \"Dr Reddy's Pharmacy\", 'Cipla Limited', 'Torrent Pharmaceuticals', 'Zydus Lifesciences', 'Biocon Limited']\n"
     ]
    }
   ],
   "source": [
    "#SLICING OF PHARMA COMPANY LIST\n",
    "\n",
    "print(pharma_company[0:6])"
   ]
  },
  {
   "cell_type": "code",
   "execution_count": 284,
   "id": "f709a9bb-d6d0-4dd7-bf76-6f04eb5f2115",
   "metadata": {},
   "outputs": [
    {
     "name": "stdout",
     "output_type": "stream",
     "text": [
      "['Sun Pharmaceutical Industries', \"Dr Reddy's Pharmacy\", 'Cipla Limited', 'Torrent Pharmaceuticals', 'Zydus Lifesciences', 'Biocon Limited']\n"
     ]
    }
   ],
   "source": [
    "print(pharma_company[:6])"
   ]
  },
  {
   "cell_type": "code",
   "execution_count": 286,
   "id": "cd2de9e2-9ff4-484a-a68f-f0fbc1983074",
   "metadata": {},
   "outputs": [
    {
     "name": "stdout",
     "output_type": "stream",
     "text": [
      "[\"Dr Reddy's Pharmacy\", 'Cipla Limited', 'Torrent Pharmaceuticals', 'Zydus Lifesciences']\n"
     ]
    }
   ],
   "source": [
    "print(pharma_company[1:5])"
   ]
  },
  {
   "cell_type": "code",
   "execution_count": 288,
   "id": "4ffd3018-5215-4993-922d-b840b4cabe9d",
   "metadata": {},
   "outputs": [
    {
     "name": "stdout",
     "output_type": "stream",
     "text": [
      "['Cipla Limited', 'Torrent Pharmaceuticals', 'Zydus Lifesciences', 'Biocon Limited', 'Lupin Limited']\n"
     ]
    }
   ],
   "source": [
    "print(pharma_company[2:7])"
   ]
  },
  {
   "cell_type": "code",
   "execution_count": 290,
   "id": "fbeec10f-956a-489e-b038-f1231c602a2b",
   "metadata": {},
   "outputs": [
    {
     "name": "stdout",
     "output_type": "stream",
     "text": [
      "['Sun Pharmaceutical Industries', \"Dr Reddy's Pharmacy\", 'Cipla Limited', 'Torrent Pharmaceuticals', 'Zydus Lifesciences', 'Biocon Limited']\n"
     ]
    }
   ],
   "source": [
    "#SLICING OF PHARMA COMPANY LIST WITH NEGATIVE INDEXES\n",
    "\n",
    "print(pharma_company[-8:-2])"
   ]
  },
  {
   "cell_type": "code",
   "execution_count": 292,
   "id": "63f76f56-c751-48e3-9bc5-e62a000a8e99",
   "metadata": {},
   "outputs": [
    {
     "name": "stdout",
     "output_type": "stream",
     "text": [
      "['Sun Pharmaceutical Industries', \"Dr Reddy's Pharmacy\", 'Cipla Limited', 'Torrent Pharmaceuticals', 'Zydus Lifesciences', 'Biocon Limited']\n"
     ]
    }
   ],
   "source": [
    "print(pharma_company[:-2])"
   ]
  },
  {
   "cell_type": "code",
   "execution_count": 294,
   "id": "3affeec1-4d31-4a01-9022-1d144650f5c4",
   "metadata": {},
   "outputs": [
    {
     "name": "stdout",
     "output_type": "stream",
     "text": [
      "['Zydus Lifesciences', 'Biocon Limited', 'Lupin Limited', 'Aurobindo Pharma']\n"
     ]
    }
   ],
   "source": [
    "print(pharma_company[-4:])"
   ]
  },
  {
   "cell_type": "code",
   "execution_count": 302,
   "id": "f77b2181-6f2c-46e2-8174-2cdfba99c4f0",
   "metadata": {},
   "outputs": [
    {
     "name": "stdout",
     "output_type": "stream",
     "text": [
      "['Sun Pharmaceutical Industries', 'Zeelab', 'Cipla Limited', 'Shivaay Medicos', 'MedLife', 'Biocon Limited', 'Lupin Limited', 'Aurobindo Pharma']\n"
     ]
    }
   ],
   "source": [
    "#REPLACING THE ELEMENTS OF THE LISTS\n",
    "\n",
    "pharma_company[1] = \"Zeelab\"\n",
    "print(pharma_company)"
   ]
  },
  {
   "cell_type": "code",
   "execution_count": 300,
   "id": "bd581da4-b4ce-4fb6-91c4-efbc53b37731",
   "metadata": {},
   "outputs": [
    {
     "name": "stdout",
     "output_type": "stream",
     "text": [
      "['Sun Pharmaceutical Industries', \"Dr Reddy's Pharmacy\", 'Cipla Limited', 'Shivaay Medicos', 'MedLife', 'Biocon Limited', 'Lupin Limited', 'Aurobindo Pharma']\n"
     ]
    }
   ],
   "source": [
    "pharma_company[3:5] = [\"Shivaay Medicos\", \"MedLife\"]\n",
    "print(pharma_company)"
   ]
  },
  {
   "cell_type": "code",
   "execution_count": 298,
   "id": "abb4c075-65f3-44a3-8565-9f90b4ac6a6b",
   "metadata": {},
   "outputs": [
    {
     "name": "stdout",
     "output_type": "stream",
     "text": [
      "['Apollo Hospitals', 'Fortis_Healthcare', 'Max Healthcare', 'AIIMS', 'Medanta', 'Manipal Hospitals', 'Pulse Hospital', 'RIMS', 'Healing Heart Hospital']\n"
     ]
    }
   ],
   "source": [
    "hospital_names[6] = \"Pulse Hospital\"\n",
    "print(hospital_names)"
   ]
  },
  {
   "cell_type": "code",
   "execution_count": 296,
   "id": "c051605c-f911-4f24-8413-6872aadc47dd",
   "metadata": {},
   "outputs": [
    {
     "name": "stdout",
     "output_type": "stream",
     "text": [
      "['Apollo Hospitals', 'Fortis_Healthcare', 'Max Healthcare', 'AIIMS', 'Medanta', 'Manipal Hospitals', 'Santevita', 'RIMS', 'Healing Heart Hospital']\n"
     ]
    }
   ],
   "source": [
    "hospital_names[6:9] = [\"Santevita\", \"RIMS\", \"Healing Heart Hospital\"]\n",
    "print(hospital_names)"
   ]
  },
  {
   "cell_type": "code",
   "execution_count": 304,
   "id": "917b6d7e-f21f-404b-95f8-91622d4d64fe",
   "metadata": {},
   "outputs": [
    {
     "name": "stdout",
     "output_type": "stream",
     "text": [
      "['Sun Pharmaceutical Industries', 'Zeelab', 'Cipla Limited', 'Shivaay Medicos', 'MedLife', 'Biocon Limited', 'Lupin Limited', 'Aurobindo Pharma', 'Chaitanya Pharmacy']\n"
     ]
    }
   ],
   "source": [
    "#APPENDING LIST\n",
    "pharma_company.append(\"Chaitanya Pharmacy\")\n",
    "print(pharma_company)"
   ]
  },
  {
   "cell_type": "code",
   "execution_count": 306,
   "id": "3040ab4c-0a61-4458-873b-efcaa8c37b86",
   "metadata": {},
   "outputs": [
    {
     "name": "stdout",
     "output_type": "stream",
     "text": [
      "['Sun Pharmaceutical Industries', 'Zeelab', 'Cipla Limited', 'Shivaay Medicos', 'MedLife', 'Zeelab', 'Biocon Limited', 'Lupin Limited', 'Aurobindo Pharma', 'Chaitanya Pharmacy']\n"
     ]
    }
   ],
   "source": [
    "#INSERING AN ELEMENT IN LIST\n",
    "pharma_company.insert(5,\"Zeelab\")\n",
    "print(pharma_company)"
   ]
  },
  {
   "cell_type": "code",
   "execution_count": 308,
   "id": "44feb54e-85b6-4de7-9e7a-4149d890f24e",
   "metadata": {},
   "outputs": [
    {
     "name": "stdout",
     "output_type": "stream",
     "text": [
      "['Sun Pharmaceutical Industries', 'Zeelab', 'Cipla Limited', 'Shivaay Medicos', 'MedLife', 'Zeelab', 'Biocon Limited', 'Lupin Limited', 'Aurobindo Pharma', 'Chaitanya Pharmacy', 'Apollo Hospitals', 'Fortis_Healthcare', 'Max Healthcare', 'AIIMS', 'Medanta', 'Manipal Hospitals', 'Pulse Hospital', 'RIMS', 'Healing Heart Hospital']\n"
     ]
    }
   ],
   "source": [
    "#EXTENDING A LIST\n",
    "pharma_company.extend(hospital_names)\n",
    "print(pharma_company)"
   ]
  },
  {
   "cell_type": "code",
   "execution_count": 310,
   "id": "d4b913c9-7e4c-463f-8ec1-e470e886beb5",
   "metadata": {},
   "outputs": [
    {
     "name": "stdout",
     "output_type": "stream",
     "text": [
      "['Sun Pharmaceutical Industries', 'Zeelab', 'Shivaay Medicos', 'MedLife', 'Zeelab', 'Biocon Limited', 'Lupin Limited', 'Aurobindo Pharma', 'Chaitanya Pharmacy', 'Apollo Hospitals', 'Fortis_Healthcare', 'Max Healthcare', 'AIIMS', 'Medanta', 'Manipal Hospitals', 'Pulse Hospital', 'RIMS', 'Healing Heart Hospital']\n"
     ]
    }
   ],
   "source": [
    " #REMOVING AN ELEMENT\n",
    "pharma_company.remove(\"Cipla Limited\")\n",
    "print(pharma_company)"
   ]
  },
  {
   "cell_type": "code",
   "execution_count": 312,
   "id": "f9c28cdb-6e45-459a-9ff4-d5649c0e774f",
   "metadata": {},
   "outputs": [
    {
     "name": "stdout",
     "output_type": "stream",
     "text": [
      "['Sun Pharmaceutical Industries', 'Zeelab', 'Shivaay Medicos', 'MedLife', 'Zeelab', 'Biocon Limited', 'Lupin Limited', 'Aurobindo Pharma', 'Chaitanya Pharmacy', 'Apollo Hospitals', 'Fortis_Healthcare', 'Max Healthcare', 'AIIMS', 'Medanta', 'Manipal Hospitals', 'Pulse Hospital', 'RIMS']\n"
     ]
    }
   ],
   "source": [
    "#POPING AN ELEMENT\n",
    "pharma_company.pop() #REMOVES THE VERY LAST ELEMENT FROM THE LIST\n",
    "print(pharma_company)"
   ]
  },
  {
   "cell_type": "code",
   "execution_count": 314,
   "id": "6d6f2c88-7ce2-45af-974d-f39ded8a75b6",
   "metadata": {},
   "outputs": [
    {
     "name": "stdout",
     "output_type": "stream",
     "text": [
      "['Sun Pharmaceutical Industries', 'Zeelab', 'Shivaay Medicos', 'Zeelab', 'Biocon Limited', 'Lupin Limited', 'Aurobindo Pharma', 'Chaitanya Pharmacy', 'Apollo Hospitals', 'Fortis_Healthcare', 'Max Healthcare', 'AIIMS', 'Medanta', 'Manipal Hospitals', 'Pulse Hospital', 'RIMS']\n"
     ]
    }
   ],
   "source": [
    "pharma_company.pop(3)\n",
    "print(pharma_company)"
   ]
  },
  {
   "cell_type": "code",
   "execution_count": 316,
   "id": "fe06506e-5349-4a13-aaab-572ecf3b8f8d",
   "metadata": {},
   "outputs": [
    {
     "name": "stdout",
     "output_type": "stream",
     "text": [
      "['Sun Pharmaceutical Industries', 'Zeelab', 'Zeelab', 'Biocon Limited', 'Lupin Limited', 'Aurobindo Pharma', 'Chaitanya Pharmacy', 'Apollo Hospitals', 'Fortis_Healthcare', 'Max Healthcare', 'AIIMS', 'Medanta', 'Manipal Hospitals', 'Pulse Hospital', 'RIMS']\n"
     ]
    }
   ],
   "source": [
    "#DELETING AN ELEMENT  \n",
    "del pharma_company[2]\n",
    "print(pharma_company)"
   ]
  },
  {
   "cell_type": "code",
   "execution_count": 318,
   "id": "fa2a3fad-6f88-46f4-bd53-7cb429cff4b1",
   "metadata": {},
   "outputs": [
    {
     "name": "stdout",
     "output_type": "stream",
     "text": [
      "['Apollo Hospitals', 'Fortis_Healthcare', 'Max Healthcare', 'Medanta', 'Manipal Hospitals', 'Pulse Hospital', 'RIMS', 'Healing Heart Hospital']\n"
     ]
    }
   ],
   "source": [
    "del hospital_names[3]\n",
    "print(hospital_names)"
   ]
  },
  {
   "cell_type": "code",
   "execution_count": 320,
   "id": "3f712bea-14c3-402c-8604-fd43dea1d773",
   "metadata": {},
   "outputs": [
    {
     "name": "stdout",
     "output_type": "stream",
     "text": [
      "['Sun Pharmaceutical Industries', \"Dr Reddy's Pharmacy\", 'Cipla Limited', 'Torrent Pharmaceuticals', 'Aurobindo Pharma']\n"
     ]
    }
   ],
   "source": [
    "#DELETING A SLICE OF A LIST\n",
    "pharma_company = [\"Sun Pharmaceutical Industries\", \"Dr Reddy's Pharmacy\", \"Cipla Limited\", \"Torrent Pharmaceuticals\", \"Zydus Lifesciences\", \"Biocon Limited\",\"Lupin Limited\", \"Aurobindo Pharma\"]\n",
    "del pharma_company[4:7]\n",
    "print(pharma_company)"
   ]
  },
  {
   "cell_type": "code",
   "execution_count": 322,
   "id": "b0de5ab0-a2c8-4f2c-83d9-1d254597e8d8",
   "metadata": {},
   "outputs": [
    {
     "name": "stdout",
     "output_type": "stream",
     "text": [
      "[]\n"
     ]
    }
   ],
   "source": [
    "#CLEARING A LIST\n",
    "hospital_names.clear()\n",
    "print(hospital_names)"
   ]
  },
  {
   "cell_type": "code",
   "execution_count": 324,
   "id": "a71cba9c-47cd-4f9c-bbfd-0961c96c2e12",
   "metadata": {},
   "outputs": [
    {
     "name": "stdout",
     "output_type": "stream",
     "text": [
      "['Aurobindo Pharma', 'Cipla Limited', \"Dr Reddy's Pharmacy\", 'Sun Pharmaceutical Industries', 'Torrent Pharmaceuticals']\n"
     ]
    }
   ],
   "source": [
    "#SORTION OF LISTS\n",
    "pharma_company.sort() #ASCENDING ORDER\n",
    "print(pharma_company)"
   ]
  },
  {
   "cell_type": "code",
   "execution_count": 326,
   "id": "ca05e084-6bcc-43e4-82ac-ddd895c050da",
   "metadata": {},
   "outputs": [
    {
     "name": "stdout",
     "output_type": "stream",
     "text": [
      "['Torrent Pharmaceuticals', 'Sun Pharmaceutical Industries', \"Dr Reddy's Pharmacy\", 'Cipla Limited', 'Aurobindo Pharma']\n"
     ]
    }
   ],
   "source": [
    "pharma_company.sort(reverse =  True)#DESCENDING ORDER\n",
    "print(pharma_company)"
   ]
  },
  {
   "cell_type": "code",
   "execution_count": 332,
   "id": "bf6fc7e3-661b-4cb8-a59b-8bf3a89782df",
   "metadata": {},
   "outputs": [
    {
     "name": "stdout",
     "output_type": "stream",
     "text": [
      "['Torrent Pharmaceuticals', 'Sun Pharmaceutical Industries', \"Dr Reddy's Pharmacy\", 'Cipla Limited', 'Aurobindo Pharma']\n"
     ]
    }
   ],
   "source": [
    "#COPYING A LIST\n",
    "l1 = pharma_company.copy()\n",
    "print(l1)"
   ]
  },
  {
   "cell_type": "code",
   "execution_count": 334,
   "id": "9983722f-e131-4d29-a07f-89a1682adc40",
   "metadata": {},
   "outputs": [
    {
     "name": "stdout",
     "output_type": "stream",
     "text": [
      "['Torrent Pharmaceuticals', 'Sun Pharmaceutical Industries', \"Dr Reddy's Pharmacy\", 'Cipla Limited', 'Aurobindo Pharma']\n"
     ]
    }
   ],
   "source": [
    "l2 = list(pharma_company)\n",
    "print(l2)"
   ]
  },
  {
   "cell_type": "code",
   "execution_count": 336,
   "id": "5a462988-8c44-4044-95aa-4b52447cdaa3",
   "metadata": {},
   "outputs": [
    {
     "name": "stdout",
     "output_type": "stream",
     "text": [
      "['Torrent Pharmaceuticals', 'Sun Pharmaceutical Industries', \"Dr Reddy's Pharmacy\", 'Cipla Limited', 'Aurobindo Pharma']\n"
     ]
    }
   ],
   "source": [
    "l3 = pharma_company[:]\n",
    "print(l3)"
   ]
  },
  {
   "cell_type": "code",
   "execution_count": 338,
   "id": "669acba3-a1b9-4f05-92cd-4f93c917f5a1",
   "metadata": {},
   "outputs": [
    {
     "data": {
      "text/plain": [
       "3"
      ]
     },
     "execution_count": 338,
     "metadata": {},
     "output_type": "execute_result"
    }
   ],
   "source": [
    "list_1 = [56,54,34,66,56,78,88,98,78,87,65,45,44,333,90,23,56,55,65,44,34,98,78]\n",
    "list_2 = [\"Naina\", 2, 3,4,5,6,7,8,9,0,11,12,13,14,15,16,17,18,19,20,21,22,34,4,24,56]\n",
    "\n",
    "#COUNT OF ELEMENTS IN A LIST\n",
    "list_1.count(56)"
   ]
  },
  {
   "cell_type": "code",
   "execution_count": 340,
   "id": "45aaf4f3-636e-4795-a3fa-4a2d4c1ff310",
   "metadata": {},
   "outputs": [
    {
     "data": {
      "text/plain": [
       "1"
      ]
     },
     "execution_count": 340,
     "metadata": {},
     "output_type": "execute_result"
    }
   ],
   "source": [
    "list_1.count(88)"
   ]
  },
  {
   "cell_type": "code",
   "execution_count": 342,
   "id": "da962aff-4f71-486d-8ed5-b567fb95a4ea",
   "metadata": {},
   "outputs": [
    {
     "name": "stdout",
     "output_type": "stream",
     "text": [
      "[56, 54, 34, 66, 56, 78, 88, 98, 78, 87, 65, 45, 44, 333, 90, 23, 56, 55, 65, 44, 34, 98, 78, 'Naina', 2, 3, 4, 5, 6, 7, 8, 9, 0, 11, 12, 13, 14, 15, 16, 17, 18, 19, 20, 21, 22, 34, 4, 24, 56]\n"
     ]
    }
   ],
   "source": [
    "#CONCATENATION\n",
    "list_1 = list_1 + list_2\n",
    "print(list_1)"
   ]
  },
  {
   "cell_type": "code",
   "execution_count": 344,
   "id": "58e465a5-a369-4971-943f-9ffe1e202834",
   "metadata": {},
   "outputs": [],
   "source": [
    "pharma_company = [\"Sun Pharmaceutical Industries\", \"Dr Reddy's Pharmacy\", \"Cipla Limited\", \"Torrent Pharmaceuticals\", \"Zydus Lifesciences\", \"Biocon Limited\",\"Lupin Limited\", \"Aurobindo Pharma\"]\n",
    "hospital_names = [\"Apollo Hospitals\", \"Fortis_Healthcare\", \"Max Healthcare\", \"AIIMS\", \"Medanta\", \"Manipal Hospitals\", \"Indira IVF\",\"Narayan Health\", \"Tata Memorial Hospital\"]\n",
    "\n",
    "#del pharma_company\n",
    "#print(pharma_company)  #THIS WILL THROW UP AN ERROR AS WE HAVE ALREADY DELETED TEH LIST 'pharma_company' SO THERE IS NOTHING LEFT TO PRINT\n"
   ]
  }
 ],
 "metadata": {
  "kernelspec": {
   "display_name": "Python [conda env:base] *",
   "language": "python",
   "name": "conda-base-py"
  },
  "language_info": {
   "codemirror_mode": {
    "name": "ipython",
    "version": 3
   },
   "file_extension": ".py",
   "mimetype": "text/x-python",
   "name": "python",
   "nbconvert_exporter": "python",
   "pygments_lexer": "ipython3",
   "version": "3.12.7"
  }
 },
 "nbformat": 4,
 "nbformat_minor": 5
}
